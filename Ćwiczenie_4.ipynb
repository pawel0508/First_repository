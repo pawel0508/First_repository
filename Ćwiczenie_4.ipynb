{
  "nbformat": 4,
  "nbformat_minor": 0,
  "metadata": {
    "colab": {
      "name": "051-060_exercises.ipynb",
      "provenance": [],
      "collapsed_sections": [],
      "include_colab_link": true
    },
    "kernelspec": {
      "name": "python3",
      "display_name": "Python 3"
    }
  },
  "cells": [
    {
      "cell_type": "markdown",
      "metadata": {
        "id": "view-in-github",
        "colab_type": "text"
      },
      "source": [
        "<a href=\"https://colab.research.google.com/github/pawel0508/First_repository/blob/master/%C4%86wiczenie_4.ipynb\" target=\"_parent\"><img src=\"https://colab.research.google.com/assets/colab-badge.svg\" alt=\"Open In Colab\"/></a>"
      ]
    },
    {
      "cell_type": "markdown",
      "metadata": {
        "id": "WLEgCW5F1hho",
        "colab_type": "text"
      },
      "source": [
        "## Numpy\n",
        "\n",
        "### Spis treści:\n",
        "* [Import biblioteki](#0)\n",
        "* [Ćwiczenie 51](#1)\n",
        "* [Ćwiczenie 52](#2)\n",
        "* [Ćwiczenie 53](#3)\n",
        "* [Ćwiczenie 54](#4)\n",
        "* [Ćwiczenie 55](#5)\n",
        "* [Ćwiczenie 56](#6)\n",
        "* [Ćwiczenie 57](#7)\n",
        "* [Ćwiczenie 58](#8)\n",
        "* [Ćwiczenie 59](#9)\n",
        "* [Ćwiczenie 60](#10)"
      ]
    },
    {
      "cell_type": "markdown",
      "metadata": {
        "id": "zeLOLmTj1kBM",
        "colab_type": "text"
      },
      "source": [
        "### <a name='0'></a>Import biblioteki"
      ]
    },
    {
      "cell_type": "code",
      "metadata": {
        "id": "HXMB7SMe1Wnz",
        "colab_type": "code",
        "colab": {
          "base_uri": "https://localhost:8080/",
          "height": 35
        },
        "outputId": "d0b71939-9d99-4bcb-cdaa-3640dd6943c3"
      },
      "source": [
        "import numpy as np\n",
        "\n",
        "np.random.seed(42)\n",
        "np.__version__"
      ],
      "execution_count": 1,
      "outputs": [
        {
          "output_type": "execute_result",
          "data": {
            "application/vnd.google.colaboratory.intrinsic+json": {
              "type": "string"
            },
            "text/plain": [
              "'1.18.5'"
            ]
          },
          "metadata": {
            "tags": []
          },
          "execution_count": 1
        }
      ]
    },
    {
      "cell_type": "markdown",
      "metadata": {
        "id": "cyc70pMe1oCg",
        "colab_type": "text"
      },
      "source": [
        "### <a name='1'></a> Ćwiczenie 51\n",
        "Podane są poniżej dwie tablice $A$ i $B$:\n",
        "\n",
        "\n",
        "```\n",
        "A = np.array([[3, 4, 5],\n",
        "              [8, 3, 1]])\n",
        "B = np.array([[0, 5, 2],\n",
        "              [4, 2, 1]])\n",
        "```\n",
        "* Połącz te tablice w następujący sposób:\n",
        "\n",
        "\n",
        "```\n",
        "array([[3, 4, 5],\n",
        "       [8, 3, 1],\n",
        "       [0, 5, 2],\n",
        "       [4, 2, 1]])\n",
        "```\n",
        "__Wskazówka:__ Wykorzystaj funkcję _np.concatenate()_.\n",
        "\n",
        "\n",
        "\n"
      ]
    },
    {
      "cell_type": "code",
      "metadata": {
        "id": "G06kZluT8eIh",
        "colab_type": "code",
        "colab": {
          "base_uri": "https://localhost:8080/",
          "height": 84
        },
        "outputId": "ee21822f-b3ea-4dee-ef08-4d5d4895ef40"
      },
      "source": [
        "A = np.array([[3, 4, 5],\n",
        "              [8, 3, 1]])\n",
        "B = np.array([[0, 5, 2],\n",
        "              [4, 2, 1]])\n",
        "\n",
        "np.concatenate((A, B), axis = 0) # tablice podawać w tupli "
      ],
      "execution_count": 7,
      "outputs": [
        {
          "output_type": "execute_result",
          "data": {
            "text/plain": [
              "array([[3, 4, 5],\n",
              "       [8, 3, 1],\n",
              "       [0, 5, 2],\n",
              "       [4, 2, 1]])"
            ]
          },
          "metadata": {
            "tags": []
          },
          "execution_count": 7
        }
      ]
    },
    {
      "cell_type": "markdown",
      "metadata": {
        "id": "ODw_gitA98Ul",
        "colab_type": "text"
      },
      "source": [
        "* Połącz te tablice w następujący sposób:\n",
        "\n",
        "\n",
        "```\n",
        "array([[3, 4, 5, 0, 5, 2],\n",
        "       [8, 3, 1, 4, 2, 1]])\n",
        "```\n",
        "__Wskazówka:__ Wykorzystaj funkcję _np.concatenate()_."
      ]
    },
    {
      "cell_type": "code",
      "metadata": {
        "id": "1pmGjLj88tcf",
        "colab_type": "code",
        "colab": {
          "base_uri": "https://localhost:8080/",
          "height": 50
        },
        "outputId": "8e1db96a-9c39-45b1-ec18-ae461b797dcd"
      },
      "source": [
        "np.concatenate((A, B), axis = 1) # tablice podawać w tupli"
      ],
      "execution_count": 8,
      "outputs": [
        {
          "output_type": "execute_result",
          "data": {
            "text/plain": [
              "array([[3, 4, 5, 0, 5, 2],\n",
              "       [8, 3, 1, 4, 2, 1]])"
            ]
          },
          "metadata": {
            "tags": []
          },
          "execution_count": 8
        }
      ]
    },
    {
      "cell_type": "markdown",
      "metadata": {
        "id": "J9pY1rtr1sC0",
        "colab_type": "text"
      },
      "source": [
        "### <a name='2'></a> Ćwiczenie 52\n",
        "Podana jest tablica zawierająca dane _data_ oraz tablica zawierająca docelową klasę dla danego wiersza _target_:\n",
        "\n",
        "```\n",
        "data = np.array([[4.3, 4.2],\n",
        "                 [3.1, 3.6]])\n",
        "target = np.array([[0],\n",
        "                   [1]])\n",
        "```\n",
        "\n"
      ]
    },
    {
      "cell_type": "markdown",
      "metadata": {
        "id": "8cAKF7ok-RjX",
        "colab_type": "text"
      },
      "source": [
        "Połącz te tablice w jedną tak jak pokazano poniżej:\n",
        "\n",
        "\n",
        "```\n",
        "array([[4.3, 4.2, 0. ],\n",
        "       [3.1, 3.6, 1. ]])\n",
        "```\n",
        "\n"
      ]
    },
    {
      "cell_type": "code",
      "metadata": {
        "id": "4lc68Wfr8z3u",
        "colab_type": "code",
        "colab": {
          "base_uri": "https://localhost:8080/",
          "height": 50
        },
        "outputId": "119d3a92-71c4-420d-faf9-d589c301c28f"
      },
      "source": [
        "data = np.array([[4.3, 4.2],\n",
        "                 [3.1, 3.6]])\n",
        "target = np.array([[0],\n",
        "                   [1]])\n",
        "np.concatenate((data, target), axis = 1)"
      ],
      "execution_count": 9,
      "outputs": [
        {
          "output_type": "execute_result",
          "data": {
            "text/plain": [
              "array([[4.3, 4.2, 0. ],\n",
              "       [3.1, 3.6, 1. ]])"
            ]
          },
          "metadata": {
            "tags": []
          },
          "execution_count": 9
        }
      ]
    },
    {
      "cell_type": "markdown",
      "metadata": {
        "id": "XQLYT2m11wVG",
        "colab_type": "text"
      },
      "source": [
        "### <a name='3'></a> Ćwiczenie 53\n",
        "Podane są trzy poniższe jednowymiarowe tablice:  \n",
        "\n",
        "\n",
        "```\n",
        "feature1 = np.array([1.6, 0.9, 2.2])\n",
        "feature2 = np.array([0.4, 1.3, 3.2])\n",
        "feature3 = np.array([1.4, 0.3, 1.2])\n",
        "```\n",
        "Przekształć każdą z tych tablic w kolumnę i sklej w jedną dużą tablicę.\n",
        "\n",
        "__Oczekiwany wynik:__\n",
        "\n",
        "\n",
        "```\n",
        "array([[1.6, 0.4, 1.4],\n",
        "       [0.9, 1.3, 0.3],\n",
        "       [2.2, 3.2, 1.2]])\n",
        "```\n",
        "\n",
        "__Wskazówka:__ Wykorzystaj funkcję _np.column_stack()_.\n",
        "\n"
      ]
    },
    {
      "cell_type": "code",
      "metadata": {
        "id": "xfPf_vq7-jBP",
        "colab_type": "code",
        "colab": {
          "base_uri": "https://localhost:8080/",
          "height": 67
        },
        "outputId": "ee829e3b-a8bb-440c-f405-d1c944bafedc"
      },
      "source": [
        "feature1 = np.array([1.6, 0.9, 2.2])\n",
        "feature2 = np.array([0.4, 1.3, 3.2])\n",
        "feature3 = np.array([1.4, 0.3, 1.2])\n",
        "# przekształcamy \n",
        "np.column_stack((feature1, feature2, feature3))"
      ],
      "execution_count": 10,
      "outputs": [
        {
          "output_type": "execute_result",
          "data": {
            "text/plain": [
              "array([[1.6, 0.4, 1.4],\n",
              "       [0.9, 1.3, 0.3],\n",
              "       [2.2, 3.2, 1.2]])"
            ]
          },
          "metadata": {
            "tags": []
          },
          "execution_count": 10
        }
      ]
    },
    {
      "cell_type": "markdown",
      "metadata": {
        "id": "4xTKSUzg10MK",
        "colab_type": "text"
      },
      "source": [
        "### <a name='4'></a> Ćwiczenie 54\n",
        "Podana jest poniższa dwuwymiarowa tablica:\n",
        "\n",
        "```\n",
        "A = np.random.randint(low=0, high=7, size=(5, 8))\n",
        "A[:, :2] = 0\n",
        "A[:, -2:] = 1\n",
        "A\n",
        "```\n",
        "```\n",
        "array([[0, 0, 4, 6, 2, 4, 1, 1],\n",
        "       [0, 0, 6, 2, 2, 4, 1, 1],\n",
        "       [0, 0, 1, 3, 5, 5, 1, 1],\n",
        "       [0, 0, 3, 1, 5, 4, 1, 1],\n",
        "       [0, 0, 2, 6, 1, 3, 1, 1]])\n",
        "```\n",
        "\n",
        "Podziel tablicę na 3 części tak aby pierwsze dwie kolumny stanowiły pierwszą tablicę $A1$, cztery kolejne drugą tablicę $A2$ oraz dwie ostatnie trzecią tablicę $A3$.\n",
        "\n",
        "__Wskazówka:__ Wykorzystaj funkcję _np.split()_."
      ]
    },
    {
      "cell_type": "code",
      "metadata": {
        "id": "U5MFrLUHBsEf",
        "colab_type": "code",
        "colab": {
          "base_uri": "https://localhost:8080/",
          "height": 269
        },
        "outputId": "78b40bce-a3d2-4b7e-da51-334633576d5a"
      },
      "source": [
        "A = np.array([[0, 0, 4, 6, 2, 4, 1, 1],\n",
        "              [0, 0, 6, 2, 2, 4, 1, 1],\n",
        "              [0, 0, 1, 3, 5, 5, 1, 1],\n",
        "              [0, 0, 3, 1, 5, 4, 1, 1],\n",
        "              [0, 0, 2, 6, 1, 3, 1, 1]])\n",
        "A1, A2, A3 = np.split(A, indices_or_sections = [2, 6], axis = 1)\n",
        "print(A1)\n",
        "print(A2)\n",
        "print(A3)"
      ],
      "execution_count": 32,
      "outputs": [
        {
          "output_type": "stream",
          "text": [
            "[[0 0]\n",
            " [0 0]\n",
            " [0 0]\n",
            " [0 0]\n",
            " [0 0]]\n",
            "[[4 6 2 4]\n",
            " [6 2 2 4]\n",
            " [1 3 5 5]\n",
            " [3 1 5 4]\n",
            " [2 6 1 3]]\n",
            "[[1 1]\n",
            " [1 1]\n",
            " [1 1]\n",
            " [1 1]\n",
            " [1 1]]\n"
          ],
          "name": "stdout"
        }
      ]
    },
    {
      "cell_type": "markdown",
      "metadata": {
        "id": "o3HKIKlP15Ro",
        "colab_type": "text"
      },
      "source": [
        "### <a name='5'></a> Ćwiczenie 55\n",
        "Podana jest poniższa tablica $A$:\n",
        "\n",
        "```\n",
        "A = np.random.randint(low=0, high=2, size=(10, 6))\n",
        "```\n",
        "Wyznacz łączną liczbę elementów niezerowych dla tej tablicy.\n",
        "\n",
        "__Wskazówka:__ Wykorzystaj funkcję _np.count_nonzero()_.\n"
      ]
    },
    {
      "cell_type": "code",
      "metadata": {
        "id": "j5E2nOFyDy1b",
        "colab_type": "code",
        "colab": {
          "base_uri": "https://localhost:8080/",
          "height": 34
        },
        "outputId": "d14d81e2-4a0b-411e-a883-9be29101b61a"
      },
      "source": [
        "A = np.random.randint(low=0, high=2, size=(10, 6))\n",
        "np.count_nonzero(A)"
      ],
      "execution_count": 35,
      "outputs": [
        {
          "output_type": "execute_result",
          "data": {
            "text/plain": [
              "24"
            ]
          },
          "metadata": {
            "tags": []
          },
          "execution_count": 35
        }
      ]
    },
    {
      "cell_type": "markdown",
      "metadata": {
        "id": "wJde65uYhJ2f",
        "colab_type": "text"
      },
      "source": [
        "Wyznacz łączną liczbę elementów niezerowych dla każdego wiersza tej tablicy.\n",
        "\n",
        "__Wskazówka:__ Wykorzystaj funkcję _np.count_nonzero()_."
      ]
    },
    {
      "cell_type": "code",
      "metadata": {
        "id": "BWG-icQuEEPS",
        "colab_type": "code",
        "colab": {
          "base_uri": "https://localhost:8080/",
          "height": 34
        },
        "outputId": "cdbfce4e-4403-41b2-e29c-3635fd6b9019"
      },
      "source": [
        "A = np.random.randint(low=0, high=2, size=(10, 6))\n",
        "np.count_nonzero(A, axis= 1) # axis = 1"
      ],
      "execution_count": 37,
      "outputs": [
        {
          "output_type": "execute_result",
          "data": {
            "text/plain": [
              "array([3, 1, 2, 2, 3, 5, 4, 2, 2, 4])"
            ]
          },
          "metadata": {
            "tags": []
          },
          "execution_count": 37
        }
      ]
    },
    {
      "cell_type": "markdown",
      "metadata": {
        "id": "PunXd_Ey16so",
        "colab_type": "text"
      },
      "source": [
        "### <a name='6'></a> Ćwiczenie 56\n",
        "Poniżej podana jest przykładowa tablica $A$:\n",
        "\n",
        "```\n",
        "A = np.random.randn(10, 4)\n",
        "```\n",
        "\n",
        "```\n",
        "array([[-0.53441645, -1.49505387, -0.78925833,  0.74371128],\n",
        "       [-0.21216142, -0.42686879,  0.50144833,  1.15818665],\n",
        "       [ 0.25711687,  0.3145129 ,  1.37186213,  0.17555329],\n",
        "       [-0.30928855,  0.6731255 , -0.25663018, -0.36782572],\n",
        "       [ 1.27373362, -0.29195267, -2.65517605,  0.34551794],\n",
        "       [-0.39551645, -0.28913686,  0.45293633, -0.16606091],\n",
        "       [ 0.21493883, -2.02231493, -0.94305681,  1.40395874],\n",
        "       [-0.0185508 , -1.67350462, -1.07253183, -0.99258618],\n",
        "       [ 0.10234768, -0.43260928, -0.6591823 ,  0.0039373 ],\n",
        "       [ 0.4777541 , -0.25902864, -0.57470921, -0.42149822]])\n",
        "```\n",
        "\n",
        "\n",
        "Ustaw odopowiednią opcję biblioteki numpy pozwalającą drukować tablice z określoną precyzją. Ustaw jej wartość na 4 i wydrukuj tablicę $A$.\n",
        "\n"
      ]
    },
    {
      "cell_type": "code",
      "metadata": {
        "id": "aL6C9MYSYkaL",
        "colab_type": "code",
        "colab": {
          "base_uri": "https://localhost:8080/",
          "height": 185
        },
        "outputId": "2bcc2ebb-bb3e-462b-dc4a-e9368cfe28c8"
      },
      "source": [
        "A = np.random.randn(10, 4)\n",
        "np.set_printoptions(precision=4)\n",
        "print(A)"
      ],
      "execution_count": 38,
      "outputs": [
        {
          "output_type": "stream",
          "text": [
            "[[-0.1924  0.3015 -0.0347 -1.1687]\n",
            " [ 1.1428  0.7519  0.791  -0.9094]\n",
            " [ 1.4028 -1.4019  0.5869  2.1905]\n",
            " [-0.9905 -0.5663  0.0997 -0.5035]\n",
            " [-1.5507  0.0686 -1.0623  0.4736]\n",
            " [-0.9194  1.5499 -0.7833 -0.3221]\n",
            " [ 0.8135 -1.2309  0.2275  1.3071]\n",
            " [-1.6075  0.1846  0.2599  0.7818]\n",
            " [-1.237  -1.3205  0.5219  0.297 ]\n",
            " [ 0.2505  0.3464 -0.68    0.2323]]\n"
          ],
          "name": "stdout"
        }
      ]
    },
    {
      "cell_type": "markdown",
      "metadata": {
        "id": "hOhqDRz618Tx",
        "colab_type": "text"
      },
      "source": [
        "### <a name='7'></a> Ćwiczenie 57\n",
        "Podana jest poniższa tablica numpy $A$:\n",
        "\n",
        "```\n",
        "A = np.array([1.2e-6, 1.7e-7])\n",
        "```\n",
        "\n",
        "Ustaw wartość precyzji na 8. Następnie ustaw odopowiednią opcję biblioteki numpy pozwalającą stłumić notację wykładniczą. Wydrukuj tablicę $A$.\n",
        "\n",
        "__Oczekiwany wynik:__\n",
        "\n",
        "\n",
        "```\n",
        "array([0.0000012 , 0.00000017])\n",
        "```\n",
        "\n",
        "\n",
        "\n"
      ]
    },
    {
      "cell_type": "code",
      "metadata": {
        "id": "BUr3XXiWdUWi",
        "colab_type": "code",
        "colab": {
          "base_uri": "https://localhost:8080/",
          "height": 34
        },
        "outputId": "891e382c-430d-4889-8c01-ab23cd066b2a"
      },
      "source": [
        "A = np.array([1.2e-6, 1.7e-7])\n",
        "np.set_printoptions(precision=8, suppress=True)\n",
        "print(A)"
      ],
      "execution_count": 40,
      "outputs": [
        {
          "output_type": "stream",
          "text": [
            "[0.0000012  0.00000017]\n"
          ],
          "name": "stdout"
        }
      ]
    },
    {
      "cell_type": "markdown",
      "metadata": {
        "id": "TXUd_4631-gw",
        "colab_type": "text"
      },
      "source": [
        "### <a name='8'></a> Ćwiczenie 58\n",
        "Podana jest poniższa tablica numpy $A$:\n",
        "\n",
        "```\n",
        "A = np.random.randn(8, 4)\n",
        "```\n",
        "Usuń trzecią kolumnę z tablicy $A$.\n",
        "\n",
        "__Oczekiwany wynik:__\n",
        "\n",
        "\n",
        "```\n",
        "array([[-0.55692881, -0.66003196,  0.70856031],\n",
        "       [ 0.22378737, -0.19796576, -0.16889332],\n",
        "       [ 0.26062786,  0.29865445, -0.92259267],\n",
        "       [-2.40317659,  1.79961876, -1.96495796],\n",
        "       [ 0.13051561, -1.7085185 ,  0.54885043],\n",
        "       [ 1.77268727,  0.38751181, -0.05141955],\n",
        "       [-1.80858596, -0.45075211,  0.15332866],\n",
        "       [ 1.94218961, -1.93679529, -1.83350954]])\n",
        "```\n",
        "__Wskazówka:__ Wykorzystaj funkcję _np.delete()_.\n",
        "\n",
        "\n"
      ]
    },
    {
      "cell_type": "code",
      "metadata": {
        "id": "o5PxnILogU6z",
        "colab_type": "code",
        "colab": {
          "base_uri": "https://localhost:8080/",
          "height": 151
        },
        "outputId": "bce849e8-9f74-4114-825e-9116bb01fbf4"
      },
      "source": [
        "A = np.random.randn(8, 4)\n",
        "np.delete(A, [3], axis = 1)"
      ],
      "execution_count": 43,
      "outputs": [
        {
          "output_type": "execute_result",
          "data": {
            "text/plain": [
              "array([[-0.48536355,  0.08187414,  2.31465857],\n",
              "       [ 0.68626019, -1.61271587, -0.47193187],\n",
              "       [ 0.06428002, -1.07774478, -0.71530371],\n",
              "       [-0.73036663,  0.21645859,  0.04557184],\n",
              "       [ 2.14394409,  0.63391902, -2.02514259],\n",
              "       [-0.66178646,  0.85243333, -0.79252074],\n",
              "       [ 0.50498728,  0.86575519, -1.20029641],\n",
              "       [-0.47494531, -0.65332923,  1.76545424]])"
            ]
          },
          "metadata": {
            "tags": []
          },
          "execution_count": 43
        }
      ]
    },
    {
      "cell_type": "markdown",
      "metadata": {
        "id": "tgI6xEn-2AQo",
        "colab_type": "text"
      },
      "source": [
        "### <a name='9'></a> Ćwiczenie 59\n",
        "Podana jest tablica jednowymiarowa $v$ (wektor):\n",
        "\n",
        "```\n",
        "v = np.array([3, 4, -2])\n",
        "```\n",
        "Policz normę wektora $v$.\n"
      ]
    },
    {
      "cell_type": "code",
      "metadata": {
        "id": "TYPzAZCwi-Ky",
        "colab_type": "code",
        "colab": {
          "base_uri": "https://localhost:8080/",
          "height": 34
        },
        "outputId": "fa5fc657-7294-4b14-cb4a-a7592ac58125"
      },
      "source": [
        "v = np.array([3, 4, -2])\n",
        "np.linalg.norm(v)"
      ],
      "execution_count": 48,
      "outputs": [
        {
          "output_type": "execute_result",
          "data": {
            "text/plain": [
              "5.385164807134504"
            ]
          },
          "metadata": {
            "tags": []
          },
          "execution_count": 48
        }
      ]
    },
    {
      "cell_type": "markdown",
      "metadata": {
        "id": "wxhpf-uq2B1I",
        "colab_type": "text"
      },
      "source": [
        "### <a name='10'></a> Ćwiczenie 60\n",
        "Poniżej podana jest przykładowa tablica $A$:\n",
        "\n",
        "\n",
        "```\n",
        "A = np.random.randint(10, size=(100, 30))\n",
        "```\n",
        "Ustaw odopowiednią opcję biblioteki numpy pozwalającą drukować 10 skrajnych elementów. Wydrukuj tablicę $A$.\n"
      ]
    },
    {
      "cell_type": "code",
      "metadata": {
        "id": "liJX2nIBk-gO",
        "colab_type": "code",
        "colab": {
          "base_uri": "https://localhost:8080/",
          "height": 370
        },
        "outputId": "ab7c27db-982d-4bc6-bb7d-11f4c989271d"
      },
      "source": [
        "A = np.random.randint(10, size=(100, 30))\n",
        "np.set_printoptions(edgeitems = 10)\n",
        "print(A)"
      ],
      "execution_count": 52,
      "outputs": [
        {
          "output_type": "stream",
          "text": [
            "[[5 6 1 7 4 6 0 4 0 7 ... 9 0 3 6 5 9 0 0 7 3]\n",
            " [4 6 7 9 6 1 3 9 0 9 ... 1 0 1 7 8 1 6 4 2 8]\n",
            " [5 0 4 6 3 7 9 4 8 8 ... 8 5 3 3 2 6 2 1 9 7]\n",
            " [3 7 0 4 8 0 3 5 9 7 ... 1 2 3 3 7 0 9 3 3 0]\n",
            " [2 4 5 8 8 8 0 8 7 1 ... 2 5 7 2 9 8 9 4 6 7]\n",
            " [2 1 1 4 0 1 8 6 5 8 ... 7 4 8 2 2 0 8 5 1 7]\n",
            " [8 8 1 1 6 3 0 7 1 2 ... 1 6 4 5 0 6 5 3 0 8]\n",
            " [3 1 7 1 4 5 7 0 0 3 ... 8 2 4 1 9 4 7 1 7 3]\n",
            " [9 9 0 4 0 6 7 2 2 6 ... 9 8 2 2 3 0 8 2 9 3]\n",
            " [0 3 0 4 4 6 7 3 6 3 ... 6 5 9 1 2 1 2 0 7 5]\n",
            " ...\n",
            " [3 7 1 6 3 1 6 0 3 8 ... 2 2 1 4 9 2 2 7 3 3]\n",
            " [2 0 7 0 6 4 3 3 7 5 ... 1 4 5 4 2 3 6 3 8 9]\n",
            " [1 4 7 4 9 7 7 8 9 5 ... 7 5 3 8 4 9 5 8 6 4]\n",
            " [1 3 1 2 9 2 3 5 2 9 ... 1 7 6 5 4 3 6 2 7 1]\n",
            " [0 1 8 4 7 2 6 1 7 6 ... 8 3 4 7 0 0 8 8 3 1]\n",
            " [8 3 5 0 8 4 2 3 0 8 ... 9 3 1 8 3 7 1 7 9 4]\n",
            " [6 6 8 2 9 3 9 3 9 4 ... 6 0 4 9 5 4 3 0 6 8]\n",
            " [5 2 9 3 9 4 0 4 0 8 ... 5 4 1 7 6 5 4 4 8 0]\n",
            " [8 5 3 9 6 8 4 4 7 6 ... 9 0 7 1 0 7 1 5 5 4]\n",
            " [7 2 9 3 6 6 7 1 1 3 ... 5 2 9 8 5 3 3 7 6 0]]\n"
          ],
          "name": "stdout"
        }
      ]
    },
    {
      "cell_type": "code",
      "metadata": {
        "id": "aDn-ayEUW8qn",
        "colab_type": "code",
        "colab": {}
      },
      "source": [
        ""
      ],
      "execution_count": null,
      "outputs": []
    }
  ]
}