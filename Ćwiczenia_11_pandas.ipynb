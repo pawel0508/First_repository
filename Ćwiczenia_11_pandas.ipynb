{
  "nbformat": 4,
  "nbformat_minor": 0,
  "metadata": {
    "colab": {
      "name": "121-130_exercises.ipynb",
      "provenance": [],
      "collapsed_sections": [],
      "include_colab_link": true
    },
    "kernelspec": {
      "name": "python3",
      "display_name": "Python 3"
    }
  },
  "cells": [
    {
      "cell_type": "markdown",
      "metadata": {
        "id": "view-in-github",
        "colab_type": "text"
      },
      "source": [
        "<a href=\"https://colab.research.google.com/github/pawel0508/First_repository/blob/master/%C4%86wiczenia_11_pandas.ipynb\" target=\"_parent\"><img src=\"https://colab.research.google.com/assets/colab-badge.svg\" alt=\"Open In Colab\"/></a>"
      ]
    },
    {
      "cell_type": "markdown",
      "metadata": {
        "id": "WLEgCW5F1hho",
        "colab_type": "text"
      },
      "source": [
        "## Pandas\n",
        "\n",
        "### Spis treści:\n",
        "* [Import biblioteki](#0)\n",
        "* [Ćwiczenie 121](#1)\n",
        "* [Ćwiczenie 122](#2)\n",
        "* [Ćwiczenie 123](#3)\n",
        "* [Ćwiczenie 124](#4)\n",
        "* [Ćwiczenie 125](#5)\n",
        "* [Ćwiczenie 126](#6)\n",
        "* [Ćwiczenie 127](#7)\n",
        "* [Ćwiczenie 128](#8)\n",
        "* [Ćwiczenie 129](#9)\n",
        "* [Ćwiczenie 130](#10)"
      ]
    },
    {
      "cell_type": "markdown",
      "metadata": {
        "id": "zeLOLmTj1kBM",
        "colab_type": "text"
      },
      "source": [
        "### <a name='0'></a>Import biblioteki"
      ]
    },
    {
      "cell_type": "code",
      "metadata": {
        "id": "HXMB7SMe1Wnz",
        "colab_type": "code",
        "colab": {
          "base_uri": "https://localhost:8080/",
          "height": 89
        },
        "outputId": "733c6c98-27ad-4252-ed40-b0b51d1a4c76"
      },
      "source": [
        "import numpy as np\n",
        "import pandas as pd\n",
        "import seaborn as sns\n",
        "\n",
        "sns.set()\n",
        "np.__version__"
      ],
      "execution_count": 1,
      "outputs": [
        {
          "output_type": "stream",
          "text": [
            "/usr/local/lib/python3.6/dist-packages/statsmodels/tools/_testing.py:19: FutureWarning: pandas.util.testing is deprecated. Use the functions in the public API at pandas.testing instead.\n",
            "  import pandas.util.testing as tm\n"
          ],
          "name": "stderr"
        },
        {
          "output_type": "execute_result",
          "data": {
            "application/vnd.google.colaboratory.intrinsic+json": {
              "type": "string"
            },
            "text/plain": [
              "'1.18.5'"
            ]
          },
          "metadata": {
            "tags": []
          },
          "execution_count": 1
        }
      ]
    },
    {
      "cell_type": "markdown",
      "metadata": {
        "id": "d1KXPVTVcwTX",
        "colab_type": "text"
      },
      "source": [
        "Funkcja _fetch_financial_data()_ pobiera dane dotyczące notowań spółek giełdowych. Będzie wykorzystywana w poniższych ćwiczeniach. Aby pobrać dane konkretnej spółki należy przekazać odpowiedni ticker (symbol) spółki.\n",
        "\n",
        "Kilka przykładowych tickerów spółek:\n",
        "* AMZN - Amazon\n",
        "* GOOGL - Google\n",
        "* MSFT - Microsoft\n",
        "* AAPL - Apple\n",
        "* NKE - Nike\n",
        "* WMT - Walmart"
      ]
    },
    {
      "cell_type": "code",
      "metadata": {
        "id": "gTRegewub5oK",
        "colab_type": "code",
        "colab": {}
      },
      "source": [
        "def fetch_financial_data(company='AMZN'):\n",
        "    \"\"\"\n",
        "    This function fetches stock market quotations.\n",
        "    \"\"\"\n",
        "    import pandas_datareader.data as web\n",
        "    return web.DataReader(name=company, data_source='stooq')"
      ],
      "execution_count": 2,
      "outputs": []
    },
    {
      "cell_type": "markdown",
      "metadata": {
        "id": "cyc70pMe1oCg",
        "colab_type": "text"
      },
      "source": [
        "### <a name='1'></a> Ćwiczenie 121\n",
        "Wykorzystując funkcję _fetch_financial_data()_ pobierz notowania dla spółki Google (Alphabet) i przypisz do zmiennej _google_. Wyświetl obiekt _google_."
      ]
    },
    {
      "cell_type": "code",
      "metadata": {
        "id": "LtMEvHZicna7",
        "colab_type": "code",
        "colab": {}
      },
      "source": [
        "google = fetch_financial_data(company='GOOGL')"
      ],
      "execution_count": 99,
      "outputs": []
    },
    {
      "cell_type": "markdown",
      "metadata": {
        "id": "J9pY1rtr1sC0",
        "colab_type": "text"
      },
      "source": [
        "### <a name='2'></a> Ćwiczenie 122\n",
        "Wyświetl podstawowe informacje na temat obiektu _google_."
      ]
    },
    {
      "cell_type": "code",
      "metadata": {
        "id": "0QE4WiIDeGqy",
        "colab_type": "code",
        "colab": {
          "base_uri": "https://localhost:8080/",
          "height": 218
        },
        "outputId": "15736fba-a7a7-486c-ae94-b7d3bb830135"
      },
      "source": [
        "google.info()"
      ],
      "execution_count": 100,
      "outputs": [
        {
          "output_type": "stream",
          "text": [
            "<class 'pandas.core.frame.DataFrame'>\n",
            "DatetimeIndex: 1257 entries, 2020-08-21 to 2015-08-26\n",
            "Data columns (total 5 columns):\n",
            " #   Column  Non-Null Count  Dtype  \n",
            "---  ------  --------------  -----  \n",
            " 0   Open    1257 non-null   float64\n",
            " 1   High    1257 non-null   float64\n",
            " 2   Low     1257 non-null   float64\n",
            " 3   Close   1257 non-null   float64\n",
            " 4   Volume  1257 non-null   int64  \n",
            "dtypes: float64(4), int64(1)\n",
            "memory usage: 58.9 KB\n"
          ],
          "name": "stdout"
        }
      ]
    },
    {
      "cell_type": "markdown",
      "metadata": {
        "id": "yic8GlyieMAv",
        "colab_type": "text"
      },
      "source": [
        "Wyświetl podstawowe statystyki o obiekcie _google_."
      ]
    },
    {
      "cell_type": "code",
      "metadata": {
        "id": "8CiWPVl0eJ2B",
        "colab_type": "code",
        "colab": {
          "base_uri": "https://localhost:8080/",
          "height": 284
        },
        "outputId": "df221fe9-36af-460d-e0a3-d665880f8bfa"
      },
      "source": [
        "pd.set_option('precision', 2)\n",
        "\n",
        "google.describe()\n"
      ],
      "execution_count": 101,
      "outputs": [
        {
          "output_type": "execute_result",
          "data": {
            "text/html": [
              "<div>\n",
              "<style scoped>\n",
              "    .dataframe tbody tr th:only-of-type {\n",
              "        vertical-align: middle;\n",
              "    }\n",
              "\n",
              "    .dataframe tbody tr th {\n",
              "        vertical-align: top;\n",
              "    }\n",
              "\n",
              "    .dataframe thead th {\n",
              "        text-align: right;\n",
              "    }\n",
              "</style>\n",
              "<table border=\"1\" class=\"dataframe\">\n",
              "  <thead>\n",
              "    <tr style=\"text-align: right;\">\n",
              "      <th></th>\n",
              "      <th>Open</th>\n",
              "      <th>High</th>\n",
              "      <th>Low</th>\n",
              "      <th>Close</th>\n",
              "      <th>Volume</th>\n",
              "    </tr>\n",
              "  </thead>\n",
              "  <tbody>\n",
              "    <tr>\n",
              "      <th>count</th>\n",
              "      <td>1257.00</td>\n",
              "      <td>1257.00</td>\n",
              "      <td>1257.00</td>\n",
              "      <td>1257.00</td>\n",
              "      <td>1257.00</td>\n",
              "    </tr>\n",
              "    <tr>\n",
              "      <th>mean</th>\n",
              "      <td>1032.74</td>\n",
              "      <td>1042.33</td>\n",
              "      <td>1022.93</td>\n",
              "      <td>1033.15</td>\n",
              "      <td>1770207.39</td>\n",
              "    </tr>\n",
              "    <tr>\n",
              "      <th>std</th>\n",
              "      <td>228.45</td>\n",
              "      <td>231.53</td>\n",
              "      <td>226.08</td>\n",
              "      <td>229.10</td>\n",
              "      <td>866833.92</td>\n",
              "    </tr>\n",
              "    <tr>\n",
              "      <th>min</th>\n",
              "      <td>625.50</td>\n",
              "      <td>634.50</td>\n",
              "      <td>617.84</td>\n",
              "      <td>622.61</td>\n",
              "      <td>521141.00</td>\n",
              "    </tr>\n",
              "    <tr>\n",
              "      <th>25%</th>\n",
              "      <td>808.01</td>\n",
              "      <td>813.49</td>\n",
              "      <td>804.06</td>\n",
              "      <td>808.49</td>\n",
              "      <td>1216028.00</td>\n",
              "    </tr>\n",
              "    <tr>\n",
              "      <th>50%</th>\n",
              "      <td>1053.89</td>\n",
              "      <td>1065.00</td>\n",
              "      <td>1041.22</td>\n",
              "      <td>1052.90</td>\n",
              "      <td>1551325.00</td>\n",
              "    </tr>\n",
              "    <tr>\n",
              "      <th>75%</th>\n",
              "      <td>1189.69</td>\n",
              "      <td>1200.20</td>\n",
              "      <td>1176.25</td>\n",
              "      <td>1190.13</td>\n",
              "      <td>2037263.00</td>\n",
              "    </tr>\n",
              "    <tr>\n",
              "      <th>max</th>\n",
              "      <td>1585.03</td>\n",
              "      <td>1591.88</td>\n",
              "      <td>1562.31</td>\n",
              "      <td>1576.25</td>\n",
              "      <td>6658855.00</td>\n",
              "    </tr>\n",
              "  </tbody>\n",
              "</table>\n",
              "</div>"
            ],
            "text/plain": [
              "         Open    High     Low   Close     Volume\n",
              "count 1257.00 1257.00 1257.00 1257.00    1257.00\n",
              "mean  1032.74 1042.33 1022.93 1033.15 1770207.39\n",
              "std    228.45  231.53  226.08  229.10  866833.92\n",
              "min    625.50  634.50  617.84  622.61  521141.00\n",
              "25%    808.01  813.49  804.06  808.49 1216028.00\n",
              "50%   1053.89 1065.00 1041.22 1052.90 1551325.00\n",
              "75%   1189.69 1200.20 1176.25 1190.13 2037263.00\n",
              "max   1585.03 1591.88 1562.31 1576.25 6658855.00"
            ]
          },
          "metadata": {
            "tags": []
          },
          "execution_count": 101
        }
      ]
    },
    {
      "cell_type": "markdown",
      "metadata": {
        "id": "OwKsy3HRf1Z5",
        "colab_type": "text"
      },
      "source": [
        "Zwróć uwagę na precyzję zapisu poszczególnych statystyk.\n",
        "Spróbuj ustawić odpowiednie opcje biblioteki _pandas_, tak aby wyświetlać dane z dokładnością do dwóch miejsc po przecinku.\n",
        "\n",
        "__Wskazówka:__ \n",
        "https://pandas.pydata.org/pandas-docs/stable/user_guide/options.html"
      ]
    },
    {
      "cell_type": "code",
      "metadata": {
        "id": "mskz01W_gCy0",
        "colab_type": "code",
        "colab": {
          "base_uri": "https://localhost:8080/",
          "height": 284
        },
        "outputId": "65f4c135-dd36-4c72-ade2-d2bea9b5f66c"
      },
      "source": [
        "pd.set_option('precision', 2)\n",
        "\n",
        "google.describe()"
      ],
      "execution_count": 102,
      "outputs": [
        {
          "output_type": "execute_result",
          "data": {
            "text/html": [
              "<div>\n",
              "<style scoped>\n",
              "    .dataframe tbody tr th:only-of-type {\n",
              "        vertical-align: middle;\n",
              "    }\n",
              "\n",
              "    .dataframe tbody tr th {\n",
              "        vertical-align: top;\n",
              "    }\n",
              "\n",
              "    .dataframe thead th {\n",
              "        text-align: right;\n",
              "    }\n",
              "</style>\n",
              "<table border=\"1\" class=\"dataframe\">\n",
              "  <thead>\n",
              "    <tr style=\"text-align: right;\">\n",
              "      <th></th>\n",
              "      <th>Open</th>\n",
              "      <th>High</th>\n",
              "      <th>Low</th>\n",
              "      <th>Close</th>\n",
              "      <th>Volume</th>\n",
              "    </tr>\n",
              "  </thead>\n",
              "  <tbody>\n",
              "    <tr>\n",
              "      <th>count</th>\n",
              "      <td>1257.00</td>\n",
              "      <td>1257.00</td>\n",
              "      <td>1257.00</td>\n",
              "      <td>1257.00</td>\n",
              "      <td>1257.00</td>\n",
              "    </tr>\n",
              "    <tr>\n",
              "      <th>mean</th>\n",
              "      <td>1032.74</td>\n",
              "      <td>1042.33</td>\n",
              "      <td>1022.93</td>\n",
              "      <td>1033.15</td>\n",
              "      <td>1770207.39</td>\n",
              "    </tr>\n",
              "    <tr>\n",
              "      <th>std</th>\n",
              "      <td>228.45</td>\n",
              "      <td>231.53</td>\n",
              "      <td>226.08</td>\n",
              "      <td>229.10</td>\n",
              "      <td>866833.92</td>\n",
              "    </tr>\n",
              "    <tr>\n",
              "      <th>min</th>\n",
              "      <td>625.50</td>\n",
              "      <td>634.50</td>\n",
              "      <td>617.84</td>\n",
              "      <td>622.61</td>\n",
              "      <td>521141.00</td>\n",
              "    </tr>\n",
              "    <tr>\n",
              "      <th>25%</th>\n",
              "      <td>808.01</td>\n",
              "      <td>813.49</td>\n",
              "      <td>804.06</td>\n",
              "      <td>808.49</td>\n",
              "      <td>1216028.00</td>\n",
              "    </tr>\n",
              "    <tr>\n",
              "      <th>50%</th>\n",
              "      <td>1053.89</td>\n",
              "      <td>1065.00</td>\n",
              "      <td>1041.22</td>\n",
              "      <td>1052.90</td>\n",
              "      <td>1551325.00</td>\n",
              "    </tr>\n",
              "    <tr>\n",
              "      <th>75%</th>\n",
              "      <td>1189.69</td>\n",
              "      <td>1200.20</td>\n",
              "      <td>1176.25</td>\n",
              "      <td>1190.13</td>\n",
              "      <td>2037263.00</td>\n",
              "    </tr>\n",
              "    <tr>\n",
              "      <th>max</th>\n",
              "      <td>1585.03</td>\n",
              "      <td>1591.88</td>\n",
              "      <td>1562.31</td>\n",
              "      <td>1576.25</td>\n",
              "      <td>6658855.00</td>\n",
              "    </tr>\n",
              "  </tbody>\n",
              "</table>\n",
              "</div>"
            ],
            "text/plain": [
              "         Open    High     Low   Close     Volume\n",
              "count 1257.00 1257.00 1257.00 1257.00    1257.00\n",
              "mean  1032.74 1042.33 1022.93 1033.15 1770207.39\n",
              "std    228.45  231.53  226.08  229.10  866833.92\n",
              "min    625.50  634.50  617.84  622.61  521141.00\n",
              "25%    808.01  813.49  804.06  808.49 1216028.00\n",
              "50%   1053.89 1065.00 1041.22 1052.90 1551325.00\n",
              "75%   1189.69 1200.20 1176.25 1190.13 2037263.00\n",
              "max   1585.03 1591.88 1562.31 1576.25 6658855.00"
            ]
          },
          "metadata": {
            "tags": []
          },
          "execution_count": 102
        }
      ]
    },
    {
      "cell_type": "markdown",
      "metadata": {
        "id": "iEXHrwHwheyo",
        "colab_type": "text"
      },
      "source": [
        "__Dodatkowo:__\n",
        "Poniższe ustawienie stłumi także notację wykładniczą (patrz kolumna _Volume_)."
      ]
    },
    {
      "cell_type": "code",
      "metadata": {
        "id": "qdosioVRhGfC",
        "colab_type": "code",
        "colab": {
          "base_uri": "https://localhost:8080/",
          "height": 284
        },
        "outputId": "f1f6e3bd-c53d-46ef-ddc0-7bdc85798d7e"
      },
      "source": [
        "pd.options.display.float_format = '{:.2f}'.format # tłumimy notację wykładniczą \n",
        "google.describe()"
      ],
      "execution_count": 103,
      "outputs": [
        {
          "output_type": "execute_result",
          "data": {
            "text/html": [
              "<div>\n",
              "<style scoped>\n",
              "    .dataframe tbody tr th:only-of-type {\n",
              "        vertical-align: middle;\n",
              "    }\n",
              "\n",
              "    .dataframe tbody tr th {\n",
              "        vertical-align: top;\n",
              "    }\n",
              "\n",
              "    .dataframe thead th {\n",
              "        text-align: right;\n",
              "    }\n",
              "</style>\n",
              "<table border=\"1\" class=\"dataframe\">\n",
              "  <thead>\n",
              "    <tr style=\"text-align: right;\">\n",
              "      <th></th>\n",
              "      <th>Open</th>\n",
              "      <th>High</th>\n",
              "      <th>Low</th>\n",
              "      <th>Close</th>\n",
              "      <th>Volume</th>\n",
              "    </tr>\n",
              "  </thead>\n",
              "  <tbody>\n",
              "    <tr>\n",
              "      <th>count</th>\n",
              "      <td>1257.00</td>\n",
              "      <td>1257.00</td>\n",
              "      <td>1257.00</td>\n",
              "      <td>1257.00</td>\n",
              "      <td>1257.00</td>\n",
              "    </tr>\n",
              "    <tr>\n",
              "      <th>mean</th>\n",
              "      <td>1032.74</td>\n",
              "      <td>1042.33</td>\n",
              "      <td>1022.93</td>\n",
              "      <td>1033.15</td>\n",
              "      <td>1770207.39</td>\n",
              "    </tr>\n",
              "    <tr>\n",
              "      <th>std</th>\n",
              "      <td>228.45</td>\n",
              "      <td>231.53</td>\n",
              "      <td>226.08</td>\n",
              "      <td>229.10</td>\n",
              "      <td>866833.92</td>\n",
              "    </tr>\n",
              "    <tr>\n",
              "      <th>min</th>\n",
              "      <td>625.50</td>\n",
              "      <td>634.50</td>\n",
              "      <td>617.84</td>\n",
              "      <td>622.61</td>\n",
              "      <td>521141.00</td>\n",
              "    </tr>\n",
              "    <tr>\n",
              "      <th>25%</th>\n",
              "      <td>808.01</td>\n",
              "      <td>813.49</td>\n",
              "      <td>804.06</td>\n",
              "      <td>808.49</td>\n",
              "      <td>1216028.00</td>\n",
              "    </tr>\n",
              "    <tr>\n",
              "      <th>50%</th>\n",
              "      <td>1053.89</td>\n",
              "      <td>1065.00</td>\n",
              "      <td>1041.22</td>\n",
              "      <td>1052.90</td>\n",
              "      <td>1551325.00</td>\n",
              "    </tr>\n",
              "    <tr>\n",
              "      <th>75%</th>\n",
              "      <td>1189.69</td>\n",
              "      <td>1200.20</td>\n",
              "      <td>1176.25</td>\n",
              "      <td>1190.13</td>\n",
              "      <td>2037263.00</td>\n",
              "    </tr>\n",
              "    <tr>\n",
              "      <th>max</th>\n",
              "      <td>1585.03</td>\n",
              "      <td>1591.88</td>\n",
              "      <td>1562.31</td>\n",
              "      <td>1576.25</td>\n",
              "      <td>6658855.00</td>\n",
              "    </tr>\n",
              "  </tbody>\n",
              "</table>\n",
              "</div>"
            ],
            "text/plain": [
              "         Open    High     Low   Close     Volume\n",
              "count 1257.00 1257.00 1257.00 1257.00    1257.00\n",
              "mean  1032.74 1042.33 1022.93 1033.15 1770207.39\n",
              "std    228.45  231.53  226.08  229.10  866833.92\n",
              "min    625.50  634.50  617.84  622.61  521141.00\n",
              "25%    808.01  813.49  804.06  808.49 1216028.00\n",
              "50%   1053.89 1065.00 1041.22 1052.90 1551325.00\n",
              "75%   1189.69 1200.20 1176.25 1190.13 2037263.00\n",
              "max   1585.03 1591.88 1562.31 1576.25 6658855.00"
            ]
          },
          "metadata": {
            "tags": []
          },
          "execution_count": 103
        }
      ]
    },
    {
      "cell_type": "markdown",
      "metadata": {
        "id": "p12duQuPlWSU",
        "colab_type": "text"
      },
      "source": [
        "Zbuduj wykres ceny zamknięcia (_Close_) dla obiektu _google_."
      ]
    },
    {
      "cell_type": "code",
      "metadata": {
        "id": "tmpm-uiAlKgv",
        "colab_type": "code",
        "colab": {
          "base_uri": "https://localhost:8080/",
          "height": 293
        },
        "outputId": "2c582606-386e-4b90-e2db-9382b23069a7"
      },
      "source": [
        "google.Close.plot(c = 'red')"
      ],
      "execution_count": 104,
      "outputs": [
        {
          "output_type": "execute_result",
          "data": {
            "text/plain": [
              "<matplotlib.axes._subplots.AxesSubplot at 0x7f75d3954828>"
            ]
          },
          "metadata": {
            "tags": []
          },
          "execution_count": 104
        },
        {
          "output_type": "display_data",
          "data": {
            "image/png": "[encoded data removed]",
            "text/plain": [
              "<Figure size 432x288 with 1 Axes>"
            ]
          },
          "metadata": {
            "tags": [],
            "needs_background": "light"
          }
        }
      ]
    },
    {
      "cell_type": "markdown",
      "metadata": {
        "id": "XQLYT2m11wVG",
        "colab_type": "text"
      },
      "source": [
        "### <a name='3'></a> Ćwiczenie 123\n",
        "Zamień indeks _Date_ na kolumnę. Przypisz trwale zmiany do zniennej _google_."
      ]
    },
    {
      "cell_type": "code",
      "metadata": {
        "id": "Ac1OnxjOh3fa",
        "colab_type": "code",
        "colab": {}
      },
      "source": [
        "google = google.reset_index()\n"
      ],
      "execution_count": 105,
      "outputs": []
    },
    {
      "cell_type": "markdown",
      "metadata": {
        "id": "SRfQiXpGiXBc",
        "colab_type": "text"
      },
      "source": [
        "Przypisz dwie nowe kolumny do obiektu _google_ dodając kolumnę z aktualnym numerem miesiąca o nazwie _'Month'_ oraz z rokiem o nazwie _'Year'_."
      ]
    },
    {
      "cell_type": "code",
      "metadata": {
        "id": "S32izk-BiL_q",
        "colab_type": "code",
        "colab": {
          "base_uri": "https://localhost:8080/",
          "height": 402
        },
        "outputId": "fcd213e0-422e-4f30-ce2b-d6774dcacf4d"
      },
      "source": [
        "google['Month'] = pd.DatetimeIndex(google['Date']).month\n",
        "google['Year'] = pd.DatetimeIndex(google['Date']).year\n",
        "google\n"
      ],
      "execution_count": 106,
      "outputs": [
        {
          "output_type": "execute_result",
          "data": {
            "text/html": [
              "<div>\n",
              "<style scoped>\n",
              "    .dataframe tbody tr th:only-of-type {\n",
              "        vertical-align: middle;\n",
              "    }\n",
              "\n",
              "    .dataframe tbody tr th {\n",
              "        vertical-align: top;\n",
              "    }\n",
              "\n",
              "    .dataframe thead th {\n",
              "        text-align: right;\n",
              "    }\n",
              "</style>\n",
              "<table border=\"1\" class=\"dataframe\">\n",
              "  <thead>\n",
              "    <tr style=\"text-align: right;\">\n",
              "      <th></th>\n",
              "      <th>Date</th>\n",
              "      <th>Open</th>\n",
              "      <th>High</th>\n",
              "      <th>Low</th>\n",
              "      <th>Close</th>\n",
              "      <th>Volume</th>\n",
              "      <th>Month</th>\n",
              "      <th>Year</th>\n",
              "    </tr>\n",
              "  </thead>\n",
              "  <tbody>\n",
              "    <tr>\n",
              "      <th>0</th>\n",
              "      <td>2020-08-21</td>\n",
              "      <td>1571.80</td>\n",
              "      <td>1591.88</td>\n",
              "      <td>1562.31</td>\n",
              "      <td>1575.57</td>\n",
              "      <td>1742275</td>\n",
              "      <td>8</td>\n",
              "      <td>2020</td>\n",
              "    </tr>\n",
              "    <tr>\n",
              "      <th>1</th>\n",
              "      <td>2020-08-20</td>\n",
              "      <td>1539.97</td>\n",
              "      <td>1580.17</td>\n",
              "      <td>1534.46</td>\n",
              "      <td>1576.25</td>\n",
              "      <td>1319131</td>\n",
              "      <td>8</td>\n",
              "      <td>2020</td>\n",
              "    </tr>\n",
              "    <tr>\n",
              "      <th>2</th>\n",
              "      <td>2020-08-19</td>\n",
              "      <td>1552.49</td>\n",
              "      <td>1568.86</td>\n",
              "      <td>1540.00</td>\n",
              "      <td>1544.61</td>\n",
              "      <td>1523592</td>\n",
              "      <td>8</td>\n",
              "      <td>2020</td>\n",
              "    </tr>\n",
              "    <tr>\n",
              "      <th>3</th>\n",
              "      <td>2020-08-18</td>\n",
              "      <td>1526.12</td>\n",
              "      <td>1557.37</td>\n",
              "      <td>1521.66</td>\n",
              "      <td>1555.78</td>\n",
              "      <td>1418850</td>\n",
              "      <td>8</td>\n",
              "      <td>2020</td>\n",
              "    </tr>\n",
              "    <tr>\n",
              "      <th>4</th>\n",
              "      <td>2020-08-17</td>\n",
              "      <td>1515.97</td>\n",
              "      <td>1523.78</td>\n",
              "      <td>1505.00</td>\n",
              "      <td>1516.24</td>\n",
              "      <td>999934</td>\n",
              "      <td>8</td>\n",
              "      <td>2020</td>\n",
              "    </tr>\n",
              "    <tr>\n",
              "      <th>...</th>\n",
              "      <td>...</td>\n",
              "      <td>...</td>\n",
              "      <td>...</td>\n",
              "      <td>...</td>\n",
              "      <td>...</td>\n",
              "      <td>...</td>\n",
              "      <td>...</td>\n",
              "      <td>...</td>\n",
              "    </tr>\n",
              "    <tr>\n",
              "      <th>1252</th>\n",
              "      <td>2015-09-01</td>\n",
              "      <td>633.81</td>\n",
              "      <td>644.44</td>\n",
              "      <td>625.06</td>\n",
              "      <td>629.56</td>\n",
              "      <td>2572800</td>\n",
              "      <td>9</td>\n",
              "      <td>2015</td>\n",
              "    </tr>\n",
              "    <tr>\n",
              "      <th>1253</th>\n",
              "      <td>2015-08-31</td>\n",
              "      <td>654.34</td>\n",
              "      <td>664.41</td>\n",
              "      <td>646.35</td>\n",
              "      <td>647.82</td>\n",
              "      <td>1946800</td>\n",
              "      <td>8</td>\n",
              "      <td>2015</td>\n",
              "    </tr>\n",
              "    <tr>\n",
              "      <th>1254</th>\n",
              "      <td>2015-08-28</td>\n",
              "      <td>665.76</td>\n",
              "      <td>667.00</td>\n",
              "      <td>653.75</td>\n",
              "      <td>659.69</td>\n",
              "      <td>1941800</td>\n",
              "      <td>8</td>\n",
              "      <td>2015</td>\n",
              "    </tr>\n",
              "    <tr>\n",
              "      <th>1255</th>\n",
              "      <td>2015-08-27</td>\n",
              "      <td>671.99</td>\n",
              "      <td>673.98</td>\n",
              "      <td>651.10</td>\n",
              "      <td>667.96</td>\n",
              "      <td>2948700</td>\n",
              "      <td>8</td>\n",
              "      <td>2015</td>\n",
              "    </tr>\n",
              "    <tr>\n",
              "      <th>1256</th>\n",
              "      <td>2015-08-26</td>\n",
              "      <td>643.10</td>\n",
              "      <td>662.48</td>\n",
              "      <td>630.37</td>\n",
              "      <td>659.74</td>\n",
              "      <td>4386900</td>\n",
              "      <td>8</td>\n",
              "      <td>2015</td>\n",
              "    </tr>\n",
              "  </tbody>\n",
              "</table>\n",
              "<p>1257 rows × 8 columns</p>\n",
              "</div>"
            ],
            "text/plain": [
              "           Date    Open    High     Low   Close   Volume  Month  Year\n",
              "0    2020-08-21 1571.80 1591.88 1562.31 1575.57  1742275      8  2020\n",
              "1    2020-08-20 1539.97 1580.17 1534.46 1576.25  1319131      8  2020\n",
              "2    2020-08-19 1552.49 1568.86 1540.00 1544.61  1523592      8  2020\n",
              "3    2020-08-18 1526.12 1557.37 1521.66 1555.78  1418850      8  2020\n",
              "4    2020-08-17 1515.97 1523.78 1505.00 1516.24   999934      8  2020\n",
              "...         ...     ...     ...     ...     ...      ...    ...   ...\n",
              "1252 2015-09-01  633.81  644.44  625.06  629.56  2572800      9  2015\n",
              "1253 2015-08-31  654.34  664.41  646.35  647.82  1946800      8  2015\n",
              "1254 2015-08-28  665.76  667.00  653.75  659.69  1941800      8  2015\n",
              "1255 2015-08-27  671.99  673.98  651.10  667.96  2948700      8  2015\n",
              "1256 2015-08-26  643.10  662.48  630.37  659.74  4386900      8  2015\n",
              "\n",
              "[1257 rows x 8 columns]"
            ]
          },
          "metadata": {
            "tags": []
          },
          "execution_count": 106
        }
      ]
    },
    {
      "cell_type": "markdown",
      "metadata": {
        "id": "4xTKSUzg10MK",
        "colab_type": "text"
      },
      "source": [
        "### <a name='4'></a> Ćwiczenie 124\n",
        "Policz średnią cenę zamknięcia (_Close_) dla poszczególnego roku (pogrupuj dane po roku - kolumna _Year_ i następnie policz wartość średnią)."
      ]
    },
    {
      "cell_type": "code",
      "metadata": {
        "id": "wSFs7z0Qi3Y7",
        "colab_type": "code",
        "colab": {
          "base_uri": "https://localhost:8080/",
          "height": 151
        },
        "outputId": "b82ea0ac-8f43-48a7-af6f-d78d181c44a7"
      },
      "source": [
        "google.groupby('Year').mean()['Close']"
      ],
      "execution_count": 107,
      "outputs": [
        {
          "output_type": "execute_result",
          "data": {
            "text/plain": [
              "Year\n",
              "2015    714.70\n",
              "2016    763.21\n",
              "2017    939.77\n",
              "2018   1122.05\n",
              "2019   1191.22\n",
              "2020   1389.08\n",
              "Name: Close, dtype: float64"
            ]
          },
          "metadata": {
            "tags": []
          },
          "execution_count": 107
        }
      ]
    },
    {
      "cell_type": "markdown",
      "metadata": {
        "id": "DSqQjdS4j-wl",
        "colab_type": "text"
      },
      "source": [
        "Otrzymane wartości przedstaw na wykresie wykorzystując metodę _plot()_."
      ]
    },
    {
      "cell_type": "code",
      "metadata": {
        "id": "0nBtvC2tjaTK",
        "colab_type": "code",
        "colab": {
          "base_uri": "https://localhost:8080/",
          "height": 320
        },
        "outputId": "0885dc63-c165-4583-bc56-fc32ad83189b"
      },
      "source": [
        "google.groupby('Year').mean()['Close'].plot(kind = 'bar')"
      ],
      "execution_count": 108,
      "outputs": [
        {
          "output_type": "execute_result",
          "data": {
            "text/plain": [
              "<matplotlib.axes._subplots.AxesSubplot at 0x7f75d394c5c0>"
            ]
          },
          "metadata": {
            "tags": []
          },
          "execution_count": 108
        },
        {
          "output_type": "display_data",
          "data": {
            "image/png": "[encoded data removed]",
            "text/plain": [
              "<Figure size 432x288 with 1 Axes>"
            ]
          },
          "metadata": {
            "tags": [],
            "needs_background": "light"
          }
        }
      ]
    },
    {
      "cell_type": "markdown",
      "metadata": {
        "id": "RduPz9PDkR2-",
        "colab_type": "text"
      },
      "source": [
        "Policz średnią cenę zamknięcia (_Close_) dla miesiąca (pogrupuj dane po miesiącu - kolumna _Month_ i następnie policz wartość średnią)."
      ]
    },
    {
      "cell_type": "code",
      "metadata": {
        "id": "4Vd83xT_kIsg",
        "colab_type": "code",
        "colab": {
          "base_uri": "https://localhost:8080/",
          "height": 252
        },
        "outputId": "bfbe90e4-a797-4668-d13d-c364bf7ac723"
      },
      "source": [
        "google.groupby('Month').mean()['Close']"
      ],
      "execution_count": 109,
      "outputs": [
        {
          "output_type": "execute_result",
          "data": {
            "text/plain": [
              "Month\n",
              "1    1052.83\n",
              "2    1044.11\n",
              "3    1008.99\n",
              "4    1027.07\n",
              "5    1057.08\n",
              "6    1070.44\n",
              "7    1123.99\n",
              "8    1089.74\n",
              "9     953.44\n",
              "10    976.73\n",
              "11    991.32\n",
              "12    999.30\n",
              "Name: Close, dtype: float64"
            ]
          },
          "metadata": {
            "tags": []
          },
          "execution_count": 109
        }
      ]
    },
    {
      "cell_type": "markdown",
      "metadata": {
        "id": "ytITHhjjkaoO",
        "colab_type": "text"
      },
      "source": [
        "Otrzymane wartości przedstaw na wykresie wykorzystując metodę _plot()_.\n",
        "Zauważ, które miesiące mogą wskazywać na słabsze okresy na giełdzie."
      ]
    },
    {
      "cell_type": "code",
      "metadata": {
        "id": "ob02yPQRkK3E",
        "colab_type": "code",
        "colab": {
          "base_uri": "https://localhost:8080/",
          "height": 306
        },
        "outputId": "ecc38dc9-42f6-40e5-f314-e3a24695e51d"
      },
      "source": [
        "google.groupby('Month').mean()['Close'].plot(kind = 'bar')"
      ],
      "execution_count": 110,
      "outputs": [
        {
          "output_type": "execute_result",
          "data": {
            "text/plain": [
              "<matplotlib.axes._subplots.AxesSubplot at 0x7f75d3843d68>"
            ]
          },
          "metadata": {
            "tags": []
          },
          "execution_count": 110
        },
        {
          "output_type": "display_data",
          "data": {
            "image/png": "[encoded data removed]",
            "text/plain": [
              "<Figure size 432x288 with 1 Axes>"
            ]
          },
          "metadata": {
            "tags": [],
            "needs_background": "light"
          }
        }
      ]
    },
    {
      "cell_type": "markdown",
      "metadata": {
        "id": "o3HKIKlP15Ro",
        "colab_type": "text"
      },
      "source": [
        "### <a name='5'></a> Ćwiczenie 125\n",
        "Pogrupuj dane z obiektu _google_ na poziomie roku i miesiąca. Następnie policz wartość średnią."
      ]
    },
    {
      "cell_type": "code",
      "metadata": {
        "id": "DptCcOtNkokd",
        "colab_type": "code",
        "colab": {
          "base_uri": "https://localhost:8080/",
          "height": 235
        },
        "outputId": "f84ce9ae-15d9-469b-bb3f-bfeec603ee6a"
      },
      "source": [
        "google.groupby(['Year', 'Month']).mean()['Close']"
      ],
      "execution_count": 111,
      "outputs": [
        {
          "output_type": "execute_result",
          "data": {
            "text/plain": [
              "Year  Month\n",
              "2015  8        658.80\n",
              "      9        647.79\n",
              "      10       691.56\n",
              "      11       759.64\n",
              "      12       771.04\n",
              "                ...  \n",
              "2020  4       1230.11\n",
              "      5       1381.37\n",
              "      6       1431.60\n",
              "      7       1515.32\n",
              "      8       1514.19\n",
              "Name: Close, Length: 61, dtype: float64"
            ]
          },
          "metadata": {
            "tags": []
          },
          "execution_count": 111
        }
      ]
    },
    {
      "cell_type": "markdown",
      "metadata": {
        "id": "PunXd_Ey16so",
        "colab_type": "text"
      },
      "source": [
        "### <a name='6'></a> Ćwiczenie 126\n",
        "Znajdź indeks dla którego kolumna _Close_ przyjmuje wartość największą."
      ]
    },
    {
      "cell_type": "code",
      "metadata": {
        "id": "PIUT3b7Rm7v1",
        "colab_type": "code",
        "colab": {
          "base_uri": "https://localhost:8080/",
          "height": 34
        },
        "outputId": "3de5c93a-546f-4059-be5c-ffdc72ee6fce"
      },
      "source": [
        "google.Close.argmax()"
      ],
      "execution_count": 112,
      "outputs": [
        {
          "output_type": "execute_result",
          "data": {
            "text/plain": [
              "1"
            ]
          },
          "metadata": {
            "tags": []
          },
          "execution_count": 112
        }
      ]
    },
    {
      "cell_type": "code",
      "metadata": {
        "id": "sEGw8xv-AB_7",
        "colab_type": "code",
        "colab": {
          "base_uri": "https://localhost:8080/",
          "height": 285
        },
        "outputId": "3da6ec19-b34f-4901-9a4b-f742d795ba14"
      },
      "source": [
        "df = google.iloc[::-1]\n",
        "df.index = df.index[::-1]\n",
        "df.Close.plot()"
      ],
      "execution_count": 113,
      "outputs": [
        {
          "output_type": "execute_result",
          "data": {
            "text/plain": [
              "<matplotlib.axes._subplots.AxesSubplot at 0x7f75d37bb5c0>"
            ]
          },
          "metadata": {
            "tags": []
          },
          "execution_count": 113
        },
        {
          "output_type": "display_data",
          "data": {
            "image/png": "[encoded data removed]",
            "text/plain": [
              "<Figure size 432x288 with 1 Axes>"
            ]
          },
          "metadata": {
            "tags": [],
            "needs_background": "light"
          }
        }
      ]
    },
    {
      "cell_type": "markdown",
      "metadata": {
        "id": "WETiC6NEnPm0",
        "colab_type": "text"
      },
      "source": [
        "Wytnij wiersz dla tego indeksu z obiektu _google_ jako obiekt DataFrame. Odczytaj datę."
      ]
    },
    {
      "cell_type": "code",
      "metadata": {
        "id": "XccuGttMnL_d",
        "colab_type": "code",
        "colab": {
          "base_uri": "https://localhost:8080/",
          "height": 77
        },
        "outputId": "12920fae-c475-4956-d7db-d19fff14f7b7"
      },
      "source": [
        "google.loc[google.Close == max(google.Close)]"
      ],
      "execution_count": 114,
      "outputs": [
        {
          "output_type": "execute_result",
          "data": {
            "text/html": [
              "<div>\n",
              "<style scoped>\n",
              "    .dataframe tbody tr th:only-of-type {\n",
              "        vertical-align: middle;\n",
              "    }\n",
              "\n",
              "    .dataframe tbody tr th {\n",
              "        vertical-align: top;\n",
              "    }\n",
              "\n",
              "    .dataframe thead th {\n",
              "        text-align: right;\n",
              "    }\n",
              "</style>\n",
              "<table border=\"1\" class=\"dataframe\">\n",
              "  <thead>\n",
              "    <tr style=\"text-align: right;\">\n",
              "      <th></th>\n",
              "      <th>Date</th>\n",
              "      <th>Open</th>\n",
              "      <th>High</th>\n",
              "      <th>Low</th>\n",
              "      <th>Close</th>\n",
              "      <th>Volume</th>\n",
              "      <th>Month</th>\n",
              "      <th>Year</th>\n",
              "    </tr>\n",
              "  </thead>\n",
              "  <tbody>\n",
              "    <tr>\n",
              "      <th>1</th>\n",
              "      <td>2020-08-20</td>\n",
              "      <td>1539.97</td>\n",
              "      <td>1580.17</td>\n",
              "      <td>1534.46</td>\n",
              "      <td>1576.25</td>\n",
              "      <td>1319131</td>\n",
              "      <td>8</td>\n",
              "      <td>2020</td>\n",
              "    </tr>\n",
              "  </tbody>\n",
              "</table>\n",
              "</div>"
            ],
            "text/plain": [
              "        Date    Open    High     Low   Close   Volume  Month  Year\n",
              "1 2020-08-20 1539.97 1580.17 1534.46 1576.25  1319131      8  2020"
            ]
          },
          "metadata": {
            "tags": []
          },
          "execution_count": 114
        }
      ]
    },
    {
      "cell_type": "markdown",
      "metadata": {
        "id": "hOhqDRz618Tx",
        "colab_type": "text"
      },
      "source": [
        "### <a name='7'></a> Ćwiczenie 127\n",
        "Z obiektu _google_ wytnij kolumny _Date_, _Open_, _Close_, _Volume_.\n",
        "Nie zmieniaj pierwotnego obiektu _google_!\n"
      ]
    },
    {
      "cell_type": "code",
      "metadata": {
        "id": "P17Vtv4imw28",
        "colab_type": "code",
        "colab": {
          "base_uri": "https://localhost:8080/",
          "height": 402
        },
        "outputId": "df148ec7-9ed4-48c9-b60f-53e382a0d62d"
      },
      "source": [
        "google[['Date', 'Open', 'Close', 'Volume']] # w takim wypadku trzeba liste zagnieździć"
      ],
      "execution_count": 115,
      "outputs": [
        {
          "output_type": "execute_result",
          "data": {
            "text/html": [
              "<div>\n",
              "<style scoped>\n",
              "    .dataframe tbody tr th:only-of-type {\n",
              "        vertical-align: middle;\n",
              "    }\n",
              "\n",
              "    .dataframe tbody tr th {\n",
              "        vertical-align: top;\n",
              "    }\n",
              "\n",
              "    .dataframe thead th {\n",
              "        text-align: right;\n",
              "    }\n",
              "</style>\n",
              "<table border=\"1\" class=\"dataframe\">\n",
              "  <thead>\n",
              "    <tr style=\"text-align: right;\">\n",
              "      <th></th>\n",
              "      <th>Date</th>\n",
              "      <th>Open</th>\n",
              "      <th>Close</th>\n",
              "      <th>Volume</th>\n",
              "    </tr>\n",
              "  </thead>\n",
              "  <tbody>\n",
              "    <tr>\n",
              "      <th>0</th>\n",
              "      <td>2020-08-21</td>\n",
              "      <td>1571.80</td>\n",
              "      <td>1575.57</td>\n",
              "      <td>1742275</td>\n",
              "    </tr>\n",
              "    <tr>\n",
              "      <th>1</th>\n",
              "      <td>2020-08-20</td>\n",
              "      <td>1539.97</td>\n",
              "      <td>1576.25</td>\n",
              "      <td>1319131</td>\n",
              "    </tr>\n",
              "    <tr>\n",
              "      <th>2</th>\n",
              "      <td>2020-08-19</td>\n",
              "      <td>1552.49</td>\n",
              "      <td>1544.61</td>\n",
              "      <td>1523592</td>\n",
              "    </tr>\n",
              "    <tr>\n",
              "      <th>3</th>\n",
              "      <td>2020-08-18</td>\n",
              "      <td>1526.12</td>\n",
              "      <td>1555.78</td>\n",
              "      <td>1418850</td>\n",
              "    </tr>\n",
              "    <tr>\n",
              "      <th>4</th>\n",
              "      <td>2020-08-17</td>\n",
              "      <td>1515.97</td>\n",
              "      <td>1516.24</td>\n",
              "      <td>999934</td>\n",
              "    </tr>\n",
              "    <tr>\n",
              "      <th>...</th>\n",
              "      <td>...</td>\n",
              "      <td>...</td>\n",
              "      <td>...</td>\n",
              "      <td>...</td>\n",
              "    </tr>\n",
              "    <tr>\n",
              "      <th>1252</th>\n",
              "      <td>2015-09-01</td>\n",
              "      <td>633.81</td>\n",
              "      <td>629.56</td>\n",
              "      <td>2572800</td>\n",
              "    </tr>\n",
              "    <tr>\n",
              "      <th>1253</th>\n",
              "      <td>2015-08-31</td>\n",
              "      <td>654.34</td>\n",
              "      <td>647.82</td>\n",
              "      <td>1946800</td>\n",
              "    </tr>\n",
              "    <tr>\n",
              "      <th>1254</th>\n",
              "      <td>2015-08-28</td>\n",
              "      <td>665.76</td>\n",
              "      <td>659.69</td>\n",
              "      <td>1941800</td>\n",
              "    </tr>\n",
              "    <tr>\n",
              "      <th>1255</th>\n",
              "      <td>2015-08-27</td>\n",
              "      <td>671.99</td>\n",
              "      <td>667.96</td>\n",
              "      <td>2948700</td>\n",
              "    </tr>\n",
              "    <tr>\n",
              "      <th>1256</th>\n",
              "      <td>2015-08-26</td>\n",
              "      <td>643.10</td>\n",
              "      <td>659.74</td>\n",
              "      <td>4386900</td>\n",
              "    </tr>\n",
              "  </tbody>\n",
              "</table>\n",
              "<p>1257 rows × 4 columns</p>\n",
              "</div>"
            ],
            "text/plain": [
              "           Date    Open   Close   Volume\n",
              "0    2020-08-21 1571.80 1575.57  1742275\n",
              "1    2020-08-20 1539.97 1576.25  1319131\n",
              "2    2020-08-19 1552.49 1544.61  1523592\n",
              "3    2020-08-18 1526.12 1555.78  1418850\n",
              "4    2020-08-17 1515.97 1516.24   999934\n",
              "...         ...     ...     ...      ...\n",
              "1252 2015-09-01  633.81  629.56  2572800\n",
              "1253 2015-08-31  654.34  647.82  1946800\n",
              "1254 2015-08-28  665.76  659.69  1941800\n",
              "1255 2015-08-27  671.99  667.96  2948700\n",
              "1256 2015-08-26  643.10  659.74  4386900\n",
              "\n",
              "[1257 rows x 4 columns]"
            ]
          },
          "metadata": {
            "tags": []
          },
          "execution_count": 115
        }
      ]
    },
    {
      "cell_type": "markdown",
      "metadata": {
        "id": "TXUd_4631-gw",
        "colab_type": "text"
      },
      "source": [
        "### <a name='8'></a> Ćwiczenie 128\n",
        "Ustaw z powrotem indeks dla kolumny _Date_. Wyświetl obiekt _google_."
      ]
    },
    {
      "cell_type": "code",
      "metadata": {
        "id": "E4zwlRNFoMMz",
        "colab_type": "code",
        "colab": {}
      },
      "source": [
        "google = google.set_index('Date')\n"
      ],
      "execution_count": 116,
      "outputs": []
    },
    {
      "cell_type": "code",
      "metadata": {
        "id": "y6ExF1QEB-Nm",
        "colab_type": "code",
        "colab": {
          "base_uri": "https://localhost:8080/",
          "height": 431
        },
        "outputId": "591f509d-57b1-4433-a18e-3e6cf4bf925d"
      },
      "source": [
        "google"
      ],
      "execution_count": 117,
      "outputs": [
        {
          "output_type": "execute_result",
          "data": {
            "text/html": [
              "<div>\n",
              "<style scoped>\n",
              "    .dataframe tbody tr th:only-of-type {\n",
              "        vertical-align: middle;\n",
              "    }\n",
              "\n",
              "    .dataframe tbody tr th {\n",
              "        vertical-align: top;\n",
              "    }\n",
              "\n",
              "    .dataframe thead th {\n",
              "        text-align: right;\n",
              "    }\n",
              "</style>\n",
              "<table border=\"1\" class=\"dataframe\">\n",
              "  <thead>\n",
              "    <tr style=\"text-align: right;\">\n",
              "      <th></th>\n",
              "      <th>Open</th>\n",
              "      <th>High</th>\n",
              "      <th>Low</th>\n",
              "      <th>Close</th>\n",
              "      <th>Volume</th>\n",
              "      <th>Month</th>\n",
              "      <th>Year</th>\n",
              "    </tr>\n",
              "    <tr>\n",
              "      <th>Date</th>\n",
              "      <th></th>\n",
              "      <th></th>\n",
              "      <th></th>\n",
              "      <th></th>\n",
              "      <th></th>\n",
              "      <th></th>\n",
              "      <th></th>\n",
              "    </tr>\n",
              "  </thead>\n",
              "  <tbody>\n",
              "    <tr>\n",
              "      <th>2020-08-21</th>\n",
              "      <td>1571.80</td>\n",
              "      <td>1591.88</td>\n",
              "      <td>1562.31</td>\n",
              "      <td>1575.57</td>\n",
              "      <td>1742275</td>\n",
              "      <td>8</td>\n",
              "      <td>2020</td>\n",
              "    </tr>\n",
              "    <tr>\n",
              "      <th>2020-08-20</th>\n",
              "      <td>1539.97</td>\n",
              "      <td>1580.17</td>\n",
              "      <td>1534.46</td>\n",
              "      <td>1576.25</td>\n",
              "      <td>1319131</td>\n",
              "      <td>8</td>\n",
              "      <td>2020</td>\n",
              "    </tr>\n",
              "    <tr>\n",
              "      <th>2020-08-19</th>\n",
              "      <td>1552.49</td>\n",
              "      <td>1568.86</td>\n",
              "      <td>1540.00</td>\n",
              "      <td>1544.61</td>\n",
              "      <td>1523592</td>\n",
              "      <td>8</td>\n",
              "      <td>2020</td>\n",
              "    </tr>\n",
              "    <tr>\n",
              "      <th>2020-08-18</th>\n",
              "      <td>1526.12</td>\n",
              "      <td>1557.37</td>\n",
              "      <td>1521.66</td>\n",
              "      <td>1555.78</td>\n",
              "      <td>1418850</td>\n",
              "      <td>8</td>\n",
              "      <td>2020</td>\n",
              "    </tr>\n",
              "    <tr>\n",
              "      <th>2020-08-17</th>\n",
              "      <td>1515.97</td>\n",
              "      <td>1523.78</td>\n",
              "      <td>1505.00</td>\n",
              "      <td>1516.24</td>\n",
              "      <td>999934</td>\n",
              "      <td>8</td>\n",
              "      <td>2020</td>\n",
              "    </tr>\n",
              "    <tr>\n",
              "      <th>...</th>\n",
              "      <td>...</td>\n",
              "      <td>...</td>\n",
              "      <td>...</td>\n",
              "      <td>...</td>\n",
              "      <td>...</td>\n",
              "      <td>...</td>\n",
              "      <td>...</td>\n",
              "    </tr>\n",
              "    <tr>\n",
              "      <th>2015-09-01</th>\n",
              "      <td>633.81</td>\n",
              "      <td>644.44</td>\n",
              "      <td>625.06</td>\n",
              "      <td>629.56</td>\n",
              "      <td>2572800</td>\n",
              "      <td>9</td>\n",
              "      <td>2015</td>\n",
              "    </tr>\n",
              "    <tr>\n",
              "      <th>2015-08-31</th>\n",
              "      <td>654.34</td>\n",
              "      <td>664.41</td>\n",
              "      <td>646.35</td>\n",
              "      <td>647.82</td>\n",
              "      <td>1946800</td>\n",
              "      <td>8</td>\n",
              "      <td>2015</td>\n",
              "    </tr>\n",
              "    <tr>\n",
              "      <th>2015-08-28</th>\n",
              "      <td>665.76</td>\n",
              "      <td>667.00</td>\n",
              "      <td>653.75</td>\n",
              "      <td>659.69</td>\n",
              "      <td>1941800</td>\n",
              "      <td>8</td>\n",
              "      <td>2015</td>\n",
              "    </tr>\n",
              "    <tr>\n",
              "      <th>2015-08-27</th>\n",
              "      <td>671.99</td>\n",
              "      <td>673.98</td>\n",
              "      <td>651.10</td>\n",
              "      <td>667.96</td>\n",
              "      <td>2948700</td>\n",
              "      <td>8</td>\n",
              "      <td>2015</td>\n",
              "    </tr>\n",
              "    <tr>\n",
              "      <th>2015-08-26</th>\n",
              "      <td>643.10</td>\n",
              "      <td>662.48</td>\n",
              "      <td>630.37</td>\n",
              "      <td>659.74</td>\n",
              "      <td>4386900</td>\n",
              "      <td>8</td>\n",
              "      <td>2015</td>\n",
              "    </tr>\n",
              "  </tbody>\n",
              "</table>\n",
              "<p>1257 rows × 7 columns</p>\n",
              "</div>"
            ],
            "text/plain": [
              "              Open    High     Low   Close   Volume  Month  Year\n",
              "Date                                                            \n",
              "2020-08-21 1571.80 1591.88 1562.31 1575.57  1742275      8  2020\n",
              "2020-08-20 1539.97 1580.17 1534.46 1576.25  1319131      8  2020\n",
              "2020-08-19 1552.49 1568.86 1540.00 1544.61  1523592      8  2020\n",
              "2020-08-18 1526.12 1557.37 1521.66 1555.78  1418850      8  2020\n",
              "2020-08-17 1515.97 1523.78 1505.00 1516.24   999934      8  2020\n",
              "...            ...     ...     ...     ...      ...    ...   ...\n",
              "2015-09-01  633.81  644.44  625.06  629.56  2572800      9  2015\n",
              "2015-08-31  654.34  664.41  646.35  647.82  1946800      8  2015\n",
              "2015-08-28  665.76  667.00  653.75  659.69  1941800      8  2015\n",
              "2015-08-27  671.99  673.98  651.10  667.96  2948700      8  2015\n",
              "2015-08-26  643.10  662.48  630.37  659.74  4386900      8  2015\n",
              "\n",
              "[1257 rows x 7 columns]"
            ]
          },
          "metadata": {
            "tags": []
          },
          "execution_count": 117
        }
      ]
    },
    {
      "cell_type": "markdown",
      "metadata": {
        "id": "tgI6xEn-2AQo",
        "colab_type": "text"
      },
      "source": [
        "### <a name='9'></a> Ćwiczenie 129\n",
        "Usuń na stałe kolumny _Year_ i _Month_ z obiektu _google_. Wyświetl obiekt _google_."
      ]
    },
    {
      "cell_type": "code",
      "metadata": {
        "id": "Qpy5zTecoY1T",
        "colab_type": "code",
        "colab": {
          "base_uri": "https://localhost:8080/",
          "height": 431
        },
        "outputId": "13410a92-a94e-4e0e-a7e5-26c1fd58d9e9"
      },
      "source": [
        "del google['Year']\n",
        "del google['Month']\n",
        "google"
      ],
      "execution_count": 118,
      "outputs": [
        {
          "output_type": "execute_result",
          "data": {
            "text/html": [
              "<div>\n",
              "<style scoped>\n",
              "    .dataframe tbody tr th:only-of-type {\n",
              "        vertical-align: middle;\n",
              "    }\n",
              "\n",
              "    .dataframe tbody tr th {\n",
              "        vertical-align: top;\n",
              "    }\n",
              "\n",
              "    .dataframe thead th {\n",
              "        text-align: right;\n",
              "    }\n",
              "</style>\n",
              "<table border=\"1\" class=\"dataframe\">\n",
              "  <thead>\n",
              "    <tr style=\"text-align: right;\">\n",
              "      <th></th>\n",
              "      <th>Open</th>\n",
              "      <th>High</th>\n",
              "      <th>Low</th>\n",
              "      <th>Close</th>\n",
              "      <th>Volume</th>\n",
              "    </tr>\n",
              "    <tr>\n",
              "      <th>Date</th>\n",
              "      <th></th>\n",
              "      <th></th>\n",
              "      <th></th>\n",
              "      <th></th>\n",
              "      <th></th>\n",
              "    </tr>\n",
              "  </thead>\n",
              "  <tbody>\n",
              "    <tr>\n",
              "      <th>2020-08-21</th>\n",
              "      <td>1571.80</td>\n",
              "      <td>1591.88</td>\n",
              "      <td>1562.31</td>\n",
              "      <td>1575.57</td>\n",
              "      <td>1742275</td>\n",
              "    </tr>\n",
              "    <tr>\n",
              "      <th>2020-08-20</th>\n",
              "      <td>1539.97</td>\n",
              "      <td>1580.17</td>\n",
              "      <td>1534.46</td>\n",
              "      <td>1576.25</td>\n",
              "      <td>1319131</td>\n",
              "    </tr>\n",
              "    <tr>\n",
              "      <th>2020-08-19</th>\n",
              "      <td>1552.49</td>\n",
              "      <td>1568.86</td>\n",
              "      <td>1540.00</td>\n",
              "      <td>1544.61</td>\n",
              "      <td>1523592</td>\n",
              "    </tr>\n",
              "    <tr>\n",
              "      <th>2020-08-18</th>\n",
              "      <td>1526.12</td>\n",
              "      <td>1557.37</td>\n",
              "      <td>1521.66</td>\n",
              "      <td>1555.78</td>\n",
              "      <td>1418850</td>\n",
              "    </tr>\n",
              "    <tr>\n",
              "      <th>2020-08-17</th>\n",
              "      <td>1515.97</td>\n",
              "      <td>1523.78</td>\n",
              "      <td>1505.00</td>\n",
              "      <td>1516.24</td>\n",
              "      <td>999934</td>\n",
              "    </tr>\n",
              "    <tr>\n",
              "      <th>...</th>\n",
              "      <td>...</td>\n",
              "      <td>...</td>\n",
              "      <td>...</td>\n",
              "      <td>...</td>\n",
              "      <td>...</td>\n",
              "    </tr>\n",
              "    <tr>\n",
              "      <th>2015-09-01</th>\n",
              "      <td>633.81</td>\n",
              "      <td>644.44</td>\n",
              "      <td>625.06</td>\n",
              "      <td>629.56</td>\n",
              "      <td>2572800</td>\n",
              "    </tr>\n",
              "    <tr>\n",
              "      <th>2015-08-31</th>\n",
              "      <td>654.34</td>\n",
              "      <td>664.41</td>\n",
              "      <td>646.35</td>\n",
              "      <td>647.82</td>\n",
              "      <td>1946800</td>\n",
              "    </tr>\n",
              "    <tr>\n",
              "      <th>2015-08-28</th>\n",
              "      <td>665.76</td>\n",
              "      <td>667.00</td>\n",
              "      <td>653.75</td>\n",
              "      <td>659.69</td>\n",
              "      <td>1941800</td>\n",
              "    </tr>\n",
              "    <tr>\n",
              "      <th>2015-08-27</th>\n",
              "      <td>671.99</td>\n",
              "      <td>673.98</td>\n",
              "      <td>651.10</td>\n",
              "      <td>667.96</td>\n",
              "      <td>2948700</td>\n",
              "    </tr>\n",
              "    <tr>\n",
              "      <th>2015-08-26</th>\n",
              "      <td>643.10</td>\n",
              "      <td>662.48</td>\n",
              "      <td>630.37</td>\n",
              "      <td>659.74</td>\n",
              "      <td>4386900</td>\n",
              "    </tr>\n",
              "  </tbody>\n",
              "</table>\n",
              "<p>1257 rows × 5 columns</p>\n",
              "</div>"
            ],
            "text/plain": [
              "              Open    High     Low   Close   Volume\n",
              "Date                                               \n",
              "2020-08-21 1571.80 1591.88 1562.31 1575.57  1742275\n",
              "2020-08-20 1539.97 1580.17 1534.46 1576.25  1319131\n",
              "2020-08-19 1552.49 1568.86 1540.00 1544.61  1523592\n",
              "2020-08-18 1526.12 1557.37 1521.66 1555.78  1418850\n",
              "2020-08-17 1515.97 1523.78 1505.00 1516.24   999934\n",
              "...            ...     ...     ...     ...      ...\n",
              "2015-09-01  633.81  644.44  625.06  629.56  2572800\n",
              "2015-08-31  654.34  664.41  646.35  647.82  1946800\n",
              "2015-08-28  665.76  667.00  653.75  659.69  1941800\n",
              "2015-08-27  671.99  673.98  651.10  667.96  2948700\n",
              "2015-08-26  643.10  662.48  630.37  659.74  4386900\n",
              "\n",
              "[1257 rows x 5 columns]"
            ]
          },
          "metadata": {
            "tags": []
          },
          "execution_count": 118
        }
      ]
    },
    {
      "cell_type": "markdown",
      "metadata": {
        "id": "wxhpf-uq2B1I",
        "colab_type": "text"
      },
      "source": [
        "### <a name='10'></a> Ćwiczenie 130\n",
        "Przypisz polskie nazwy kolumn (bez polskich znaków):\n",
        "* Open -> Otwarcie\n",
        "* High -> Najwyzszy\n",
        "* Low -> Najnizszy\n",
        "* Close -> Zamkniecie\n",
        "* Volume -> Wolumen\n",
        "\n",
        "do obiektu _google_. Wyświetl obiekt _google_."
      ]
    },
    {
      "cell_type": "code",
      "metadata": {
        "id": "YFc0KW6URsuc",
        "colab_type": "code",
        "colab": {
          "base_uri": "https://localhost:8080/",
          "height": 431
        },
        "outputId": "0f98b5b2-bd18-413f-d6f5-da8394165b61"
      },
      "source": [
        "google.columns = ['Otwarice', 'Najwyzszy', 'Najnizszy', 'Zamkniecie', 'Wolumen']\n",
        "google"
      ],
      "execution_count": 119,
      "outputs": [
        {
          "output_type": "execute_result",
          "data": {
            "text/html": [
              "<div>\n",
              "<style scoped>\n",
              "    .dataframe tbody tr th:only-of-type {\n",
              "        vertical-align: middle;\n",
              "    }\n",
              "\n",
              "    .dataframe tbody tr th {\n",
              "        vertical-align: top;\n",
              "    }\n",
              "\n",
              "    .dataframe thead th {\n",
              "        text-align: right;\n",
              "    }\n",
              "</style>\n",
              "<table border=\"1\" class=\"dataframe\">\n",
              "  <thead>\n",
              "    <tr style=\"text-align: right;\">\n",
              "      <th></th>\n",
              "      <th>Otwarice</th>\n",
              "      <th>Najwyzszy</th>\n",
              "      <th>Najnizszy</th>\n",
              "      <th>Zamkniecie</th>\n",
              "      <th>Wolumen</th>\n",
              "    </tr>\n",
              "    <tr>\n",
              "      <th>Date</th>\n",
              "      <th></th>\n",
              "      <th></th>\n",
              "      <th></th>\n",
              "      <th></th>\n",
              "      <th></th>\n",
              "    </tr>\n",
              "  </thead>\n",
              "  <tbody>\n",
              "    <tr>\n",
              "      <th>2020-08-21</th>\n",
              "      <td>1571.80</td>\n",
              "      <td>1591.88</td>\n",
              "      <td>1562.31</td>\n",
              "      <td>1575.57</td>\n",
              "      <td>1742275</td>\n",
              "    </tr>\n",
              "    <tr>\n",
              "      <th>2020-08-20</th>\n",
              "      <td>1539.97</td>\n",
              "      <td>1580.17</td>\n",
              "      <td>1534.46</td>\n",
              "      <td>1576.25</td>\n",
              "      <td>1319131</td>\n",
              "    </tr>\n",
              "    <tr>\n",
              "      <th>2020-08-19</th>\n",
              "      <td>1552.49</td>\n",
              "      <td>1568.86</td>\n",
              "      <td>1540.00</td>\n",
              "      <td>1544.61</td>\n",
              "      <td>1523592</td>\n",
              "    </tr>\n",
              "    <tr>\n",
              "      <th>2020-08-18</th>\n",
              "      <td>1526.12</td>\n",
              "      <td>1557.37</td>\n",
              "      <td>1521.66</td>\n",
              "      <td>1555.78</td>\n",
              "      <td>1418850</td>\n",
              "    </tr>\n",
              "    <tr>\n",
              "      <th>2020-08-17</th>\n",
              "      <td>1515.97</td>\n",
              "      <td>1523.78</td>\n",
              "      <td>1505.00</td>\n",
              "      <td>1516.24</td>\n",
              "      <td>999934</td>\n",
              "    </tr>\n",
              "    <tr>\n",
              "      <th>...</th>\n",
              "      <td>...</td>\n",
              "      <td>...</td>\n",
              "      <td>...</td>\n",
              "      <td>...</td>\n",
              "      <td>...</td>\n",
              "    </tr>\n",
              "    <tr>\n",
              "      <th>2015-09-01</th>\n",
              "      <td>633.81</td>\n",
              "      <td>644.44</td>\n",
              "      <td>625.06</td>\n",
              "      <td>629.56</td>\n",
              "      <td>2572800</td>\n",
              "    </tr>\n",
              "    <tr>\n",
              "      <th>2015-08-31</th>\n",
              "      <td>654.34</td>\n",
              "      <td>664.41</td>\n",
              "      <td>646.35</td>\n",
              "      <td>647.82</td>\n",
              "      <td>1946800</td>\n",
              "    </tr>\n",
              "    <tr>\n",
              "      <th>2015-08-28</th>\n",
              "      <td>665.76</td>\n",
              "      <td>667.00</td>\n",
              "      <td>653.75</td>\n",
              "      <td>659.69</td>\n",
              "      <td>1941800</td>\n",
              "    </tr>\n",
              "    <tr>\n",
              "      <th>2015-08-27</th>\n",
              "      <td>671.99</td>\n",
              "      <td>673.98</td>\n",
              "      <td>651.10</td>\n",
              "      <td>667.96</td>\n",
              "      <td>2948700</td>\n",
              "    </tr>\n",
              "    <tr>\n",
              "      <th>2015-08-26</th>\n",
              "      <td>643.10</td>\n",
              "      <td>662.48</td>\n",
              "      <td>630.37</td>\n",
              "      <td>659.74</td>\n",
              "      <td>4386900</td>\n",
              "    </tr>\n",
              "  </tbody>\n",
              "</table>\n",
              "<p>1257 rows × 5 columns</p>\n",
              "</div>"
            ],
            "text/plain": [
              "            Otwarice  Najwyzszy  Najnizszy  Zamkniecie  Wolumen\n",
              "Date                                                           \n",
              "2020-08-21   1571.80    1591.88    1562.31     1575.57  1742275\n",
              "2020-08-20   1539.97    1580.17    1534.46     1576.25  1319131\n",
              "2020-08-19   1552.49    1568.86    1540.00     1544.61  1523592\n",
              "2020-08-18   1526.12    1557.37    1521.66     1555.78  1418850\n",
              "2020-08-17   1515.97    1523.78    1505.00     1516.24   999934\n",
              "...              ...        ...        ...         ...      ...\n",
              "2015-09-01    633.81     644.44     625.06      629.56  2572800\n",
              "2015-08-31    654.34     664.41     646.35      647.82  1946800\n",
              "2015-08-28    665.76     667.00     653.75      659.69  1941800\n",
              "2015-08-27    671.99     673.98     651.10      667.96  2948700\n",
              "2015-08-26    643.10     662.48     630.37      659.74  4386900\n",
              "\n",
              "[1257 rows x 5 columns]"
            ]
          },
          "metadata": {
            "tags": []
          },
          "execution_count": 119
        }
      ]
    },
    {
      "cell_type": "code",
      "metadata": {
        "id": "wS-DBItECemm",
        "colab_type": "code",
        "colab": {
          "base_uri": "https://localhost:8080/",
          "height": 106
        },
        "outputId": "b4e01778-2957-410f-e603-e142e0cce4b7"
      },
      "source": [
        "google[['Zamkniecie', 'Wolumen']].corr()"
      ],
      "execution_count": 121,
      "outputs": [
        {
          "output_type": "execute_result",
          "data": {
            "text/html": [
              "<div>\n",
              "<style scoped>\n",
              "    .dataframe tbody tr th:only-of-type {\n",
              "        vertical-align: middle;\n",
              "    }\n",
              "\n",
              "    .dataframe tbody tr th {\n",
              "        vertical-align: top;\n",
              "    }\n",
              "\n",
              "    .dataframe thead th {\n",
              "        text-align: right;\n",
              "    }\n",
              "</style>\n",
              "<table border=\"1\" class=\"dataframe\">\n",
              "  <thead>\n",
              "    <tr style=\"text-align: right;\">\n",
              "      <th></th>\n",
              "      <th>Zamkniecie</th>\n",
              "      <th>Wolumen</th>\n",
              "    </tr>\n",
              "  </thead>\n",
              "  <tbody>\n",
              "    <tr>\n",
              "      <th>Zamkniecie</th>\n",
              "      <td>1.00</td>\n",
              "      <td>0.03</td>\n",
              "    </tr>\n",
              "    <tr>\n",
              "      <th>Wolumen</th>\n",
              "      <td>0.03</td>\n",
              "      <td>1.00</td>\n",
              "    </tr>\n",
              "  </tbody>\n",
              "</table>\n",
              "</div>"
            ],
            "text/plain": [
              "            Zamkniecie  Wolumen\n",
              "Zamkniecie        1.00     0.03\n",
              "Wolumen           0.03     1.00"
            ]
          },
          "metadata": {
            "tags": []
          },
          "execution_count": 121
        }
      ]
    },
    {
      "cell_type": "code",
      "metadata": {
        "id": "pIifJGVQDJK4",
        "colab_type": "code",
        "colab": {}
      },
      "source": [
        ""
      ],
      "execution_count": null,
      "outputs": []
    }
  ]
}