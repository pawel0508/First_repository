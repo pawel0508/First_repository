{
  "nbformat": 4,
  "nbformat_minor": 0,
  "metadata": {
    "colab": {
      "name": "021-030_exercises.ipynb",
      "provenance": [],
      "collapsed_sections": [],
      "toc_visible": true,
      "include_colab_link": true
    },
    "kernelspec": {
      "name": "python3",
      "display_name": "Python 3"
    }
  },
  "cells": [
    {
      "cell_type": "markdown",
      "metadata": {
        "id": "view-in-github",
        "colab_type": "text"
      },
      "source": [
        "<a href=\"https://colab.research.google.com/github/pawel0508/First_repository/blob/master/%C4%86wiczenia_3.ipynb\" target=\"_parent\"><img src=\"https://colab.research.google.com/assets/colab-badge.svg\" alt=\"Open In Colab\"/></a>"
      ]
    },
    {
      "cell_type": "markdown",
      "metadata": {
        "id": "WLEgCW5F1hho",
        "colab_type": "text"
      },
      "source": [
        "## Numpy\n",
        "\n",
        "### Spis treści:\n",
        "* [Import biblioteki](#0)\n",
        "* [Ćwiczenie 21](#1)\n",
        "* [Ćwiczenie 22](#2)\n",
        "* [Ćwiczenie 23](#3)\n",
        "* [Ćwiczenie 24](#4)\n",
        "* [Ćwiczenie 25](#5)\n",
        "* [Ćwiczenie 26](#6)\n",
        "* [Ćwiczenie 27](#7)\n",
        "* [Ćwiczenie 28](#8)\n",
        "* [Ćwiczenie 29](#9)\n",
        "* [Ćwiczenie 30](#10)"
      ]
    },
    {
      "cell_type": "markdown",
      "metadata": {
        "id": "zeLOLmTj1kBM",
        "colab_type": "text"
      },
      "source": [
        "### <a name='0'></a>Import biblioteki"
      ]
    },
    {
      "cell_type": "code",
      "metadata": {
        "id": "HXMB7SMe1Wnz",
        "colab_type": "code",
        "colab": {
          "base_uri": "https://localhost:8080/",
          "height": 35
        },
        "outputId": "d425a6be-85e0-4138-e3d0-4c72eed4b4b0"
      },
      "source": [
        "import numpy as np\n",
        "\n",
        "np.__version__"
      ],
      "execution_count": 7,
      "outputs": [
        {
          "output_type": "execute_result",
          "data": {
            "application/vnd.google.colaboratory.intrinsic+json": {
              "type": "string"
            },
            "text/plain": [
              "'1.18.5'"
            ]
          },
          "metadata": {
            "tags": []
          },
          "execution_count": 7
        }
      ]
    },
    {
      "cell_type": "markdown",
      "metadata": {
        "id": "cyc70pMe1oCg",
        "colab_type": "text"
      },
      "source": [
        "### <a name='1'></a> Ćwiczenie 21\n",
        "Wygeneruj poniższą tablicę numpy. Zapisz tablicę do pliku bianarnego o nazwie _'array.npy'_ i następnie wczytaj z powrotem ten plik do innej zmiennej.\n",
        "\n",
        "\n",
        "```\n",
        "array([[ 0,  1,  2,  3],\n",
        "       [ 4,  5,  6,  7],\n",
        "       [ 8,  9, 10, 11]])\n",
        "```\n",
        "\n",
        "\n",
        "__Wskazówka:__ Użyj funkcji _np.save()_ oraz _np.load()_."
      ]
    },
    {
      "cell_type": "code",
      "metadata": {
        "id": "MhvZKgtPKAOF",
        "colab_type": "code",
        "colab": {
          "base_uri": "https://localhost:8080/",
          "height": 67
        },
        "outputId": "c91f90ad-22ff-425f-ed45-ecbe8963cc94"
      },
      "source": [
        "np.save('tblica', np.arange(0, 12).reshape(3, -1))\n",
        "B = np.load('tblica.npy')\n",
        "B"
      ],
      "execution_count": 11,
      "outputs": [
        {
          "output_type": "execute_result",
          "data": {
            "text/plain": [
              "array([[ 0,  1,  2,  3],\n",
              "       [ 4,  5,  6,  7],\n",
              "       [ 8,  9, 10, 11]])"
            ]
          },
          "metadata": {
            "tags": []
          },
          "execution_count": 11
        }
      ]
    },
    {
      "cell_type": "markdown",
      "metadata": {
        "id": "J9pY1rtr1sC0",
        "colab_type": "text"
      },
      "source": [
        "### <a name='2'></a> Ćwiczenie 22\n",
        "Wygeneruj ponizszą tablicę numpy:\n",
        "\n",
        "\n",
        "```\n",
        "array([[ 0,  1,  2,  3],\n",
        "       [ 4,  5,  6,  7],\n",
        "       [ 8,  9, 10, 11]])\n",
        "```\n",
        "\n",
        "\n",
        "Zapisz tablicę do pliku tekstowego o nazwie _'array.txt'_ z dokładnością do drugiego miejsca po przecinku i następnie wczytaj z powrotem ten plik do innej zmiennej.\n",
        "\n",
        "__Wskazówka:__ Użyj funkcji _np.savetxt()_ oraz _np.loadtxt()_.\n"
      ]
    },
    {
      "cell_type": "code",
      "metadata": {
        "id": "Ac7M7bDhLAlf",
        "colab_type": "code",
        "colab": {
          "base_uri": "https://localhost:8080/",
          "height": 67
        },
        "outputId": "39ffb8c3-b284-4cc6-8d4c-93efe7fc082e"
      },
      "source": [
        "np.savetxt('array.txt', np.arange(0, 12).reshape(3, -1))\n",
        "B = np.loadtxt('array.txt')\n",
        "B"
      ],
      "execution_count": 13,
      "outputs": [
        {
          "output_type": "execute_result",
          "data": {
            "text/plain": [
              "array([[ 0.,  1.,  2.,  3.],\n",
              "       [ 4.,  5.,  6.,  7.],\n",
              "       [ 8.,  9., 10., 11.]])"
            ]
          },
          "metadata": {
            "tags": []
          },
          "execution_count": 13
        }
      ]
    },
    {
      "cell_type": "markdown",
      "metadata": {
        "id": "XQLYT2m11wVG",
        "colab_type": "text"
      },
      "source": [
        "### <a name='3'></a> Ćwiczenie 23\n",
        "Wygeneruj i przekształć poniższą tablicę numpy na listę.\n",
        "\n",
        "\n",
        "```\n",
        "array([[ 0,  1,  2,  3],\n",
        "       [ 4,  5,  6,  7],\n",
        "       [ 8,  9, 10, 11]])\n",
        "```\n",
        "\n",
        "\n",
        "\n",
        "__Wskazówka:__ Użyj metody _np.array.tolist()_."
      ]
    },
    {
      "cell_type": "code",
      "metadata": {
        "id": "Dtu-EJViT1Os",
        "colab_type": "code",
        "colab": {
          "base_uri": "https://localhost:8080/",
          "height": 34
        },
        "outputId": "d4280670-d78a-46f4-da79-d5cdaf2b0815"
      },
      "source": [
        "A = np.arange(0,12).reshape(3, -1)\n",
        "np.ndarray.tolist(A)"
      ],
      "execution_count": 19,
      "outputs": [
        {
          "output_type": "execute_result",
          "data": {
            "text/plain": [
              "[[0, 1, 2, 3], [4, 5, 6, 7], [8, 9, 10, 11]]"
            ]
          },
          "metadata": {
            "tags": []
          },
          "execution_count": 19
        }
      ]
    },
    {
      "cell_type": "markdown",
      "metadata": {
        "id": "4xTKSUzg10MK",
        "colab_type": "text"
      },
      "source": [
        "### <a name='4'></a> Ćwiczenie 24\n",
        "Podana jest poniższa tablica numpy:\n",
        "\n",
        "```\n",
        "array([[ 0,  1,  2,  3],\n",
        "       [ 4,  5,  6,  7],\n",
        "       [ 8,  9, 10, 11]])\n",
        "```\n",
        "Używając operatora wycinania przekształć tablicę w poniższe:\n",
        "\n",
        "* zamiana wierszy (pierwszy z ostatnim)\n",
        "\n",
        "```\n",
        "array([[ 8,  9, 10, 11],\n",
        "       [ 4,  5,  6,  7],\n",
        "       [ 0,  1,  2,  3]])\n",
        "```\n",
        "\n",
        "\n",
        "\n",
        "\n",
        "\n"
      ]
    },
    {
      "cell_type": "code",
      "metadata": {
        "id": "1iqUDmG3V7sM",
        "colab_type": "code",
        "colab": {
          "base_uri": "https://localhost:8080/",
          "height": 67
        },
        "outputId": "68755d97-f173-4711-fbca-06f066f04c74"
      },
      "source": [
        "pierwszy = A[0]\n",
        "drugi =  A[1]\n",
        "trzeci = A[2]\n",
        "A[0] = trzeci\n",
        "A[2] = pierwszy \n",
        "A"
      ],
      "execution_count": 25,
      "outputs": [
        {
          "output_type": "execute_result",
          "data": {
            "text/plain": [
              "array([[ 8,  9, 10, 11],\n",
              "       [ 4,  5,  6,  7],\n",
              "       [ 8,  9, 10, 11]])"
            ]
          },
          "metadata": {
            "tags": []
          },
          "execution_count": 25
        }
      ]
    },
    {
      "cell_type": "markdown",
      "metadata": {
        "id": "QwFXH2dIEhMp",
        "colab_type": "text"
      },
      "source": [
        "* zamiana kolumn (odwrócona kolejność)\n",
        "\n",
        "\n",
        "```\n",
        "array([[ 3,  2,  1,  0],\n",
        "       [ 7,  6,  5,  4],\n",
        "       [11, 10,  9,  8]])\n",
        "```\n"
      ]
    },
    {
      "cell_type": "code",
      "metadata": {
        "id": "dux6cn8YV-q_",
        "colab_type": "code",
        "colab": {
          "base_uri": "https://localhost:8080/",
          "height": 67
        },
        "outputId": "6c845978-87b9-4e60-bee1-2e5d27d65170"
      },
      "source": [
        "A = np.array([[ 0,  1,  2,  3],\n",
        "       [ 4,  5,  6,  7],\n",
        "       [ 8,  9, 10, 11]])\n",
        "\n",
        "B = np.empty((3,4), dtype = int)\n",
        "\n",
        "for i in [0,1,2]:\n",
        "  B[i] = np.flip(A[i])\n",
        "\n",
        "B\n",
        " "
      ],
      "execution_count": 38,
      "outputs": [
        {
          "output_type": "execute_result",
          "data": {
            "text/plain": [
              "array([[ 3,  2,  1,  0],\n",
              "       [ 7,  6,  5,  4],\n",
              "       [11, 10,  9,  8]])"
            ]
          },
          "metadata": {
            "tags": []
          },
          "execution_count": 38
        }
      ]
    },
    {
      "cell_type": "markdown",
      "metadata": {
        "id": "i5mm0dexEoDe",
        "colab_type": "text"
      },
      "source": [
        "* zamiana wierszy i kolumn (odwrócone kolejności)\n",
        "\n",
        "\n",
        "```\n",
        "array([[11, 10,  9,  8],\n",
        "       [ 7,  6,  5,  4],\n",
        "       [ 3,  2,  1,  0]])\n",
        "```       "
      ]
    },
    {
      "cell_type": "code",
      "metadata": {
        "id": "ZqkvfYoKWHLp",
        "colab_type": "code",
        "colab": {
          "base_uri": "https://localhost:8080/",
          "height": 67
        },
        "outputId": "5110248a-30e2-45d6-9946-a0f867566b0d"
      },
      "source": [
        "C = np.empty((3, 4), dtype = int)\n",
        "for i in [0,1,2]:\n",
        "  C[i] = B[2-i]\n",
        "C"
      ],
      "execution_count": 39,
      "outputs": [
        {
          "output_type": "execute_result",
          "data": {
            "text/plain": [
              "array([[11, 10,  9,  8],\n",
              "       [ 7,  6,  5,  4],\n",
              "       [ 3,  2,  1,  0]])"
            ]
          },
          "metadata": {
            "tags": []
          },
          "execution_count": 39
        }
      ]
    },
    {
      "cell_type": "markdown",
      "metadata": {
        "id": "o3HKIKlP15Ro",
        "colab_type": "text"
      },
      "source": [
        "### <a name='5'></a> Ćwiczenie 25\n",
        "Podaną poniżej tablicę numpy:\n",
        "\n",
        "```\n",
        "array([[1., 1., 1., 1.],\n",
        "       [1., 1., 1., 1.],\n",
        "       [1., 1., 1., 1.],\n",
        "       [1., 1., 1., 1.]])\n",
        "```\n",
        "Przekształć na tablicę:\n",
        "\n",
        "\n",
        "```\n",
        "array([[0., 0., 0., 0., 0., 0.],\n",
        "       [0., 1., 1., 1., 1., 0.],\n",
        "       [0., 1., 1., 1., 1., 0.],\n",
        "       [0., 1., 1., 1., 1., 0.],\n",
        "       [0., 1., 1., 1., 1., 0.],\n",
        "       [0., 0., 0., 0., 0., 0.]])\n",
        "```\n",
        "__Wskazówka:__ Użyj funkcji _np.pad()_.\n",
        "\n",
        "\n",
        "\n"
      ]
    },
    {
      "cell_type": "code",
      "metadata": {
        "id": "enLY_Qz4qGdJ",
        "colab_type": "code",
        "colab": {
          "base_uri": "https://localhost:8080/",
          "height": 118
        },
        "outputId": "bd7c123e-02c8-476c-bf0b-86b632c3ce70"
      },
      "source": [
        "tablica = np.array([[1., 1., 1., 1.],\n",
        "                    [1., 1., 1., 1.],\n",
        "                    [1., 1., 1., 1.],\n",
        "                    [1., 1., 1., 1.]])\n",
        "np.pad(tablica, pad_width = 1) # adding zeros on edges of each axis "
      ],
      "execution_count": 43,
      "outputs": [
        {
          "output_type": "execute_result",
          "data": {
            "text/plain": [
              "array([[0., 0., 0., 0., 0., 0.],\n",
              "       [0., 1., 1., 1., 1., 0.],\n",
              "       [0., 1., 1., 1., 1., 0.],\n",
              "       [0., 1., 1., 1., 1., 0.],\n",
              "       [0., 1., 1., 1., 1., 0.],\n",
              "       [0., 0., 0., 0., 0., 0.]])"
            ]
          },
          "metadata": {
            "tags": []
          },
          "execution_count": 43
        }
      ]
    },
    {
      "cell_type": "markdown",
      "metadata": {
        "id": "PunXd_Ey16so",
        "colab_type": "text"
      },
      "source": [
        "### <a name='6'></a> Ćwiczenie 26\n",
        "Podaną poniżej tablicę numpy:\n",
        "\n",
        "```\n",
        "array([[0, 0, 0, 0, 0, 0],\n",
        "       [0, 0, 0, 0, 0, 0],\n",
        "       [0, 0, 0, 0, 0, 0],\n",
        "       [0, 0, 0, 0, 0, 0],\n",
        "       [0, 0, 0, 0, 0, 0],\n",
        "       [0, 0, 0, 0, 0, 0]])\n",
        "```\n",
        "Przekształć na tablicę:\n",
        "\n",
        "\n",
        "```\n",
        "array([[10,  0, 10,  0, 10,  0],\n",
        "       [ 5,  0,  5,  0,  5,  0],\n",
        "       [10,  0, 10,  0, 10,  0],\n",
        "       [ 5,  0,  5,  0,  5,  0],\n",
        "       [10,  0, 10,  0, 10,  0],\n",
        "       [ 5,  0,  5,  0,  5,  0]])\n",
        "```\n",
        "__Wskazówka:__ Użyj operatora wycinania oraz przypisz odpowiednie wartości.\n",
        "\n",
        "\n",
        "\n"
      ]
    },
    {
      "cell_type": "code",
      "metadata": {
        "id": "xOVKpjvMr7bX",
        "colab_type": "code",
        "colab": {
          "base_uri": "https://localhost:8080/",
          "height": 118
        },
        "outputId": "f7df82cb-99ef-49a5-f5a1-00a48682fa50"
      },
      "source": [
        "A = np.array([[0, 0, 0, 0, 0, 0],\n",
        "              [0, 0, 0, 0, 0, 0],\n",
        "              [0, 0, 0, 0, 0, 0],\n",
        "              [0, 0, 0, 0, 0, 0],\n",
        "              [0, 0, 0, 0, 0, 0],\n",
        "              [0, 0, 0, 0, 0, 0]])\n",
        "\n",
        "q = 10\n",
        "p = 0\n",
        "y = 5 \n",
        "z = 0\n",
        "\n",
        "for i in range(A.shape[0]):\n",
        "  if i % 2 == 0:\n",
        "    A[i] = np.array([q,p]*int(0.5*A.shape[1]))\n",
        "  else:\n",
        "    A[i] = np.array([y,z]*int(0.5*A.shape[1]))\n",
        "A"
      ],
      "execution_count": 68,
      "outputs": [
        {
          "output_type": "execute_result",
          "data": {
            "text/plain": [
              "array([[10,  0, 10,  0, 10,  0],\n",
              "       [ 5,  0,  5,  0,  5,  0],\n",
              "       [10,  0, 10,  0, 10,  0],\n",
              "       [ 5,  0,  5,  0,  5,  0],\n",
              "       [10,  0, 10,  0, 10,  0],\n",
              "       [ 5,  0,  5,  0,  5,  0]])"
            ]
          },
          "metadata": {
            "tags": []
          },
          "execution_count": 68
        }
      ]
    },
    {
      "cell_type": "markdown",
      "metadata": {
        "id": "hOhqDRz618Tx",
        "colab_type": "text"
      },
      "source": [
        "### <a name='7'></a> Ćwiczenie 27\n",
        "Połącz podane poniżej tablice $A$ oraz $B$ w jedną.\n",
        "\n",
        "\n",
        "```\n",
        "A = np.arange(12).reshape(-1, 4)\n",
        "B = np.array([[4, 3, 7, 2],\n",
        "              [0, 5, 2, 6]])\n",
        "```\n",
        "\n",
        "\n",
        "\n",
        "\n",
        "__Oczekiwany rezultat:__\n",
        "\n",
        "\n",
        "```\n",
        "array([[ 0,  1,  2,  3],\n",
        "       [ 4,  5,  6,  7],\n",
        "       [ 8,  9, 10, 11],\n",
        "       [ 4,  3,  7,  2],\n",
        "       [ 0,  5,  2,  6]])\n",
        "```\n",
        "__Wskazówka:__ Użyj funkcji _np.append()_.\n"
      ]
    },
    {
      "cell_type": "code",
      "metadata": {
        "id": "CCHfKU4Y3Z-X",
        "colab_type": "code",
        "colab": {
          "base_uri": "https://localhost:8080/",
          "height": 101
        },
        "outputId": "3a9e6f03-50b8-45b4-d22d-7ed0307d96b1"
      },
      "source": [
        "A = np.arange(12).reshape(-1, 4)\n",
        "B = np.array([[4, 3, 7, 2],\n",
        "              [0, 5, 2, 6]])\n",
        "np.append(A, B).reshape(5, -1)"
      ],
      "execution_count": 71,
      "outputs": [
        {
          "output_type": "execute_result",
          "data": {
            "text/plain": [
              "array([[ 0,  1,  2,  3],\n",
              "       [ 4,  5,  6,  7],\n",
              "       [ 8,  9, 10, 11],\n",
              "       [ 4,  3,  7,  2],\n",
              "       [ 0,  5,  2,  6]])"
            ]
          },
          "metadata": {
            "tags": []
          },
          "execution_count": 71
        }
      ]
    },
    {
      "cell_type": "markdown",
      "metadata": {
        "id": "TXUd_4631-gw",
        "colab_type": "text"
      },
      "source": [
        "### <a name='8'></a> Ćwiczenie 28\n",
        "Z podanych poniżej tablic $A$ i $B$ wydobądź elementy wspólne (przecięcie) tablic.\n",
        "\n",
        "```\n",
        "A = np.arange(8).reshape(-1, 4)\n",
        "B = np.array([[9, 10, 11, 3],\n",
        "              [2, 8, 0, 9]])      \n",
        "```\n",
        "\n",
        "\n",
        "\n",
        "__Wskazówka:__ Użyj funkcji _np.intersect1d()_."
      ]
    },
    {
      "cell_type": "code",
      "metadata": {
        "id": "pgvyad4UCI6Q",
        "colab_type": "code",
        "colab": {
          "base_uri": "https://localhost:8080/",
          "height": 34
        },
        "outputId": "92af77c8-35c1-44c7-a164-661a1d8d04ac"
      },
      "source": [
        "A = np.arange(8).reshape(-1, 4)\n",
        "B = np.array([[9, 10, 11, 3],\n",
        "              [2, 8, 0, 9]])  \n",
        "np.intersect1d(A, B)"
      ],
      "execution_count": 72,
      "outputs": [
        {
          "output_type": "execute_result",
          "data": {
            "text/plain": [
              "array([0, 2, 3])"
            ]
          },
          "metadata": {
            "tags": []
          },
          "execution_count": 72
        }
      ]
    },
    {
      "cell_type": "markdown",
      "metadata": {
        "id": "tgI6xEn-2AQo",
        "colab_type": "text"
      },
      "source": [
        "### <a name='9'></a> Ćwiczenie 29\n",
        "Podana jest poniższa tablica numpy $A$.\n",
        "Znajdź unikalne wartości tej tablicy.\n",
        "\n",
        "\n",
        "```\n",
        "A = np.array([[5, 1, 2, 1, 2],\n",
        "              [9, 1, 9, 7, 5],\n",
        "              [4, 1, 5, 7, 9]])\n",
        "```\n",
        "\n",
        "\n",
        "__Wskazówka:__ Użyj funkcji _np.unique()_."
      ]
    },
    {
      "cell_type": "code",
      "metadata": {
        "id": "h3Q6RADIELkH",
        "colab_type": "code",
        "colab": {
          "base_uri": "https://localhost:8080/",
          "height": 34
        },
        "outputId": "c56ae2ae-afbb-433e-c522-aa6dab47294f"
      },
      "source": [
        "A = np.array([[5, 1, 2, 1, 2],\n",
        "              [9, 1, 9, 7, 5],\n",
        "              [4, 1, 5, 7, 9]])\n",
        "np.unique(A)"
      ],
      "execution_count": 73,
      "outputs": [
        {
          "output_type": "execute_result",
          "data": {
            "text/plain": [
              "array([1, 2, 4, 5, 7, 9])"
            ]
          },
          "metadata": {
            "tags": []
          },
          "execution_count": 73
        }
      ]
    },
    {
      "cell_type": "markdown",
      "metadata": {
        "id": "wxhpf-uq2B1I",
        "colab_type": "text"
      },
      "source": [
        "### <a name='10'></a> Ćwiczenie 30\n",
        "Podana jest poniższa tablica:\n",
        "\n",
        "\n",
        "```\n",
        "A = np.array([[0.4, 0.3, 0.3],\n",
        "              [0.1, 0.1, 0.8],\n",
        "              [0.2, 0.5, 0.3]])\n",
        "```\n",
        "\n",
        "\n",
        "\n",
        "Zwróć indeksy na których stoją maksymalne wartości dla danego wiersza.\n",
        "\n",
        "__Wskazówka:__ Użyj funkcji _np.argmax()_."
      ]
    },
    {
      "cell_type": "code",
      "metadata": {
        "id": "YcQFRYUyFWbY",
        "colab_type": "code",
        "colab": {
          "base_uri": "https://localhost:8080/",
          "height": 67
        },
        "outputId": "8b3f9464-76f0-4837-8643-378963e11566"
      },
      "source": [
        "A = np.array([[0.4, 0.3, 0.3],\n",
        "              [0.1, 0.1, 0.8],\n",
        "              [0.2, 0.5, 0.3]])\n",
        "\n",
        "for i in range(A.shape[0]):\n",
        "  print(np.argmax(A[i]))"
      ],
      "execution_count": 78,
      "outputs": [
        {
          "output_type": "stream",
          "text": [
            "0\n",
            "2\n",
            "1\n"
          ],
          "name": "stdout"
        }
      ]
    },
    {
      "cell_type": "code",
      "metadata": {
        "id": "mY4-dg4rTwmm",
        "colab_type": "code",
        "colab": {}
      },
      "source": [
        ""
      ],
      "execution_count": null,
      "outputs": []
    }
  ]
}