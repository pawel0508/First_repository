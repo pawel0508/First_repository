{
  "nbformat": 4,
  "nbformat_minor": 0,
  "metadata": {
    "colab": {
      "name": "191-200_exercises.ipynb",
      "provenance": [],
      "collapsed_sections": [],
      "include_colab_link": true
    },
    "kernelspec": {
      "name": "python3",
      "display_name": "Python 3"
    }
  },
  "cells": [
    {
      "cell_type": "markdown",
      "metadata": {
        "id": "view-in-github",
        "colab_type": "text"
      },
      "source": [
        "<a href=\"https://colab.research.google.com/github/pawel0508/First_repository/blob/master/%C4%86wiczenia_16_pandas.ipynb\" target=\"_parent\"><img src=\"https://colab.research.google.com/assets/colab-badge.svg\" alt=\"Open In Colab\"/></a>"
      ]
    },
    {
      "cell_type": "markdown",
      "metadata": {
        "id": "WLEgCW5F1hho",
        "colab_type": "text"
      },
      "source": [
        "## Pandas\n",
        "\n",
        "### Spis treści:\n",
        "* [Import biblioteki](#0)\n",
        "* [Ćwiczenie 191](#1)\n",
        "* [Ćwiczenie 192](#2)\n",
        "* [Ćwiczenie 193](#3)\n",
        "* [Ćwiczenie 194](#4)\n",
        "* [Ćwiczenie 195](#5)\n",
        "* [Ćwiczenie 196](#6)\n",
        "* [Ćwiczenie 197](#7)\n",
        "* [Ćwiczenie 198](#8)\n",
        "* [Ćwiczenie 199](#9)\n",
        "* [Ćwiczenie 200](#10)"
      ]
    },
    {
      "cell_type": "markdown",
      "metadata": {
        "id": "zeLOLmTj1kBM",
        "colab_type": "text"
      },
      "source": [
        "### <a name='0'></a>Import biblioteki"
      ]
    },
    {
      "cell_type": "code",
      "metadata": {
        "id": "HXMB7SMe1Wnz",
        "colab_type": "code",
        "colab": {
          "base_uri": "https://localhost:8080/",
          "height": 35
        },
        "outputId": "2b9e0c74-b19b-4341-8ecf-7f0fce92ef46"
      },
      "source": [
        "import numpy as np\n",
        "import pandas as pd\n",
        "\n",
        "np.__version__"
      ],
      "execution_count": 57,
      "outputs": [
        {
          "output_type": "execute_result",
          "data": {
            "application/vnd.google.colaboratory.intrinsic+json": {
              "type": "string"
            },
            "text/plain": [
              "'1.18.5'"
            ]
          },
          "metadata": {
            "tags": []
          },
          "execution_count": 57
        }
      ]
    },
    {
      "cell_type": "markdown",
      "metadata": {
        "id": "cyc70pMe1oCg",
        "colab_type": "text"
      },
      "source": [
        "### <a name='1'></a> Ćwiczenie 191\n",
        "Z poniższego słownika _data_ utwórz obiekt _DataFrame_ i przypisz do zmiennej _df_.\n",
        "\n",
        "\n",
        "```\n",
        "data = {\n",
        "    'size': ['XL', 'L', 'M', 'L', 'M'],\n",
        "    'color': ['red', 'green', 'blue', 'green', 'red'],\n",
        "    'gender': ['female', 'male', 'male', 'female', 'female'],\n",
        "    'price': [199.0, 89.0, 99.0, 129.0, 79.0],\n",
        "    'weight': [500, 450, 300, 380, 410],\n",
        "    'bought': ['yes', 'no', 'yes', 'no', 'yes']\n",
        "}\n",
        "```\n",
        "\n"
      ]
    },
    {
      "cell_type": "code",
      "metadata": {
        "id": "i8TGz_jSK3CY",
        "colab_type": "code",
        "colab": {}
      },
      "source": [
        "data = {\n",
        "    'size': ['XL', 'L', 'M', 'L', 'M'],\n",
        "    'color': ['red', 'green', 'blue', 'green', 'red'],\n",
        "    'gender': ['female', 'male', 'male', 'female', 'female'],\n",
        "    'price': [199.0, 89.0, 99.0, 129.0, 79.0],\n",
        "    'weight': [500, 450, 300, 380, 410],\n",
        "    'bought': ['yes', 'no', 'yes', 'no', 'yes']\n",
        "}\n",
        "df = pd.DataFrame(data)"
      ],
      "execution_count": 58,
      "outputs": []
    },
    {
      "cell_type": "markdown",
      "metadata": {
        "id": "41VWXEvpLVCf",
        "colab_type": "text"
      },
      "source": [
        "Wyświetl podstawowe informacje na temat obiektu _df_."
      ]
    },
    {
      "cell_type": "code",
      "metadata": {
        "id": "FDU1zhczLQYS",
        "colab_type": "code",
        "colab": {
          "base_uri": "https://localhost:8080/",
          "height": 235
        },
        "outputId": "3520fa2a-0eb0-46de-993b-f502172dafec"
      },
      "source": [
        "df.info()"
      ],
      "execution_count": 59,
      "outputs": [
        {
          "output_type": "stream",
          "text": [
            "<class 'pandas.core.frame.DataFrame'>\n",
            "RangeIndex: 5 entries, 0 to 4\n",
            "Data columns (total 6 columns):\n",
            " #   Column  Non-Null Count  Dtype  \n",
            "---  ------  --------------  -----  \n",
            " 0   size    5 non-null      object \n",
            " 1   color   5 non-null      object \n",
            " 2   gender  5 non-null      object \n",
            " 3   price   5 non-null      float64\n",
            " 4   weight  5 non-null      int64  \n",
            " 5   bought  5 non-null      object \n",
            "dtypes: float64(1), int64(1), object(4)\n",
            "memory usage: 368.0+ bytes\n"
          ],
          "name": "stdout"
        }
      ]
    },
    {
      "cell_type": "markdown",
      "metadata": {
        "id": "Bmb7P91_LYbp",
        "colab_type": "text"
      },
      "source": [
        "Dokonaj konwersji zmiennych na poszczególne typy:\n",
        "* size -> _category_\n",
        "* color -> _category_\n",
        "* gender -> _category_\n",
        "* weight -> _float_\n",
        "* bought -> _category_"
      ]
    },
    {
      "cell_type": "code",
      "metadata": {
        "id": "nLbmiN1ILuVj",
        "colab_type": "code",
        "colab": {}
      },
      "source": [
        "df[['size', 'color', 'gender', 'bought']] = df[['size', 'color', 'gender', 'bought']].astype('category')\n",
        "df['weight'] = df['weight'].astype('float')"
      ],
      "execution_count": 60,
      "outputs": []
    },
    {
      "cell_type": "markdown",
      "metadata": {
        "id": "J9pY1rtr1sC0",
        "colab_type": "text"
      },
      "source": [
        "### <a name='2'></a> Ćwiczenie 192\n",
        "Wykorzystując bibliotekę do uczenia maszynowego _scikit-learn_ oraz klasę _LabelEncoder_ dokonaj kodowania 0-1 zmiennej _bought_. Zmiany przypisz na stałe do obiektu _df_ i wyświetl ten obiekt."
      ]
    },
    {
      "cell_type": "code",
      "metadata": {
        "id": "0ZomPI_HL9cZ",
        "colab_type": "code",
        "colab": {
          "base_uri": "https://localhost:8080/",
          "height": 195
        },
        "outputId": "9783a881-bd97-4bdb-d77c-b4a0d1e2ee15"
      },
      "source": [
        "from sklearn.preprocessing import LabelEncoder\n",
        "le = LabelEncoder()\n",
        "df['bought'] = le.fit_transform(df['bought'])\n",
        "df\n"
      ],
      "execution_count": 61,
      "outputs": [
        {
          "output_type": "execute_result",
          "data": {
            "text/html": [
              "<div>\n",
              "<style scoped>\n",
              "    .dataframe tbody tr th:only-of-type {\n",
              "        vertical-align: middle;\n",
              "    }\n",
              "\n",
              "    .dataframe tbody tr th {\n",
              "        vertical-align: top;\n",
              "    }\n",
              "\n",
              "    .dataframe thead th {\n",
              "        text-align: right;\n",
              "    }\n",
              "</style>\n",
              "<table border=\"1\" class=\"dataframe\">\n",
              "  <thead>\n",
              "    <tr style=\"text-align: right;\">\n",
              "      <th></th>\n",
              "      <th>size</th>\n",
              "      <th>color</th>\n",
              "      <th>gender</th>\n",
              "      <th>price</th>\n",
              "      <th>weight</th>\n",
              "      <th>bought</th>\n",
              "    </tr>\n",
              "  </thead>\n",
              "  <tbody>\n",
              "    <tr>\n",
              "      <th>0</th>\n",
              "      <td>XL</td>\n",
              "      <td>red</td>\n",
              "      <td>female</td>\n",
              "      <td>199.0</td>\n",
              "      <td>500.0</td>\n",
              "      <td>1</td>\n",
              "    </tr>\n",
              "    <tr>\n",
              "      <th>1</th>\n",
              "      <td>L</td>\n",
              "      <td>green</td>\n",
              "      <td>male</td>\n",
              "      <td>89.0</td>\n",
              "      <td>450.0</td>\n",
              "      <td>0</td>\n",
              "    </tr>\n",
              "    <tr>\n",
              "      <th>2</th>\n",
              "      <td>M</td>\n",
              "      <td>blue</td>\n",
              "      <td>male</td>\n",
              "      <td>99.0</td>\n",
              "      <td>300.0</td>\n",
              "      <td>1</td>\n",
              "    </tr>\n",
              "    <tr>\n",
              "      <th>3</th>\n",
              "      <td>L</td>\n",
              "      <td>green</td>\n",
              "      <td>female</td>\n",
              "      <td>129.0</td>\n",
              "      <td>380.0</td>\n",
              "      <td>0</td>\n",
              "    </tr>\n",
              "    <tr>\n",
              "      <th>4</th>\n",
              "      <td>M</td>\n",
              "      <td>red</td>\n",
              "      <td>female</td>\n",
              "      <td>79.0</td>\n",
              "      <td>410.0</td>\n",
              "      <td>1</td>\n",
              "    </tr>\n",
              "  </tbody>\n",
              "</table>\n",
              "</div>"
            ],
            "text/plain": [
              "  size  color  gender  price  weight  bought\n",
              "0   XL    red  female  199.0   500.0       1\n",
              "1    L  green    male   89.0   450.0       0\n",
              "2    M   blue    male   99.0   300.0       1\n",
              "3    L  green  female  129.0   380.0       0\n",
              "4    M    red  female   79.0   410.0       1"
            ]
          },
          "metadata": {
            "tags": []
          },
          "execution_count": 61
        }
      ]
    },
    {
      "cell_type": "markdown",
      "metadata": {
        "id": "F0nDHBZpMmnn",
        "colab_type": "text"
      },
      "source": [
        "Wykorzystując odpowiednią metodę klasy _LabelEncoder_ przywróć pierwotną postać zmiennej _bought_. Zwróć uwagę na typ zmiennej _bought_."
      ]
    },
    {
      "cell_type": "code",
      "metadata": {
        "id": "Rr4NdDHeMhlD",
        "colab_type": "code",
        "colab": {
          "base_uri": "https://localhost:8080/",
          "height": 195
        },
        "outputId": "fa133e48-ca10-4a36-db7b-00d6f59a2f8d"
      },
      "source": [
        "df['bought'] = le.inverse_transform(df['bought'])\n",
        "df['bought'] = df['bought'].astype('category')\n",
        "df"
      ],
      "execution_count": 62,
      "outputs": [
        {
          "output_type": "execute_result",
          "data": {
            "text/html": [
              "<div>\n",
              "<style scoped>\n",
              "    .dataframe tbody tr th:only-of-type {\n",
              "        vertical-align: middle;\n",
              "    }\n",
              "\n",
              "    .dataframe tbody tr th {\n",
              "        vertical-align: top;\n",
              "    }\n",
              "\n",
              "    .dataframe thead th {\n",
              "        text-align: right;\n",
              "    }\n",
              "</style>\n",
              "<table border=\"1\" class=\"dataframe\">\n",
              "  <thead>\n",
              "    <tr style=\"text-align: right;\">\n",
              "      <th></th>\n",
              "      <th>size</th>\n",
              "      <th>color</th>\n",
              "      <th>gender</th>\n",
              "      <th>price</th>\n",
              "      <th>weight</th>\n",
              "      <th>bought</th>\n",
              "    </tr>\n",
              "  </thead>\n",
              "  <tbody>\n",
              "    <tr>\n",
              "      <th>0</th>\n",
              "      <td>XL</td>\n",
              "      <td>red</td>\n",
              "      <td>female</td>\n",
              "      <td>199.0</td>\n",
              "      <td>500.0</td>\n",
              "      <td>yes</td>\n",
              "    </tr>\n",
              "    <tr>\n",
              "      <th>1</th>\n",
              "      <td>L</td>\n",
              "      <td>green</td>\n",
              "      <td>male</td>\n",
              "      <td>89.0</td>\n",
              "      <td>450.0</td>\n",
              "      <td>no</td>\n",
              "    </tr>\n",
              "    <tr>\n",
              "      <th>2</th>\n",
              "      <td>M</td>\n",
              "      <td>blue</td>\n",
              "      <td>male</td>\n",
              "      <td>99.0</td>\n",
              "      <td>300.0</td>\n",
              "      <td>yes</td>\n",
              "    </tr>\n",
              "    <tr>\n",
              "      <th>3</th>\n",
              "      <td>L</td>\n",
              "      <td>green</td>\n",
              "      <td>female</td>\n",
              "      <td>129.0</td>\n",
              "      <td>380.0</td>\n",
              "      <td>no</td>\n",
              "    </tr>\n",
              "    <tr>\n",
              "      <th>4</th>\n",
              "      <td>M</td>\n",
              "      <td>red</td>\n",
              "      <td>female</td>\n",
              "      <td>79.0</td>\n",
              "      <td>410.0</td>\n",
              "      <td>yes</td>\n",
              "    </tr>\n",
              "  </tbody>\n",
              "</table>\n",
              "</div>"
            ],
            "text/plain": [
              "  size  color  gender  price  weight bought\n",
              "0   XL    red  female  199.0   500.0    yes\n",
              "1    L  green    male   89.0   450.0     no\n",
              "2    M   blue    male   99.0   300.0    yes\n",
              "3    L  green  female  129.0   380.0     no\n",
              "4    M    red  female   79.0   410.0    yes"
            ]
          },
          "metadata": {
            "tags": []
          },
          "execution_count": 62
        }
      ]
    },
    {
      "cell_type": "markdown",
      "metadata": {
        "id": "XQLYT2m11wVG",
        "colab_type": "text"
      },
      "source": [
        "### <a name='3'></a> Ćwiczenie 193\n",
        "Wykorzystując bibliotekę do uczenia maszynowego _scikit-learn_ oraz klasę _OneHotEncoder_ dokonaj kodowania 0-1 zmiennej _size_. Nie przypisuj zmian do obiektu _df_.\n",
        "\n",
        "Użyj parametru _sparse=False_ klasy _OneHotEncoder_."
      ]
    },
    {
      "cell_type": "code",
      "metadata": {
        "id": "pPEQDr2MOfdp",
        "colab_type": "code",
        "colab": {
          "base_uri": "https://localhost:8080/",
          "height": 101
        },
        "outputId": "36c70478-53d3-49f1-f90f-ea350874f378"
      },
      "source": [
        "from sklearn.preprocessing import OneHotEncoder\n",
        "ohe = OneHotEncoder(sparse=False)\n",
        "ohe.fit_transform(df[['size']])"
      ],
      "execution_count": 63,
      "outputs": [
        {
          "output_type": "execute_result",
          "data": {
            "text/plain": [
              "array([[0., 0., 1.],\n",
              "       [1., 0., 0.],\n",
              "       [0., 1., 0.],\n",
              "       [1., 0., 0.],\n",
              "       [0., 1., 0.]])"
            ]
          },
          "metadata": {
            "tags": []
          },
          "execution_count": 63
        }
      ]
    },
    {
      "cell_type": "markdown",
      "metadata": {
        "id": "ybuk-ivrXftz",
        "colab_type": "text"
      },
      "source": [
        "Wykorzystując bibliotekę do uczenia maszynowego _scikit-learn_ oraz klasę _OneHotEncoder_ dokonaj kodowania 0-1 zmiennej _size_. Nie przypisuj zmian do obiektu _df_.\n",
        "\n",
        "Użyj parametru _sparse=False_ **oraz _drop=first_** klasy _OneHotEncoder_."
      ]
    },
    {
      "cell_type": "code",
      "metadata": {
        "id": "1WFDcfAJXdx2",
        "colab_type": "code",
        "colab": {
          "base_uri": "https://localhost:8080/",
          "height": 101
        },
        "outputId": "6f08cc3a-16c6-4bde-d800-2a501db1679f"
      },
      "source": [
        "from sklearn.preprocessing import OneHotEncoder\n",
        "ohe = OneHotEncoder(sparse=False, drop = 'first')\n",
        "ohe.fit_transform(df[['size']])"
      ],
      "execution_count": 64,
      "outputs": [
        {
          "output_type": "execute_result",
          "data": {
            "text/plain": [
              "array([[0., 1.],\n",
              "       [0., 0.],\n",
              "       [1., 0.],\n",
              "       [0., 0.],\n",
              "       [1., 0.]])"
            ]
          },
          "metadata": {
            "tags": []
          },
          "execution_count": 64
        }
      ]
    },
    {
      "cell_type": "markdown",
      "metadata": {
        "id": "4xTKSUzg10MK",
        "colab_type": "text"
      },
      "source": [
        "### <a name='4'></a> Ćwiczenie 194\n",
        "Wykorzystując bibliotekę _pandas_ oraz funkcję _get_dummies()_ przedstaw wszystkie zmienne kategoryczne obiektu _df_ w postaci kodowania 0-1. Nie przypisuj zmian na trwałe do obiektu _df_."
      ]
    },
    {
      "cell_type": "code",
      "metadata": {
        "id": "3Pz3mHLxXuNP",
        "colab_type": "code",
        "colab": {
          "base_uri": "https://localhost:8080/",
          "height": 195
        },
        "outputId": "524cfc3a-c1d3-4625-dfd6-dd6ef8d54974"
      },
      "source": [
        "pd.get_dummies(df, columns = df.select_dtypes(include = ['category']).columns)"
      ],
      "execution_count": 65,
      "outputs": [
        {
          "output_type": "execute_result",
          "data": {
            "text/html": [
              "<div>\n",
              "<style scoped>\n",
              "    .dataframe tbody tr th:only-of-type {\n",
              "        vertical-align: middle;\n",
              "    }\n",
              "\n",
              "    .dataframe tbody tr th {\n",
              "        vertical-align: top;\n",
              "    }\n",
              "\n",
              "    .dataframe thead th {\n",
              "        text-align: right;\n",
              "    }\n",
              "</style>\n",
              "<table border=\"1\" class=\"dataframe\">\n",
              "  <thead>\n",
              "    <tr style=\"text-align: right;\">\n",
              "      <th></th>\n",
              "      <th>price</th>\n",
              "      <th>weight</th>\n",
              "      <th>size_L</th>\n",
              "      <th>size_M</th>\n",
              "      <th>size_XL</th>\n",
              "      <th>color_blue</th>\n",
              "      <th>color_green</th>\n",
              "      <th>color_red</th>\n",
              "      <th>gender_female</th>\n",
              "      <th>gender_male</th>\n",
              "      <th>bought_no</th>\n",
              "      <th>bought_yes</th>\n",
              "    </tr>\n",
              "  </thead>\n",
              "  <tbody>\n",
              "    <tr>\n",
              "      <th>0</th>\n",
              "      <td>199.0</td>\n",
              "      <td>500.0</td>\n",
              "      <td>0</td>\n",
              "      <td>0</td>\n",
              "      <td>1</td>\n",
              "      <td>0</td>\n",
              "      <td>0</td>\n",
              "      <td>1</td>\n",
              "      <td>1</td>\n",
              "      <td>0</td>\n",
              "      <td>0</td>\n",
              "      <td>1</td>\n",
              "    </tr>\n",
              "    <tr>\n",
              "      <th>1</th>\n",
              "      <td>89.0</td>\n",
              "      <td>450.0</td>\n",
              "      <td>1</td>\n",
              "      <td>0</td>\n",
              "      <td>0</td>\n",
              "      <td>0</td>\n",
              "      <td>1</td>\n",
              "      <td>0</td>\n",
              "      <td>0</td>\n",
              "      <td>1</td>\n",
              "      <td>1</td>\n",
              "      <td>0</td>\n",
              "    </tr>\n",
              "    <tr>\n",
              "      <th>2</th>\n",
              "      <td>99.0</td>\n",
              "      <td>300.0</td>\n",
              "      <td>0</td>\n",
              "      <td>1</td>\n",
              "      <td>0</td>\n",
              "      <td>1</td>\n",
              "      <td>0</td>\n",
              "      <td>0</td>\n",
              "      <td>0</td>\n",
              "      <td>1</td>\n",
              "      <td>0</td>\n",
              "      <td>1</td>\n",
              "    </tr>\n",
              "    <tr>\n",
              "      <th>3</th>\n",
              "      <td>129.0</td>\n",
              "      <td>380.0</td>\n",
              "      <td>1</td>\n",
              "      <td>0</td>\n",
              "      <td>0</td>\n",
              "      <td>0</td>\n",
              "      <td>1</td>\n",
              "      <td>0</td>\n",
              "      <td>1</td>\n",
              "      <td>0</td>\n",
              "      <td>1</td>\n",
              "      <td>0</td>\n",
              "    </tr>\n",
              "    <tr>\n",
              "      <th>4</th>\n",
              "      <td>79.0</td>\n",
              "      <td>410.0</td>\n",
              "      <td>0</td>\n",
              "      <td>1</td>\n",
              "      <td>0</td>\n",
              "      <td>0</td>\n",
              "      <td>0</td>\n",
              "      <td>1</td>\n",
              "      <td>1</td>\n",
              "      <td>0</td>\n",
              "      <td>0</td>\n",
              "      <td>1</td>\n",
              "    </tr>\n",
              "  </tbody>\n",
              "</table>\n",
              "</div>"
            ],
            "text/plain": [
              "   price  weight  size_L  ...  gender_male  bought_no  bought_yes\n",
              "0  199.0   500.0       0  ...            0          0           1\n",
              "1   89.0   450.0       1  ...            1          1           0\n",
              "2   99.0   300.0       0  ...            1          0           1\n",
              "3  129.0   380.0       1  ...            0          1           0\n",
              "4   79.0   410.0       0  ...            0          0           1\n",
              "\n",
              "[5 rows x 12 columns]"
            ]
          },
          "metadata": {
            "tags": []
          },
          "execution_count": 65
        }
      ]
    },
    {
      "cell_type": "markdown",
      "metadata": {
        "id": "Li9YVOlGYP5E",
        "colab_type": "text"
      },
      "source": [
        "Wykorzystując bibliotekę _pandas_ oraz funkcję _get_dummies()_ przedstaw wszystkie zmienne kategoryczne obiektu _df_ w postaci kodowania 0-1. Użyj parametru _drop_first=True_. Nie przypisuj zmian na trwałe do obiektu _df_."
      ]
    },
    {
      "cell_type": "code",
      "metadata": {
        "id": "sCPW91USYMbU",
        "colab_type": "code",
        "colab": {
          "base_uri": "https://localhost:8080/",
          "height": 195
        },
        "outputId": "ba6826e1-3f80-4100-fddb-6b38da4bc7c2"
      },
      "source": [
        "pd.get_dummies(df, columns = df.select_dtypes(include = ['category']).columns, drop_first=True) # z kazdej kategori wywala jeden element"
      ],
      "execution_count": 66,
      "outputs": [
        {
          "output_type": "execute_result",
          "data": {
            "text/html": [
              "<div>\n",
              "<style scoped>\n",
              "    .dataframe tbody tr th:only-of-type {\n",
              "        vertical-align: middle;\n",
              "    }\n",
              "\n",
              "    .dataframe tbody tr th {\n",
              "        vertical-align: top;\n",
              "    }\n",
              "\n",
              "    .dataframe thead th {\n",
              "        text-align: right;\n",
              "    }\n",
              "</style>\n",
              "<table border=\"1\" class=\"dataframe\">\n",
              "  <thead>\n",
              "    <tr style=\"text-align: right;\">\n",
              "      <th></th>\n",
              "      <th>price</th>\n",
              "      <th>weight</th>\n",
              "      <th>size_M</th>\n",
              "      <th>size_XL</th>\n",
              "      <th>color_green</th>\n",
              "      <th>color_red</th>\n",
              "      <th>gender_male</th>\n",
              "      <th>bought_yes</th>\n",
              "    </tr>\n",
              "  </thead>\n",
              "  <tbody>\n",
              "    <tr>\n",
              "      <th>0</th>\n",
              "      <td>199.0</td>\n",
              "      <td>500.0</td>\n",
              "      <td>0</td>\n",
              "      <td>1</td>\n",
              "      <td>0</td>\n",
              "      <td>1</td>\n",
              "      <td>0</td>\n",
              "      <td>1</td>\n",
              "    </tr>\n",
              "    <tr>\n",
              "      <th>1</th>\n",
              "      <td>89.0</td>\n",
              "      <td>450.0</td>\n",
              "      <td>0</td>\n",
              "      <td>0</td>\n",
              "      <td>1</td>\n",
              "      <td>0</td>\n",
              "      <td>1</td>\n",
              "      <td>0</td>\n",
              "    </tr>\n",
              "    <tr>\n",
              "      <th>2</th>\n",
              "      <td>99.0</td>\n",
              "      <td>300.0</td>\n",
              "      <td>1</td>\n",
              "      <td>0</td>\n",
              "      <td>0</td>\n",
              "      <td>0</td>\n",
              "      <td>1</td>\n",
              "      <td>1</td>\n",
              "    </tr>\n",
              "    <tr>\n",
              "      <th>3</th>\n",
              "      <td>129.0</td>\n",
              "      <td>380.0</td>\n",
              "      <td>0</td>\n",
              "      <td>0</td>\n",
              "      <td>1</td>\n",
              "      <td>0</td>\n",
              "      <td>0</td>\n",
              "      <td>0</td>\n",
              "    </tr>\n",
              "    <tr>\n",
              "      <th>4</th>\n",
              "      <td>79.0</td>\n",
              "      <td>410.0</td>\n",
              "      <td>1</td>\n",
              "      <td>0</td>\n",
              "      <td>0</td>\n",
              "      <td>1</td>\n",
              "      <td>0</td>\n",
              "      <td>1</td>\n",
              "    </tr>\n",
              "  </tbody>\n",
              "</table>\n",
              "</div>"
            ],
            "text/plain": [
              "   price  weight  size_M  ...  color_red  gender_male  bought_yes\n",
              "0  199.0   500.0       0  ...          1            0           1\n",
              "1   89.0   450.0       0  ...          0            1           0\n",
              "2   99.0   300.0       1  ...          0            1           1\n",
              "3  129.0   380.0       0  ...          0            0           0\n",
              "4   79.0   410.0       1  ...          1            0           1\n",
              "\n",
              "[5 rows x 8 columns]"
            ]
          },
          "metadata": {
            "tags": []
          },
          "execution_count": 66
        }
      ]
    },
    {
      "cell_type": "markdown",
      "metadata": {
        "id": "cU_DTl0HYppt",
        "colab_type": "text"
      },
      "source": [
        "Wykorzystując bibliotekę _pandas_ oraz funkcję _get_dummies()_ przedstaw **zmienną _size_** obiektu _df_ w postaci kodowania 0-1. Użyj parametru _drop_first=True_. Nie przypisuj zmian na trwałe do obiektu _df_."
      ]
    },
    {
      "cell_type": "code",
      "metadata": {
        "id": "kZzErJE4YjCB",
        "colab_type": "code",
        "colab": {
          "base_uri": "https://localhost:8080/",
          "height": 195
        },
        "outputId": "3bcf65a6-47db-4f8f-a4a4-9e15d5fc7ecf"
      },
      "source": [
        "pd.get_dummies(df, columns = ['size'], drop_first = True) # size_L wyleci"
      ],
      "execution_count": 67,
      "outputs": [
        {
          "output_type": "execute_result",
          "data": {
            "text/html": [
              "<div>\n",
              "<style scoped>\n",
              "    .dataframe tbody tr th:only-of-type {\n",
              "        vertical-align: middle;\n",
              "    }\n",
              "\n",
              "    .dataframe tbody tr th {\n",
              "        vertical-align: top;\n",
              "    }\n",
              "\n",
              "    .dataframe thead th {\n",
              "        text-align: right;\n",
              "    }\n",
              "</style>\n",
              "<table border=\"1\" class=\"dataframe\">\n",
              "  <thead>\n",
              "    <tr style=\"text-align: right;\">\n",
              "      <th></th>\n",
              "      <th>color</th>\n",
              "      <th>gender</th>\n",
              "      <th>price</th>\n",
              "      <th>weight</th>\n",
              "      <th>bought</th>\n",
              "      <th>size_M</th>\n",
              "      <th>size_XL</th>\n",
              "    </tr>\n",
              "  </thead>\n",
              "  <tbody>\n",
              "    <tr>\n",
              "      <th>0</th>\n",
              "      <td>red</td>\n",
              "      <td>female</td>\n",
              "      <td>199.0</td>\n",
              "      <td>500.0</td>\n",
              "      <td>yes</td>\n",
              "      <td>0</td>\n",
              "      <td>1</td>\n",
              "    </tr>\n",
              "    <tr>\n",
              "      <th>1</th>\n",
              "      <td>green</td>\n",
              "      <td>male</td>\n",
              "      <td>89.0</td>\n",
              "      <td>450.0</td>\n",
              "      <td>no</td>\n",
              "      <td>0</td>\n",
              "      <td>0</td>\n",
              "    </tr>\n",
              "    <tr>\n",
              "      <th>2</th>\n",
              "      <td>blue</td>\n",
              "      <td>male</td>\n",
              "      <td>99.0</td>\n",
              "      <td>300.0</td>\n",
              "      <td>yes</td>\n",
              "      <td>1</td>\n",
              "      <td>0</td>\n",
              "    </tr>\n",
              "    <tr>\n",
              "      <th>3</th>\n",
              "      <td>green</td>\n",
              "      <td>female</td>\n",
              "      <td>129.0</td>\n",
              "      <td>380.0</td>\n",
              "      <td>no</td>\n",
              "      <td>0</td>\n",
              "      <td>0</td>\n",
              "    </tr>\n",
              "    <tr>\n",
              "      <th>4</th>\n",
              "      <td>red</td>\n",
              "      <td>female</td>\n",
              "      <td>79.0</td>\n",
              "      <td>410.0</td>\n",
              "      <td>yes</td>\n",
              "      <td>1</td>\n",
              "      <td>0</td>\n",
              "    </tr>\n",
              "  </tbody>\n",
              "</table>\n",
              "</div>"
            ],
            "text/plain": [
              "   color  gender  price  weight bought  size_M  size_XL\n",
              "0    red  female  199.0   500.0    yes       0        1\n",
              "1  green    male   89.0   450.0     no       0        0\n",
              "2   blue    male   99.0   300.0    yes       1        0\n",
              "3  green  female  129.0   380.0     no       0        0\n",
              "4    red  female   79.0   410.0    yes       1        0"
            ]
          },
          "metadata": {
            "tags": []
          },
          "execution_count": 67
        }
      ]
    },
    {
      "cell_type": "markdown",
      "metadata": {
        "id": "o3HKIKlP15Ro",
        "colab_type": "text"
      },
      "source": [
        "### <a name='5'></a> Ćwiczenie 195\n",
        "Wykorzystując bibliotekę do uczenia maszynowego _scikit-learn_ oraz klasę _StandardScaler_ dokonaj skalowania zmiennej _weight_. Nie przypisuj zmian do obiektu _df_."
      ]
    },
    {
      "cell_type": "code",
      "metadata": {
        "id": "T_cwg7ytaQ7L",
        "colab_type": "code",
        "colab": {
          "base_uri": "https://localhost:8080/",
          "height": 101
        },
        "outputId": "cb70a3d2-2655-44c2-9062-c956e0c8c0b8"
      },
      "source": [
        "from sklearn.preprocessing import StandardScaler\n",
        "ss = StandardScaler()\n",
        "ss.fit_transform(df[['weight']])"
      ],
      "execution_count": 68,
      "outputs": [
        {
          "output_type": "execute_result",
          "data": {
            "text/plain": [
              "array([[ 1.3660019 ],\n",
              "       [ 0.62360956],\n",
              "       [-1.60356745],\n",
              "       [-0.41573971],\n",
              "       [ 0.02969569]])"
            ]
          },
          "metadata": {
            "tags": []
          },
          "execution_count": 68
        }
      ]
    },
    {
      "cell_type": "markdown",
      "metadata": {
        "id": "PunXd_Ey16so",
        "colab_type": "text"
      },
      "source": [
        "### <a name='6'></a> Ćwiczenie 196\n",
        "Wczytaj raz jeszcze słownik _data_ do obiektu _DataFrame_ o nazwie _df_."
      ]
    },
    {
      "cell_type": "code",
      "metadata": {
        "id": "kC_liXB6Zsqk",
        "colab_type": "code",
        "colab": {}
      },
      "source": [
        "data = {\n",
        "    'size': ['XL', 'L', 'M', 'L', 'M'],\n",
        "    'color': ['red', 'green', 'blue', 'green', 'red'],\n",
        "    'gender': ['female', 'male', 'male', 'female', 'female'],\n",
        "    'price': [199.0, 89.0, 99.0, 129.0, 79.0],\n",
        "    'weight': [500, 450, 300, 380, 410],\n",
        "    'bought': ['yes', 'no', 'yes', 'no', 'yes']\n",
        "}\n",
        "df = pd.DataFrame(data)\n",
        "df_prep = df.copy()"
      ],
      "execution_count": 78,
      "outputs": []
    },
    {
      "cell_type": "markdown",
      "metadata": {
        "id": "ydogC3Imaqq6",
        "colab_type": "text"
      },
      "source": [
        "Przygotuj dane do modelu uczenia maszynowego:\n",
        "* wykorzystując klasę LabelEncoder dokonaj kodowania 0-1 zmiennej _bought_\n",
        "* dokonaj standaryzacji zmiennych _weight_ oraz _price_\n",
        "* dokonaj kodowania 0-1 posoztałych zmiennych kategorycznych wykorzystując funkcję _get_dummies()._\n",
        "\n",
        "Przypisz zmiany do zmiennej _df_prep_."
      ]
    },
    {
      "cell_type": "code",
      "metadata": {
        "id": "-wVXNrn6a1O-",
        "colab_type": "code",
        "colab": {
          "base_uri": "https://localhost:8080/",
          "height": 195
        },
        "outputId": "338ecc62-2bf2-4174-d320-941ce77e3133"
      },
      "source": [
        "df_prep['bought'] = le.fit_transform(df_prep['bought'])\n",
        "df_prep[['weight', 'price']] = ss.fit_transform(df_prep[['weight', 'price']])\n",
        "df_prep = pd.get_dummies(df_prep, drop_first=True)\n",
        "df_prep"
      ],
      "execution_count": 79,
      "outputs": [
        {
          "output_type": "execute_result",
          "data": {
            "text/html": [
              "<div>\n",
              "<style scoped>\n",
              "    .dataframe tbody tr th:only-of-type {\n",
              "        vertical-align: middle;\n",
              "    }\n",
              "\n",
              "    .dataframe tbody tr th {\n",
              "        vertical-align: top;\n",
              "    }\n",
              "\n",
              "    .dataframe thead th {\n",
              "        text-align: right;\n",
              "    }\n",
              "</style>\n",
              "<table border=\"1\" class=\"dataframe\">\n",
              "  <thead>\n",
              "    <tr style=\"text-align: right;\">\n",
              "      <th></th>\n",
              "      <th>price</th>\n",
              "      <th>weight</th>\n",
              "      <th>bought</th>\n",
              "      <th>size_M</th>\n",
              "      <th>size_XL</th>\n",
              "      <th>color_green</th>\n",
              "      <th>color_red</th>\n",
              "      <th>gender_male</th>\n",
              "    </tr>\n",
              "  </thead>\n",
              "  <tbody>\n",
              "    <tr>\n",
              "      <th>0</th>\n",
              "      <td>1.845062</td>\n",
              "      <td>1.366002</td>\n",
              "      <td>1</td>\n",
              "      <td>0</td>\n",
              "      <td>1</td>\n",
              "      <td>0</td>\n",
              "      <td>1</td>\n",
              "      <td>0</td>\n",
              "    </tr>\n",
              "    <tr>\n",
              "      <th>1</th>\n",
              "      <td>-0.691898</td>\n",
              "      <td>0.623610</td>\n",
              "      <td>0</td>\n",
              "      <td>0</td>\n",
              "      <td>0</td>\n",
              "      <td>1</td>\n",
              "      <td>0</td>\n",
              "      <td>1</td>\n",
              "    </tr>\n",
              "    <tr>\n",
              "      <th>2</th>\n",
              "      <td>-0.461266</td>\n",
              "      <td>-1.603567</td>\n",
              "      <td>1</td>\n",
              "      <td>1</td>\n",
              "      <td>0</td>\n",
              "      <td>0</td>\n",
              "      <td>0</td>\n",
              "      <td>1</td>\n",
              "    </tr>\n",
              "    <tr>\n",
              "      <th>3</th>\n",
              "      <td>0.230633</td>\n",
              "      <td>-0.415740</td>\n",
              "      <td>0</td>\n",
              "      <td>0</td>\n",
              "      <td>0</td>\n",
              "      <td>1</td>\n",
              "      <td>0</td>\n",
              "      <td>0</td>\n",
              "    </tr>\n",
              "    <tr>\n",
              "      <th>4</th>\n",
              "      <td>-0.922531</td>\n",
              "      <td>0.029696</td>\n",
              "      <td>1</td>\n",
              "      <td>1</td>\n",
              "      <td>0</td>\n",
              "      <td>0</td>\n",
              "      <td>1</td>\n",
              "      <td>0</td>\n",
              "    </tr>\n",
              "  </tbody>\n",
              "</table>\n",
              "</div>"
            ],
            "text/plain": [
              "      price    weight  bought  ...  color_green  color_red  gender_male\n",
              "0  1.845062  1.366002       1  ...            0          1            0\n",
              "1 -0.691898  0.623610       0  ...            1          0            1\n",
              "2 -0.461266 -1.603567       1  ...            0          0            1\n",
              "3  0.230633 -0.415740       0  ...            1          0            0\n",
              "4 -0.922531  0.029696       1  ...            0          1            0\n",
              "\n",
              "[5 rows x 8 columns]"
            ]
          },
          "metadata": {
            "tags": []
          },
          "execution_count": 79
        }
      ]
    },
    {
      "cell_type": "markdown",
      "metadata": {
        "id": "hOhqDRz618Tx",
        "colab_type": "text"
      },
      "source": [
        "### <a name='7'></a> Ćwiczenie 197\n",
        "Skopiuj obiekt _df_prep_ do zmiennej _data_. Następnie wyrwij z tego obiektu kolumnę _bought_ i przypisz do zmiennej _target_.\n"
      ]
    },
    {
      "cell_type": "code",
      "metadata": {
        "id": "cWffJERlcHrq",
        "colab_type": "code",
        "colab": {}
      },
      "source": [
        "data = df_prep.copy()\n",
        "target = data.pop('bought')"
      ],
      "execution_count": 80,
      "outputs": []
    },
    {
      "cell_type": "markdown",
      "metadata": {
        "id": "BO_8Cz9DcNx3",
        "colab_type": "text"
      },
      "source": [
        "Wyświetl 5 pierwszych wierszy obiektu _data_. Upewnij się, że nie ma w nim kolumny _bought_."
      ]
    },
    {
      "cell_type": "code",
      "metadata": {
        "id": "HBR128WFcPkd",
        "colab_type": "code",
        "colab": {
          "base_uri": "https://localhost:8080/",
          "height": 195
        },
        "outputId": "5171bd2e-04a4-4e5d-9639-c04ec0348c8a"
      },
      "source": [
        "data.head(5)"
      ],
      "execution_count": 81,
      "outputs": [
        {
          "output_type": "execute_result",
          "data": {
            "text/html": [
              "<div>\n",
              "<style scoped>\n",
              "    .dataframe tbody tr th:only-of-type {\n",
              "        vertical-align: middle;\n",
              "    }\n",
              "\n",
              "    .dataframe tbody tr th {\n",
              "        vertical-align: top;\n",
              "    }\n",
              "\n",
              "    .dataframe thead th {\n",
              "        text-align: right;\n",
              "    }\n",
              "</style>\n",
              "<table border=\"1\" class=\"dataframe\">\n",
              "  <thead>\n",
              "    <tr style=\"text-align: right;\">\n",
              "      <th></th>\n",
              "      <th>price</th>\n",
              "      <th>weight</th>\n",
              "      <th>size_M</th>\n",
              "      <th>size_XL</th>\n",
              "      <th>color_green</th>\n",
              "      <th>color_red</th>\n",
              "      <th>gender_male</th>\n",
              "    </tr>\n",
              "  </thead>\n",
              "  <tbody>\n",
              "    <tr>\n",
              "      <th>0</th>\n",
              "      <td>1.845062</td>\n",
              "      <td>1.366002</td>\n",
              "      <td>0</td>\n",
              "      <td>1</td>\n",
              "      <td>0</td>\n",
              "      <td>1</td>\n",
              "      <td>0</td>\n",
              "    </tr>\n",
              "    <tr>\n",
              "      <th>1</th>\n",
              "      <td>-0.691898</td>\n",
              "      <td>0.623610</td>\n",
              "      <td>0</td>\n",
              "      <td>0</td>\n",
              "      <td>1</td>\n",
              "      <td>0</td>\n",
              "      <td>1</td>\n",
              "    </tr>\n",
              "    <tr>\n",
              "      <th>2</th>\n",
              "      <td>-0.461266</td>\n",
              "      <td>-1.603567</td>\n",
              "      <td>1</td>\n",
              "      <td>0</td>\n",
              "      <td>0</td>\n",
              "      <td>0</td>\n",
              "      <td>1</td>\n",
              "    </tr>\n",
              "    <tr>\n",
              "      <th>3</th>\n",
              "      <td>0.230633</td>\n",
              "      <td>-0.415740</td>\n",
              "      <td>0</td>\n",
              "      <td>0</td>\n",
              "      <td>1</td>\n",
              "      <td>0</td>\n",
              "      <td>0</td>\n",
              "    </tr>\n",
              "    <tr>\n",
              "      <th>4</th>\n",
              "      <td>-0.922531</td>\n",
              "      <td>0.029696</td>\n",
              "      <td>1</td>\n",
              "      <td>0</td>\n",
              "      <td>0</td>\n",
              "      <td>1</td>\n",
              "      <td>0</td>\n",
              "    </tr>\n",
              "  </tbody>\n",
              "</table>\n",
              "</div>"
            ],
            "text/plain": [
              "      price    weight  size_M  size_XL  color_green  color_red  gender_male\n",
              "0  1.845062  1.366002       0        1            0          1            0\n",
              "1 -0.691898  0.623610       0        0            1          0            1\n",
              "2 -0.461266 -1.603567       1        0            0          0            1\n",
              "3  0.230633 -0.415740       0        0            1          0            0\n",
              "4 -0.922531  0.029696       1        0            0          1            0"
            ]
          },
          "metadata": {
            "tags": []
          },
          "execution_count": 81
        }
      ]
    },
    {
      "cell_type": "markdown",
      "metadata": {
        "id": "yeqnIoPucSG8",
        "colab_type": "text"
      },
      "source": [
        "Wyświetl 5 pierwszych wierszy obiektu _target_."
      ]
    },
    {
      "cell_type": "code",
      "metadata": {
        "id": "P7ikDAjrcSrR",
        "colab_type": "code",
        "colab": {
          "base_uri": "https://localhost:8080/",
          "height": 118
        },
        "outputId": "a7fdb8b1-9ed8-4a3b-b22b-3c29d8b19be4"
      },
      "source": [
        "target.head(5)"
      ],
      "execution_count": 82,
      "outputs": [
        {
          "output_type": "execute_result",
          "data": {
            "text/plain": [
              "0    1\n",
              "1    0\n",
              "2    1\n",
              "3    0\n",
              "4    1\n",
              "Name: bought, dtype: int64"
            ]
          },
          "metadata": {
            "tags": []
          },
          "execution_count": 82
        }
      ]
    },
    {
      "cell_type": "markdown",
      "metadata": {
        "id": "TXUd_4631-gw",
        "colab_type": "text"
      },
      "source": [
        "### <a name='8'></a> Ćwiczenie 198\n",
        "Wykorzystując bibliotekę _scikit-learn_ oraz funkcję _train_test_split_ podziel dane z obiektów _data_ i _target_ na zbiór treningowy (_X\\_train_, _y\\_train_) oraz zbiór testowy (_X\\_test_, _y\\_test_). Do zbioru testowego przydziel 20% próbek. \n",
        "\n",
        "Wyświetl rozmiar obiektów:\n",
        "* _X\\_train_\n",
        "* _X\\_test_\n",
        "* _y\\_train_\n",
        "* _y\\_test_"
      ]
    },
    {
      "cell_type": "code",
      "metadata": {
        "id": "Qy4TamiecWwd",
        "colab_type": "code",
        "colab": {
          "base_uri": "https://localhost:8080/",
          "height": 84
        },
        "outputId": "40e32d1b-3747-44a2-cb84-f93f8c31edf0"
      },
      "source": [
        "from sklearn.model_selection import train_test_split\n",
        "x_train, x_test, y_train, y_test = train_test_split(data, target, test_size = 0.2)\n",
        "print(f\"x_train shape: {x_train.shape}\")\n",
        "print(f\"x_test shape: {x_test.shape}\")\n",
        "print(f\"y_train shape: {y_train.shape}\")\n",
        "print(f\"y_test shape: {y_test.shape}\")"
      ],
      "execution_count": 86,
      "outputs": [
        {
          "output_type": "stream",
          "text": [
            "x_train shape: (4, 7)\n",
            "x_test shape: (1, 7)\n",
            "y_train shape: (4,)\n",
            "y_test shape: (1,)\n"
          ],
          "name": "stdout"
        }
      ]
    },
    {
      "cell_type": "markdown",
      "metadata": {
        "id": "tgI6xEn-2AQo",
        "colab_type": "text"
      },
      "source": [
        "### <a name='9'></a> Ćwiczenie 199\n",
        "Połącz obiekty _X\\_train_ oraz _X\\_test_ w jeden obiekt _DataFrame_ o nazwie _X_."
      ]
    },
    {
      "cell_type": "code",
      "metadata": {
        "id": "WhwF14FEczqX",
        "colab_type": "code",
        "colab": {}
      },
      "source": [
        "X = pd.concat([x_train, x_test])"
      ],
      "execution_count": 92,
      "outputs": []
    },
    {
      "cell_type": "markdown",
      "metadata": {
        "id": "wxhpf-uq2B1I",
        "colab_type": "text"
      },
      "source": [
        "### <a name='10'></a> Ćwiczenie 200\n",
        "Połącz obiekty _y\\_train_ oraz _y\\_test_ w jeden obiekt _DataFrame_ o nazwie _y_."
      ]
    },
    {
      "cell_type": "code",
      "metadata": {
        "id": "AUSgDmoOdMYa",
        "colab_type": "code",
        "colab": {}
      },
      "source": [
        "Y = pd.concat([y_train, y_test])"
      ],
      "execution_count": 93,
      "outputs": []
    },
    {
      "cell_type": "markdown",
      "metadata": {
        "id": "kloW-YmadUcE",
        "colab_type": "text"
      },
      "source": [
        "Połącz obiekty _X_ oraz _y_ w jeden obiekt _DataFrame_."
      ]
    },
    {
      "cell_type": "code",
      "metadata": {
        "id": "69B3K7NCdRwn",
        "colab_type": "code",
        "colab": {
          "base_uri": "https://localhost:8080/",
          "height": 195
        },
        "outputId": "c9ad1261-492e-408e-9f64-e1f5f783c78a"
      },
      "source": [
        "pd.concat([X, Y], axis = 1) # pamiętać że przy łączeniu concat jest argumemt axis, i można nim manipulować!!!!!"
      ],
      "execution_count": 95,
      "outputs": [
        {
          "output_type": "execute_result",
          "data": {
            "text/html": [
              "<div>\n",
              "<style scoped>\n",
              "    .dataframe tbody tr th:only-of-type {\n",
              "        vertical-align: middle;\n",
              "    }\n",
              "\n",
              "    .dataframe tbody tr th {\n",
              "        vertical-align: top;\n",
              "    }\n",
              "\n",
              "    .dataframe thead th {\n",
              "        text-align: right;\n",
              "    }\n",
              "</style>\n",
              "<table border=\"1\" class=\"dataframe\">\n",
              "  <thead>\n",
              "    <tr style=\"text-align: right;\">\n",
              "      <th></th>\n",
              "      <th>price</th>\n",
              "      <th>weight</th>\n",
              "      <th>size_M</th>\n",
              "      <th>size_XL</th>\n",
              "      <th>color_green</th>\n",
              "      <th>color_red</th>\n",
              "      <th>gender_male</th>\n",
              "      <th>bought</th>\n",
              "    </tr>\n",
              "  </thead>\n",
              "  <tbody>\n",
              "    <tr>\n",
              "      <th>1</th>\n",
              "      <td>-0.691898</td>\n",
              "      <td>0.623610</td>\n",
              "      <td>0</td>\n",
              "      <td>0</td>\n",
              "      <td>1</td>\n",
              "      <td>0</td>\n",
              "      <td>1</td>\n",
              "      <td>0</td>\n",
              "    </tr>\n",
              "    <tr>\n",
              "      <th>0</th>\n",
              "      <td>1.845062</td>\n",
              "      <td>1.366002</td>\n",
              "      <td>0</td>\n",
              "      <td>1</td>\n",
              "      <td>0</td>\n",
              "      <td>1</td>\n",
              "      <td>0</td>\n",
              "      <td>1</td>\n",
              "    </tr>\n",
              "    <tr>\n",
              "      <th>2</th>\n",
              "      <td>-0.461266</td>\n",
              "      <td>-1.603567</td>\n",
              "      <td>1</td>\n",
              "      <td>0</td>\n",
              "      <td>0</td>\n",
              "      <td>0</td>\n",
              "      <td>1</td>\n",
              "      <td>1</td>\n",
              "    </tr>\n",
              "    <tr>\n",
              "      <th>4</th>\n",
              "      <td>-0.922531</td>\n",
              "      <td>0.029696</td>\n",
              "      <td>1</td>\n",
              "      <td>0</td>\n",
              "      <td>0</td>\n",
              "      <td>1</td>\n",
              "      <td>0</td>\n",
              "      <td>1</td>\n",
              "    </tr>\n",
              "    <tr>\n",
              "      <th>3</th>\n",
              "      <td>0.230633</td>\n",
              "      <td>-0.415740</td>\n",
              "      <td>0</td>\n",
              "      <td>0</td>\n",
              "      <td>1</td>\n",
              "      <td>0</td>\n",
              "      <td>0</td>\n",
              "      <td>0</td>\n",
              "    </tr>\n",
              "  </tbody>\n",
              "</table>\n",
              "</div>"
            ],
            "text/plain": [
              "      price    weight  size_M  ...  color_red  gender_male  bought\n",
              "1 -0.691898  0.623610       0  ...          0            1       0\n",
              "0  1.845062  1.366002       0  ...          1            0       1\n",
              "2 -0.461266 -1.603567       1  ...          0            1       1\n",
              "4 -0.922531  0.029696       1  ...          1            0       1\n",
              "3  0.230633 -0.415740       0  ...          0            0       0\n",
              "\n",
              "[5 rows x 8 columns]"
            ]
          },
          "metadata": {
            "tags": []
          },
          "execution_count": 95
        }
      ]
    },
    {
      "cell_type": "code",
      "metadata": {
        "id": "gbqJJQEzZ5r8",
        "colab_type": "code",
        "colab": {}
      },
      "source": [
        ""
      ],
      "execution_count": null,
      "outputs": []
    }
  ]
}