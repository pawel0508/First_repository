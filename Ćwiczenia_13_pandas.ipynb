{
  "nbformat": 4,
  "nbformat_minor": 0,
  "metadata": {
    "colab": {
      "name": "141-150_exercises.ipynb",
      "provenance": [],
      "collapsed_sections": [],
      "include_colab_link": true
    },
    "kernelspec": {
      "name": "python3",
      "display_name": "Python 3"
    }
  },
  "cells": [
    {
      "cell_type": "markdown",
      "metadata": {
        "id": "view-in-github",
        "colab_type": "text"
      },
      "source": [
        "<a href=\"https://colab.research.google.com/github/pawel0508/First_repository/blob/master/%C4%86wiczenia_13_pandas.ipynb\" target=\"_parent\"><img src=\"https://colab.research.google.com/assets/colab-badge.svg\" alt=\"Open In Colab\"/></a>"
      ]
    },
    {
      "cell_type": "markdown",
      "metadata": {
        "id": "WLEgCW5F1hho",
        "colab_type": "text"
      },
      "source": [
        "## Pandas\n",
        "\n",
        "### Spis treści:\n",
        "* [Import biblioteki](#0)\n",
        "* [Ćwiczenie 141](#1)\n",
        "* [Ćwiczenie 142](#2)\n",
        "* [Ćwiczenie 143](#3)\n",
        "* [Ćwiczenie 144](#4)\n",
        "* [Ćwiczenie 145](#5)\n",
        "* [Ćwiczenie 146](#6)\n",
        "* [Ćwiczenie 147](#7)\n",
        "* [Ćwiczenie 148](#8)\n",
        "* [Ćwiczenie 149](#9)\n",
        "* [Ćwiczenie 150](#10)"
      ]
    },
    {
      "cell_type": "markdown",
      "metadata": {
        "id": "zeLOLmTj1kBM",
        "colab_type": "text"
      },
      "source": [
        "### <a name='0'></a>Import biblioteki"
      ]
    },
    {
      "cell_type": "code",
      "metadata": {
        "id": "HXMB7SMe1Wnz",
        "colab_type": "code",
        "colab": {
          "base_uri": "https://localhost:8080/",
          "height": 35
        },
        "outputId": "ed6d70c6-4e98-4e25-901b-9afb8e387d6e"
      },
      "source": [
        "import numpy as np\n",
        "import pandas as pd\n",
        "\n",
        "np.random.seed(42)\n",
        "np.__version__"
      ],
      "execution_count": 18,
      "outputs": [
        {
          "output_type": "execute_result",
          "data": {
            "application/vnd.google.colaboratory.intrinsic+json": {
              "type": "string"
            },
            "text/plain": [
              "'1.18.5'"
            ]
          },
          "metadata": {
            "tags": []
          },
          "execution_count": 18
        }
      ]
    },
    {
      "cell_type": "markdown",
      "metadata": {
        "id": "cyc70pMe1oCg",
        "colab_type": "text"
      },
      "source": [
        "### <a name='1'></a> Ćwiczenie 141\n",
        "Podane są dwa obiekty typu _Series_:\n",
        "\n",
        "```\n",
        "s1 = pd.Series(np.random.rand(20))\n",
        "s2 = pd.Series(np.random.randn(20))\n",
        "```\n",
        "Połącz te dwa obiekty w jeden obiekt typu _DataFrame_ (jako dwie kolumny) i przypisz do zmiennej _df_. Nadaj nazwy kolumn odpowiednio _col1_ oraz _col2_.\n"
      ]
    },
    {
      "cell_type": "code",
      "metadata": {
        "id": "7htc5HhMKBjO",
        "colab_type": "code",
        "colab": {}
      },
      "source": [
        "s1 = pd.Series(np.random.rand(20))\n",
        "s2 = pd.Series(np.random.randn(20))\n",
        "df = pd.DataFrame({'col1':s1, 'col2':s2})"
      ],
      "execution_count": 4,
      "outputs": []
    },
    {
      "cell_type": "markdown",
      "metadata": {
        "id": "J9pY1rtr1sC0",
        "colab_type": "text"
      },
      "source": [
        "### <a name='2'></a> Ćwiczenie 142\n",
        "Wytnij z obiektu _df_ wiersze, dla których wartość w kolumnie _col2_ jest pomiędzy 0.0 a 1.0 (włącznie)."
      ]
    },
    {
      "cell_type": "code",
      "metadata": {
        "id": "rq935m0tLA46",
        "colab_type": "code",
        "colab": {
          "base_uri": "https://localhost:8080/",
          "height": 254
        },
        "outputId": "cdf4916c-d697-4a38-8a48-5c01d93466a1"
      },
      "source": [
        "df[(df['col2'] > 0) & (df['col2'] < 1)]"
      ],
      "execution_count": 5,
      "outputs": [
        {
          "output_type": "execute_result",
          "data": {
            "text/html": [
              "<div>\n",
              "<style scoped>\n",
              "    .dataframe tbody tr th:only-of-type {\n",
              "        vertical-align: middle;\n",
              "    }\n",
              "\n",
              "    .dataframe tbody tr th {\n",
              "        vertical-align: top;\n",
              "    }\n",
              "\n",
              "    .dataframe thead th {\n",
              "        text-align: right;\n",
              "    }\n",
              "</style>\n",
              "<table border=\"1\" class=\"dataframe\">\n",
              "  <thead>\n",
              "    <tr style=\"text-align: right;\">\n",
              "      <th></th>\n",
              "      <th>col1</th>\n",
              "      <th>col2</th>\n",
              "    </tr>\n",
              "  </thead>\n",
              "  <tbody>\n",
              "    <tr>\n",
              "      <th>0</th>\n",
              "      <td>0.311711</td>\n",
              "      <td>0.324084</td>\n",
              "    </tr>\n",
              "    <tr>\n",
              "      <th>3</th>\n",
              "      <td>0.184854</td>\n",
              "      <td>0.611676</td>\n",
              "    </tr>\n",
              "    <tr>\n",
              "      <th>5</th>\n",
              "      <td>0.775133</td>\n",
              "      <td>0.931280</td>\n",
              "    </tr>\n",
              "    <tr>\n",
              "      <th>8</th>\n",
              "      <td>0.597900</td>\n",
              "      <td>0.331263</td>\n",
              "    </tr>\n",
              "    <tr>\n",
              "      <th>9</th>\n",
              "      <td>0.921874</td>\n",
              "      <td>0.975545</td>\n",
              "    </tr>\n",
              "    <tr>\n",
              "      <th>14</th>\n",
              "      <td>0.388677</td>\n",
              "      <td>0.812526</td>\n",
              "    </tr>\n",
              "    <tr>\n",
              "      <th>18</th>\n",
              "      <td>0.280935</td>\n",
              "      <td>0.361636</td>\n",
              "    </tr>\n",
              "  </tbody>\n",
              "</table>\n",
              "</div>"
            ],
            "text/plain": [
              "        col1      col2\n",
              "0   0.311711  0.324084\n",
              "3   0.184854  0.611676\n",
              "5   0.775133  0.931280\n",
              "8   0.597900  0.331263\n",
              "9   0.921874  0.975545\n",
              "14  0.388677  0.812526\n",
              "18  0.280935  0.361636"
            ]
          },
          "metadata": {
            "tags": []
          },
          "execution_count": 5
        }
      ]
    },
    {
      "cell_type": "markdown",
      "metadata": {
        "id": "XQLYT2m11wVG",
        "colab_type": "text"
      },
      "source": [
        "### <a name='3'></a> Ćwiczenie 143\n",
        "Przypisz nową kolumnę o nazwie _col3_, która przyjmie wartość 1 w momencie gdy w kolumnie _col2_ jest wartość nieujemna i przeciwnie -1."
      ]
    },
    {
      "cell_type": "code",
      "metadata": {
        "id": "mAkZEOCVMShv",
        "colab_type": "code",
        "colab": {
          "base_uri": "https://localhost:8080/",
          "height": 723
        },
        "outputId": "ec1f6efa-51f4-4500-9e98-c1f873b75bc5"
      },
      "source": [
        "df['col3'] = (df['col2'] >= 0).astype(int)\n",
        "df['col3'][df['col3'] == 0]  = -1\n",
        "df"
      ],
      "execution_count": 12,
      "outputs": [
        {
          "output_type": "stream",
          "text": [
            "/usr/local/lib/python3.6/dist-packages/ipykernel_launcher.py:2: SettingWithCopyWarning: \n",
            "A value is trying to be set on a copy of a slice from a DataFrame\n",
            "\n",
            "See the caveats in the documentation: https://pandas.pydata.org/pandas-docs/stable/user_guide/indexing.html#returning-a-view-versus-a-copy\n",
            "  \n"
          ],
          "name": "stderr"
        },
        {
          "output_type": "execute_result",
          "data": {
            "text/html": [
              "<div>\n",
              "<style scoped>\n",
              "    .dataframe tbody tr th:only-of-type {\n",
              "        vertical-align: middle;\n",
              "    }\n",
              "\n",
              "    .dataframe tbody tr th {\n",
              "        vertical-align: top;\n",
              "    }\n",
              "\n",
              "    .dataframe thead th {\n",
              "        text-align: right;\n",
              "    }\n",
              "</style>\n",
              "<table border=\"1\" class=\"dataframe\">\n",
              "  <thead>\n",
              "    <tr style=\"text-align: right;\">\n",
              "      <th></th>\n",
              "      <th>col1</th>\n",
              "      <th>col2</th>\n",
              "      <th>col3</th>\n",
              "    </tr>\n",
              "  </thead>\n",
              "  <tbody>\n",
              "    <tr>\n",
              "      <th>0</th>\n",
              "      <td>0.311711</td>\n",
              "      <td>0.324084</td>\n",
              "      <td>1</td>\n",
              "    </tr>\n",
              "    <tr>\n",
              "      <th>1</th>\n",
              "      <td>0.520068</td>\n",
              "      <td>-0.385082</td>\n",
              "      <td>-1</td>\n",
              "    </tr>\n",
              "    <tr>\n",
              "      <th>2</th>\n",
              "      <td>0.546710</td>\n",
              "      <td>-0.676922</td>\n",
              "      <td>-1</td>\n",
              "    </tr>\n",
              "    <tr>\n",
              "      <th>3</th>\n",
              "      <td>0.184854</td>\n",
              "      <td>0.611676</td>\n",
              "      <td>1</td>\n",
              "    </tr>\n",
              "    <tr>\n",
              "      <th>4</th>\n",
              "      <td>0.969585</td>\n",
              "      <td>1.031000</td>\n",
              "      <td>1</td>\n",
              "    </tr>\n",
              "    <tr>\n",
              "      <th>5</th>\n",
              "      <td>0.775133</td>\n",
              "      <td>0.931280</td>\n",
              "      <td>1</td>\n",
              "    </tr>\n",
              "    <tr>\n",
              "      <th>6</th>\n",
              "      <td>0.939499</td>\n",
              "      <td>-0.839218</td>\n",
              "      <td>-1</td>\n",
              "    </tr>\n",
              "    <tr>\n",
              "      <th>7</th>\n",
              "      <td>0.894827</td>\n",
              "      <td>-0.309212</td>\n",
              "      <td>-1</td>\n",
              "    </tr>\n",
              "    <tr>\n",
              "      <th>8</th>\n",
              "      <td>0.597900</td>\n",
              "      <td>0.331263</td>\n",
              "      <td>1</td>\n",
              "    </tr>\n",
              "    <tr>\n",
              "      <th>9</th>\n",
              "      <td>0.921874</td>\n",
              "      <td>0.975545</td>\n",
              "      <td>1</td>\n",
              "    </tr>\n",
              "    <tr>\n",
              "      <th>10</th>\n",
              "      <td>0.088493</td>\n",
              "      <td>-0.479174</td>\n",
              "      <td>-1</td>\n",
              "    </tr>\n",
              "    <tr>\n",
              "      <th>11</th>\n",
              "      <td>0.195983</td>\n",
              "      <td>-0.185659</td>\n",
              "      <td>-1</td>\n",
              "    </tr>\n",
              "    <tr>\n",
              "      <th>12</th>\n",
              "      <td>0.045227</td>\n",
              "      <td>-1.106335</td>\n",
              "      <td>-1</td>\n",
              "    </tr>\n",
              "    <tr>\n",
              "      <th>13</th>\n",
              "      <td>0.325330</td>\n",
              "      <td>-1.196207</td>\n",
              "      <td>-1</td>\n",
              "    </tr>\n",
              "    <tr>\n",
              "      <th>14</th>\n",
              "      <td>0.388677</td>\n",
              "      <td>0.812526</td>\n",
              "      <td>1</td>\n",
              "    </tr>\n",
              "    <tr>\n",
              "      <th>15</th>\n",
              "      <td>0.271349</td>\n",
              "      <td>1.356240</td>\n",
              "      <td>1</td>\n",
              "    </tr>\n",
              "    <tr>\n",
              "      <th>16</th>\n",
              "      <td>0.828738</td>\n",
              "      <td>-0.072010</td>\n",
              "      <td>-1</td>\n",
              "    </tr>\n",
              "    <tr>\n",
              "      <th>17</th>\n",
              "      <td>0.356753</td>\n",
              "      <td>1.003533</td>\n",
              "      <td>1</td>\n",
              "    </tr>\n",
              "    <tr>\n",
              "      <th>18</th>\n",
              "      <td>0.280935</td>\n",
              "      <td>0.361636</td>\n",
              "      <td>1</td>\n",
              "    </tr>\n",
              "    <tr>\n",
              "      <th>19</th>\n",
              "      <td>0.542696</td>\n",
              "      <td>-0.645120</td>\n",
              "      <td>-1</td>\n",
              "    </tr>\n",
              "  </tbody>\n",
              "</table>\n",
              "</div>"
            ],
            "text/plain": [
              "        col1      col2  col3\n",
              "0   0.311711  0.324084     1\n",
              "1   0.520068 -0.385082    -1\n",
              "2   0.546710 -0.676922    -1\n",
              "3   0.184854  0.611676     1\n",
              "4   0.969585  1.031000     1\n",
              "5   0.775133  0.931280     1\n",
              "6   0.939499 -0.839218    -1\n",
              "7   0.894827 -0.309212    -1\n",
              "8   0.597900  0.331263     1\n",
              "9   0.921874  0.975545     1\n",
              "10  0.088493 -0.479174    -1\n",
              "11  0.195983 -0.185659    -1\n",
              "12  0.045227 -1.106335    -1\n",
              "13  0.325330 -1.196207    -1\n",
              "14  0.388677  0.812526     1\n",
              "15  0.271349  1.356240     1\n",
              "16  0.828738 -0.072010    -1\n",
              "17  0.356753  1.003533     1\n",
              "18  0.280935  0.361636     1\n",
              "19  0.542696 -0.645120    -1"
            ]
          },
          "metadata": {
            "tags": []
          },
          "execution_count": 12
        }
      ]
    },
    {
      "cell_type": "markdown",
      "metadata": {
        "id": "4xTKSUzg10MK",
        "colab_type": "text"
      },
      "source": [
        "### <a name='4'></a> Ćwiczenie 144\n",
        "Przypisz nową kolumnę o nazwie _col4_, która przytnie wartości z kolumny _col2_ do przedziału $[-1.0, 1.0]$. \n",
        "Innymi słowy, dla wartości poniżej -1.0 należy wstawić wartość -1.0, dla wartości powyżej 1.0 wartość 1.0.\n"
      ]
    },
    {
      "cell_type": "code",
      "metadata": {
        "id": "Bg_ChMCrNR4Q",
        "colab_type": "code",
        "colab": {}
      },
      "source": [
        "df['col4'] = df['col2'].clip(-1,1)"
      ],
      "execution_count": 25,
      "outputs": []
    },
    {
      "cell_type": "code",
      "metadata": {
        "id": "LClYghS2nuX_",
        "colab_type": "code",
        "colab": {
          "base_uri": "https://localhost:8080/",
          "height": 639
        },
        "outputId": "e4bb7fa1-6ff0-41b4-826d-f2b3c5eae54c"
      },
      "source": [
        "df"
      ],
      "execution_count": 26,
      "outputs": [
        {
          "output_type": "execute_result",
          "data": {
            "text/html": [
              "<div>\n",
              "<style scoped>\n",
              "    .dataframe tbody tr th:only-of-type {\n",
              "        vertical-align: middle;\n",
              "    }\n",
              "\n",
              "    .dataframe tbody tr th {\n",
              "        vertical-align: top;\n",
              "    }\n",
              "\n",
              "    .dataframe thead th {\n",
              "        text-align: right;\n",
              "    }\n",
              "</style>\n",
              "<table border=\"1\" class=\"dataframe\">\n",
              "  <thead>\n",
              "    <tr style=\"text-align: right;\">\n",
              "      <th></th>\n",
              "      <th>col1</th>\n",
              "      <th>col2</th>\n",
              "      <th>col3</th>\n",
              "      <th>col4</th>\n",
              "    </tr>\n",
              "  </thead>\n",
              "  <tbody>\n",
              "    <tr>\n",
              "      <th>0</th>\n",
              "      <td>0.311711</td>\n",
              "      <td>0.324084</td>\n",
              "      <td>1</td>\n",
              "      <td>0.324084</td>\n",
              "    </tr>\n",
              "    <tr>\n",
              "      <th>1</th>\n",
              "      <td>0.520068</td>\n",
              "      <td>-0.385082</td>\n",
              "      <td>-1</td>\n",
              "      <td>-0.385082</td>\n",
              "    </tr>\n",
              "    <tr>\n",
              "      <th>2</th>\n",
              "      <td>0.546710</td>\n",
              "      <td>-0.676922</td>\n",
              "      <td>-1</td>\n",
              "      <td>-0.676922</td>\n",
              "    </tr>\n",
              "    <tr>\n",
              "      <th>3</th>\n",
              "      <td>0.184854</td>\n",
              "      <td>0.611676</td>\n",
              "      <td>1</td>\n",
              "      <td>0.611676</td>\n",
              "    </tr>\n",
              "    <tr>\n",
              "      <th>4</th>\n",
              "      <td>0.969585</td>\n",
              "      <td>1.031000</td>\n",
              "      <td>1</td>\n",
              "      <td>1.000000</td>\n",
              "    </tr>\n",
              "    <tr>\n",
              "      <th>5</th>\n",
              "      <td>0.775133</td>\n",
              "      <td>0.931280</td>\n",
              "      <td>1</td>\n",
              "      <td>0.931280</td>\n",
              "    </tr>\n",
              "    <tr>\n",
              "      <th>6</th>\n",
              "      <td>0.939499</td>\n",
              "      <td>-0.839218</td>\n",
              "      <td>-1</td>\n",
              "      <td>-0.839218</td>\n",
              "    </tr>\n",
              "    <tr>\n",
              "      <th>7</th>\n",
              "      <td>0.894827</td>\n",
              "      <td>-0.309212</td>\n",
              "      <td>-1</td>\n",
              "      <td>-0.309212</td>\n",
              "    </tr>\n",
              "    <tr>\n",
              "      <th>8</th>\n",
              "      <td>0.597900</td>\n",
              "      <td>0.331263</td>\n",
              "      <td>1</td>\n",
              "      <td>0.331263</td>\n",
              "    </tr>\n",
              "    <tr>\n",
              "      <th>9</th>\n",
              "      <td>0.921874</td>\n",
              "      <td>0.975545</td>\n",
              "      <td>1</td>\n",
              "      <td>0.975545</td>\n",
              "    </tr>\n",
              "    <tr>\n",
              "      <th>10</th>\n",
              "      <td>0.088493</td>\n",
              "      <td>-0.479174</td>\n",
              "      <td>-1</td>\n",
              "      <td>-0.479174</td>\n",
              "    </tr>\n",
              "    <tr>\n",
              "      <th>11</th>\n",
              "      <td>0.195983</td>\n",
              "      <td>-0.185659</td>\n",
              "      <td>-1</td>\n",
              "      <td>-0.185659</td>\n",
              "    </tr>\n",
              "    <tr>\n",
              "      <th>12</th>\n",
              "      <td>0.045227</td>\n",
              "      <td>-1.106335</td>\n",
              "      <td>-1</td>\n",
              "      <td>-1.000000</td>\n",
              "    </tr>\n",
              "    <tr>\n",
              "      <th>13</th>\n",
              "      <td>0.325330</td>\n",
              "      <td>-1.196207</td>\n",
              "      <td>-1</td>\n",
              "      <td>-1.000000</td>\n",
              "    </tr>\n",
              "    <tr>\n",
              "      <th>14</th>\n",
              "      <td>0.388677</td>\n",
              "      <td>0.812526</td>\n",
              "      <td>1</td>\n",
              "      <td>0.812526</td>\n",
              "    </tr>\n",
              "    <tr>\n",
              "      <th>15</th>\n",
              "      <td>0.271349</td>\n",
              "      <td>1.356240</td>\n",
              "      <td>1</td>\n",
              "      <td>1.000000</td>\n",
              "    </tr>\n",
              "    <tr>\n",
              "      <th>16</th>\n",
              "      <td>0.828738</td>\n",
              "      <td>-0.072010</td>\n",
              "      <td>-1</td>\n",
              "      <td>-0.072010</td>\n",
              "    </tr>\n",
              "    <tr>\n",
              "      <th>17</th>\n",
              "      <td>0.356753</td>\n",
              "      <td>1.003533</td>\n",
              "      <td>1</td>\n",
              "      <td>1.000000</td>\n",
              "    </tr>\n",
              "    <tr>\n",
              "      <th>18</th>\n",
              "      <td>0.280935</td>\n",
              "      <td>0.361636</td>\n",
              "      <td>1</td>\n",
              "      <td>0.361636</td>\n",
              "    </tr>\n",
              "    <tr>\n",
              "      <th>19</th>\n",
              "      <td>0.542696</td>\n",
              "      <td>-0.645120</td>\n",
              "      <td>-1</td>\n",
              "      <td>-0.645120</td>\n",
              "    </tr>\n",
              "  </tbody>\n",
              "</table>\n",
              "</div>"
            ],
            "text/plain": [
              "        col1      col2  col3      col4\n",
              "0   0.311711  0.324084     1  0.324084\n",
              "1   0.520068 -0.385082    -1 -0.385082\n",
              "2   0.546710 -0.676922    -1 -0.676922\n",
              "3   0.184854  0.611676     1  0.611676\n",
              "4   0.969585  1.031000     1  1.000000\n",
              "5   0.775133  0.931280     1  0.931280\n",
              "6   0.939499 -0.839218    -1 -0.839218\n",
              "7   0.894827 -0.309212    -1 -0.309212\n",
              "8   0.597900  0.331263     1  0.331263\n",
              "9   0.921874  0.975545     1  0.975545\n",
              "10  0.088493 -0.479174    -1 -0.479174\n",
              "11  0.195983 -0.185659    -1 -0.185659\n",
              "12  0.045227 -1.106335    -1 -1.000000\n",
              "13  0.325330 -1.196207    -1 -1.000000\n",
              "14  0.388677  0.812526     1  0.812526\n",
              "15  0.271349  1.356240     1  1.000000\n",
              "16  0.828738 -0.072010    -1 -0.072010\n",
              "17  0.356753  1.003533     1  1.000000\n",
              "18  0.280935  0.361636     1  0.361636\n",
              "19  0.542696 -0.645120    -1 -0.645120"
            ]
          },
          "metadata": {
            "tags": []
          },
          "execution_count": 26
        }
      ]
    },
    {
      "cell_type": "markdown",
      "metadata": {
        "id": "o3HKIKlP15Ro",
        "colab_type": "text"
      },
      "source": [
        "### <a name='5'></a> Ćwiczenie 145\n",
        "Znajdź 5 największych wartości dla kolumny _col2_."
      ]
    },
    {
      "cell_type": "code",
      "metadata": {
        "id": "jGG0OO6aU2dU",
        "colab_type": "code",
        "colab": {
          "base_uri": "https://localhost:8080/",
          "height": 118
        },
        "outputId": "1b1bcf36-0beb-4897-94d7-dd0660c039b6"
      },
      "source": [
        "df['col2'].nlargest(5)"
      ],
      "execution_count": 27,
      "outputs": [
        {
          "output_type": "execute_result",
          "data": {
            "text/plain": [
              "15    1.356240\n",
              "4     1.031000\n",
              "17    1.003533\n",
              "9     0.975545\n",
              "5     0.931280\n",
              "Name: col2, dtype: float64"
            ]
          },
          "metadata": {
            "tags": []
          },
          "execution_count": 27
        }
      ]
    },
    {
      "cell_type": "markdown",
      "metadata": {
        "id": "gj1J1dG7VQWJ",
        "colab_type": "text"
      },
      "source": [
        "Znajdź 5 najmniejszych wartości dla kolumny _col2_."
      ]
    },
    {
      "cell_type": "code",
      "metadata": {
        "id": "VSD75nMoVPS-",
        "colab_type": "code",
        "colab": {
          "base_uri": "https://localhost:8080/",
          "height": 118
        },
        "outputId": "01321664-5f4b-46e6-8bf8-ca7a5d749bfd"
      },
      "source": [
        "df['col2'].nsmallest(5)"
      ],
      "execution_count": 29,
      "outputs": [
        {
          "output_type": "execute_result",
          "data": {
            "text/plain": [
              "13   -1.196207\n",
              "12   -1.106335\n",
              "6    -0.839218\n",
              "2    -0.676922\n",
              "19   -0.645120\n",
              "Name: col2, dtype: float64"
            ]
          },
          "metadata": {
            "tags": []
          },
          "execution_count": 29
        }
      ]
    },
    {
      "cell_type": "markdown",
      "metadata": {
        "id": "PunXd_Ey16so",
        "colab_type": "text"
      },
      "source": [
        "### <a name='6'></a> Ćwiczenie 146\n",
        "Wyznacz skumulowaną sumę dla każdej kolumny.\n",
        "\n",
        "__Wskazówka:__ Użyj metody _pd.DataFrame.cumsum()_."
      ]
    },
    {
      "cell_type": "code",
      "metadata": {
        "id": "1_dpccwOVg0I",
        "colab_type": "code",
        "colab": {
          "base_uri": "https://localhost:8080/",
          "height": 282
        },
        "outputId": "0f8e05ec-33fb-4d7d-b9bf-6892c01c27e8"
      },
      "source": [
        "df.cumsum()"
      ],
      "execution_count": 36,
      "outputs": [
        {
          "output_type": "execute_result",
          "data": {
            "text/plain": [
              "<matplotlib.axes._subplots.AxesSubplot at 0x7f5e3e75b4e0>"
            ]
          },
          "metadata": {
            "tags": []
          },
          "execution_count": 36
        },
        {
          "output_type": "display_data",
          "data": {
            "image/png": "[encoded data removed]",
            "text/plain": [
              "<Figure size 432x288 with 1 Axes>"
            ]
          },
          "metadata": {
            "tags": [],
            "needs_background": "light"
          }
        }
      ]
    },
    {
      "cell_type": "markdown",
      "metadata": {
        "id": "hOhqDRz618Tx",
        "colab_type": "text"
      },
      "source": [
        "### <a name='7'></a> Ćwiczenie 147\n",
        "Wyznacz medianę dla zmiennej _col2_ (inaczej kwantyl rzędu 0.5)."
      ]
    },
    {
      "cell_type": "code",
      "metadata": {
        "id": "2j0U0daiWk5Z",
        "colab_type": "code",
        "colab": {
          "base_uri": "https://localhost:8080/",
          "height": 34
        },
        "outputId": "100c6d81-0209-435c-f9cb-3a81076adf58"
      },
      "source": [
        "df['col2'].quantile(0.5)"
      ],
      "execution_count": 37,
      "outputs": [
        {
          "output_type": "execute_result",
          "data": {
            "text/plain": [
              "0.1260369239072306"
            ]
          },
          "metadata": {
            "tags": []
          },
          "execution_count": 37
        }
      ]
    },
    {
      "cell_type": "markdown",
      "metadata": {
        "id": "TXUd_4631-gw",
        "colab_type": "text"
      },
      "source": [
        "### <a name='8'></a> Ćwiczenie 148\n",
        "Wytnij wiersze, dla których zmienna _col2_ przyjmuje wartości większe od 0.0."
      ]
    },
    {
      "cell_type": "code",
      "metadata": {
        "id": "FKDAKaugW9Pd",
        "colab_type": "code",
        "colab": {
          "base_uri": "https://localhost:8080/",
          "height": 343
        },
        "outputId": "35f0626a-3f3d-4280-cc46-2f340580e7e2"
      },
      "source": [
        "df[df['col2'] > 0]"
      ],
      "execution_count": 38,
      "outputs": [
        {
          "output_type": "execute_result",
          "data": {
            "text/html": [
              "<div>\n",
              "<style scoped>\n",
              "    .dataframe tbody tr th:only-of-type {\n",
              "        vertical-align: middle;\n",
              "    }\n",
              "\n",
              "    .dataframe tbody tr th {\n",
              "        vertical-align: top;\n",
              "    }\n",
              "\n",
              "    .dataframe thead th {\n",
              "        text-align: right;\n",
              "    }\n",
              "</style>\n",
              "<table border=\"1\" class=\"dataframe\">\n",
              "  <thead>\n",
              "    <tr style=\"text-align: right;\">\n",
              "      <th></th>\n",
              "      <th>col1</th>\n",
              "      <th>col2</th>\n",
              "      <th>col3</th>\n",
              "      <th>col4</th>\n",
              "    </tr>\n",
              "  </thead>\n",
              "  <tbody>\n",
              "    <tr>\n",
              "      <th>0</th>\n",
              "      <td>0.311711</td>\n",
              "      <td>0.324084</td>\n",
              "      <td>1</td>\n",
              "      <td>0.324084</td>\n",
              "    </tr>\n",
              "    <tr>\n",
              "      <th>3</th>\n",
              "      <td>0.184854</td>\n",
              "      <td>0.611676</td>\n",
              "      <td>1</td>\n",
              "      <td>0.611676</td>\n",
              "    </tr>\n",
              "    <tr>\n",
              "      <th>4</th>\n",
              "      <td>0.969585</td>\n",
              "      <td>1.031000</td>\n",
              "      <td>1</td>\n",
              "      <td>1.000000</td>\n",
              "    </tr>\n",
              "    <tr>\n",
              "      <th>5</th>\n",
              "      <td>0.775133</td>\n",
              "      <td>0.931280</td>\n",
              "      <td>1</td>\n",
              "      <td>0.931280</td>\n",
              "    </tr>\n",
              "    <tr>\n",
              "      <th>8</th>\n",
              "      <td>0.597900</td>\n",
              "      <td>0.331263</td>\n",
              "      <td>1</td>\n",
              "      <td>0.331263</td>\n",
              "    </tr>\n",
              "    <tr>\n",
              "      <th>9</th>\n",
              "      <td>0.921874</td>\n",
              "      <td>0.975545</td>\n",
              "      <td>1</td>\n",
              "      <td>0.975545</td>\n",
              "    </tr>\n",
              "    <tr>\n",
              "      <th>14</th>\n",
              "      <td>0.388677</td>\n",
              "      <td>0.812526</td>\n",
              "      <td>1</td>\n",
              "      <td>0.812526</td>\n",
              "    </tr>\n",
              "    <tr>\n",
              "      <th>15</th>\n",
              "      <td>0.271349</td>\n",
              "      <td>1.356240</td>\n",
              "      <td>1</td>\n",
              "      <td>1.000000</td>\n",
              "    </tr>\n",
              "    <tr>\n",
              "      <th>17</th>\n",
              "      <td>0.356753</td>\n",
              "      <td>1.003533</td>\n",
              "      <td>1</td>\n",
              "      <td>1.000000</td>\n",
              "    </tr>\n",
              "    <tr>\n",
              "      <th>18</th>\n",
              "      <td>0.280935</td>\n",
              "      <td>0.361636</td>\n",
              "      <td>1</td>\n",
              "      <td>0.361636</td>\n",
              "    </tr>\n",
              "  </tbody>\n",
              "</table>\n",
              "</div>"
            ],
            "text/plain": [
              "        col1      col2  col3      col4\n",
              "0   0.311711  0.324084     1  0.324084\n",
              "3   0.184854  0.611676     1  0.611676\n",
              "4   0.969585  1.031000     1  1.000000\n",
              "5   0.775133  0.931280     1  0.931280\n",
              "8   0.597900  0.331263     1  0.331263\n",
              "9   0.921874  0.975545     1  0.975545\n",
              "14  0.388677  0.812526     1  0.812526\n",
              "15  0.271349  1.356240     1  1.000000\n",
              "17  0.356753  1.003533     1  1.000000\n",
              "18  0.280935  0.361636     1  0.361636"
            ]
          },
          "metadata": {
            "tags": []
          },
          "execution_count": 38
        }
      ]
    },
    {
      "cell_type": "markdown",
      "metadata": {
        "id": "tgI6xEn-2AQo",
        "colab_type": "text"
      },
      "source": [
        "### <a name='9'></a> Ćwiczenie 149\n",
        "Wytnij 5 pierwszych wierszy obiektu _df_ i przekształć je do słownika."
      ]
    },
    {
      "cell_type": "code",
      "metadata": {
        "id": "HTXId5eFXgyY",
        "colab_type": "code",
        "colab": {
          "base_uri": "https://localhost:8080/",
          "height": 286
        },
        "outputId": "8a3da5ea-f590-4f7e-d0e6-ddcb67d420b7"
      },
      "source": [
        "df.iloc[:5, :].to_dict()"
      ],
      "execution_count": 43,
      "outputs": [
        {
          "output_type": "execute_result",
          "data": {
            "text/plain": [
              "{'col1': {0: 0.31171107608941095,\n",
              "  1: 0.5200680211778108,\n",
              "  2: 0.5467102793432796,\n",
              "  3: 0.18485445552552704,\n",
              "  4: 0.9695846277645586},\n",
              " 'col2': {0: 0.324083969394795,\n",
              "  1: -0.38508228041631654,\n",
              "  2: -0.6769220003059587,\n",
              "  3: 0.6116762888408679,\n",
              "  4: 1.030999522495951},\n",
              " 'col3': {0: 1, 1: -1, 2: -1, 3: 1, 4: 1},\n",
              " 'col4': {0: 0.324083969394795,\n",
              "  1: -0.38508228041631654,\n",
              "  2: -0.6769220003059587,\n",
              "  3: 0.6116762888408679,\n",
              "  4: 1.0}}"
            ]
          },
          "metadata": {
            "tags": []
          },
          "execution_count": 43
        }
      ]
    },
    {
      "cell_type": "markdown",
      "metadata": {
        "id": "wxhpf-uq2B1I",
        "colab_type": "text"
      },
      "source": [
        "### <a name='10'></a> Ćwiczenie 150\n",
        "Wytnij 5 pierwszych wierszy obiektu _df_, przekształć je do formatu Markdown i przypisz do zmiennej _df_markdown_."
      ]
    },
    {
      "cell_type": "code",
      "metadata": {
        "id": "YFc0KW6URsuc",
        "colab_type": "code",
        "colab": {}
      },
      "source": [
        "df_markdown = df.head(5).to_markdown()"
      ],
      "execution_count": 46,
      "outputs": []
    },
    {
      "cell_type": "markdown",
      "metadata": {
        "id": "-_xCdTQpYqFx",
        "colab_type": "text"
      },
      "source": [
        "Wydrukuj do konsoli zawartość zmiennej _df_markdown_."
      ]
    },
    {
      "cell_type": "code",
      "metadata": {
        "id": "xXI_Km1nX7wA",
        "colab_type": "code",
        "colab": {
          "base_uri": "https://localhost:8080/",
          "height": 69
        },
        "outputId": "3d84cd2a-ec3b-4fe3-d0ca-280a43769024"
      },
      "source": [
        "df_markdown"
      ],
      "execution_count": 47,
      "outputs": [
        {
          "output_type": "execute_result",
          "data": {
            "application/vnd.google.colaboratory.intrinsic+json": {
              "type": "string"
            },
            "text/plain": [
              "'|    |     col1 |      col2 |   col3 |      col4 |\\n|---:|---------:|----------:|-------:|----------:|\\n|  0 | 0.311711 |  0.324084 |      1 |  0.324084 |\\n|  1 | 0.520068 | -0.385082 |     -1 | -0.385082 |\\n|  2 | 0.54671  | -0.676922 |     -1 | -0.676922 |\\n|  3 | 0.184854 |  0.611676 |      1 |  0.611676 |\\n|  4 | 0.969585 |  1.031    |      1 |  1        |'"
            ]
          },
          "metadata": {
            "tags": []
          },
          "execution_count": 47
        }
      ]
    },
    {
      "cell_type": "markdown",
      "metadata": {
        "id": "mtO9QK5XYune",
        "colab_type": "text"
      },
      "source": [
        "Skopiuj wynik uruchomienia powyższej komórki i wklej poniżej:\n",
        "\n",
        "|    |     col1 |      col2 |   col3 |      col4 |\n",
        "|---:|---------:|----------:|-------:|----------:|\n",
        "|  0 | 0.311711 |  0.324084 |      1 |  0.324084 |\n",
        "|  1 | 0.520068 | -0.385082 |     -1 | -0.385082 |\n",
        "|  2 | 0.54671  | -0.676922 |     -1 | -0.676922 |\n",
        "|  3 | 0.184854 |  0.611676 |      1 |  0.611676 |\n",
        "|  4 | 0.969585 |  1.031    |      1 |  1        |\n"
      ]
    },
    {
      "cell_type": "code",
      "metadata": {
        "id": "0mhM5qG4syY9",
        "colab_type": "code",
        "colab": {
          "base_uri": "https://localhost:8080/",
          "height": 134
        },
        "outputId": "022f8f40-2b2c-4725-c562-4e969e315ed5"
      },
      "source": [
        "print(df.head().to_markdown())"
      ],
      "execution_count": 48,
      "outputs": [
        {
          "output_type": "stream",
          "text": [
            "|    |     col1 |      col2 |   col3 |      col4 |\n",
            "|---:|---------:|----------:|-------:|----------:|\n",
            "|  0 | 0.311711 |  0.324084 |      1 |  0.324084 |\n",
            "|  1 | 0.520068 | -0.385082 |     -1 | -0.385082 |\n",
            "|  2 | 0.54671  | -0.676922 |     -1 | -0.676922 |\n",
            "|  3 | 0.184854 |  0.611676 |      1 |  0.611676 |\n",
            "|  4 | 0.969585 |  1.031    |      1 |  1        |\n"
          ],
          "name": "stdout"
        }
      ]
    },
    {
      "cell_type": "code",
      "metadata": {
        "id": "L-MfB3Jgs5YT",
        "colab_type": "code",
        "colab": {}
      },
      "source": [
        ""
      ],
      "execution_count": null,
      "outputs": []
    }
  ]
}