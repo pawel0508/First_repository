{
  "nbformat": 4,
  "nbformat_minor": 0,
  "metadata": {
    "colab": {
      "name": "161-170_exercises.ipynb",
      "provenance": [],
      "collapsed_sections": [],
      "include_colab_link": true
    },
    "kernelspec": {
      "name": "python3",
      "display_name": "Python 3"
    }
  },
  "cells": [
    {
      "cell_type": "markdown",
      "metadata": {
        "id": "view-in-github",
        "colab_type": "text"
      },
      "source": [
        "<a href=\"https://colab.research.google.com/github/pawel0508/First_repository/blob/master/%C4%86wiczenia_14_pandas.ipynb\" target=\"_parent\"><img src=\"https://colab.research.google.com/assets/colab-badge.svg\" alt=\"Open In Colab\"/></a>"
      ]
    },
    {
      "cell_type": "markdown",
      "metadata": {
        "id": "WLEgCW5F1hho",
        "colab_type": "text"
      },
      "source": [
        "## Pandas\n",
        "\n",
        "### Spis treści:\n",
        "* [Import biblioteki](#0)\n",
        "* [Ćwiczenie 161](#1)\n",
        "* [Ćwiczenie 162](#2)\n",
        "* [Ćwiczenie 163](#3)\n",
        "* [Ćwiczenie 164](#4)\n",
        "* [Ćwiczenie 165](#5)\n",
        "* [Ćwiczenie 166](#6)\n",
        "* [Ćwiczenie 167](#7)\n",
        "* [Ćwiczenie 168](#8)\n",
        "* [Ćwiczenie 169](#9)\n",
        "* [Ćwiczenie 170](#10)"
      ]
    },
    {
      "cell_type": "markdown",
      "metadata": {
        "id": "zeLOLmTj1kBM",
        "colab_type": "text"
      },
      "source": [
        "### <a name='0'></a>Import biblioteki"
      ]
    },
    {
      "cell_type": "code",
      "metadata": {
        "id": "HXMB7SMe1Wnz",
        "colab_type": "code",
        "colab": {
          "base_uri": "https://localhost:8080/",
          "height": 35
        },
        "outputId": "8b456586-4f65-498e-b1f1-e1f4f50e88ba"
      },
      "source": [
        "import numpy as np\n",
        "import pandas as pd\n",
        "\n",
        "pd.options.display.float_format = '{:.2f}'.format\n",
        "np.__version__"
      ],
      "execution_count": 1,
      "outputs": [
        {
          "output_type": "execute_result",
          "data": {
            "application/vnd.google.colaboratory.intrinsic+json": {
              "type": "string"
            },
            "text/plain": [
              "'1.18.5'"
            ]
          },
          "metadata": {
            "tags": []
          },
          "execution_count": 1
        }
      ]
    },
    {
      "cell_type": "markdown",
      "metadata": {
        "id": "cyc70pMe1oCg",
        "colab_type": "text"
      },
      "source": [
        "### <a name='1'></a> Ćwiczenie 161\n",
        "Wczytaj do obiektu _DataFrame_ o nazwie _df_ plik csv znajdujący się pod linkiem:\n",
        "* https://storage.googleapis.com/esmartdata-courses-files/dash-course/data.csv\n",
        "\n",
        "Ustaw indeks obiektu _df_ na pierwszą kolumnę. Wyświetl obiekt _df_."
      ]
    },
    {
      "cell_type": "code",
      "metadata": {
        "id": "6O5qvRzOOUy4",
        "colab_type": "code",
        "colab": {
          "base_uri": "https://localhost:8080/",
          "height": 402
        },
        "outputId": "fd95fc21-4d7f-405e-a0e8-693bc4ba669a"
      },
      "source": [
        "df = pd.read_csv('https://storage.googleapis.com/esmartdata-courses-files/dash-course/data.csv', index_col = 0)\n",
        "df"
      ],
      "execution_count": 54,
      "outputs": [
        {
          "output_type": "execute_result",
          "data": {
            "text/html": [
              "<div>\n",
              "<style scoped>\n",
              "    .dataframe tbody tr th:only-of-type {\n",
              "        vertical-align: middle;\n",
              "    }\n",
              "\n",
              "    .dataframe tbody tr th {\n",
              "        vertical-align: top;\n",
              "    }\n",
              "\n",
              "    .dataframe thead th {\n",
              "        text-align: right;\n",
              "    }\n",
              "</style>\n",
              "<table border=\"1\" class=\"dataframe\">\n",
              "  <thead>\n",
              "    <tr style=\"text-align: right;\">\n",
              "      <th></th>\n",
              "      <th>Name</th>\n",
              "      <th>Location</th>\n",
              "      <th>Year</th>\n",
              "      <th>Kilometers_Driven</th>\n",
              "      <th>Fuel_Type</th>\n",
              "      <th>Transmission</th>\n",
              "      <th>Owner_Type</th>\n",
              "      <th>Mileage</th>\n",
              "      <th>Engine</th>\n",
              "      <th>Power</th>\n",
              "      <th>Seats</th>\n",
              "      <th>New_Price</th>\n",
              "      <th>Price</th>\n",
              "    </tr>\n",
              "  </thead>\n",
              "  <tbody>\n",
              "    <tr>\n",
              "      <th>0</th>\n",
              "      <td>Maruti Wagon R LXI CNG</td>\n",
              "      <td>Mumbai</td>\n",
              "      <td>2010</td>\n",
              "      <td>72000</td>\n",
              "      <td>CNG</td>\n",
              "      <td>Manual</td>\n",
              "      <td>First</td>\n",
              "      <td>26.6 km/kg</td>\n",
              "      <td>998 CC</td>\n",
              "      <td>58.16 bhp</td>\n",
              "      <td>5.00</td>\n",
              "      <td>NaN</td>\n",
              "      <td>1.75</td>\n",
              "    </tr>\n",
              "    <tr>\n",
              "      <th>1</th>\n",
              "      <td>Hyundai Creta 1.6 CRDi SX Option</td>\n",
              "      <td>Pune</td>\n",
              "      <td>2015</td>\n",
              "      <td>41000</td>\n",
              "      <td>Diesel</td>\n",
              "      <td>Manual</td>\n",
              "      <td>First</td>\n",
              "      <td>19.67 kmpl</td>\n",
              "      <td>1582 CC</td>\n",
              "      <td>126.2 bhp</td>\n",
              "      <td>5.00</td>\n",
              "      <td>NaN</td>\n",
              "      <td>12.50</td>\n",
              "    </tr>\n",
              "    <tr>\n",
              "      <th>2</th>\n",
              "      <td>Honda Jazz V</td>\n",
              "      <td>Chennai</td>\n",
              "      <td>2011</td>\n",
              "      <td>46000</td>\n",
              "      <td>Petrol</td>\n",
              "      <td>Manual</td>\n",
              "      <td>First</td>\n",
              "      <td>18.2 kmpl</td>\n",
              "      <td>1199 CC</td>\n",
              "      <td>88.7 bhp</td>\n",
              "      <td>5.00</td>\n",
              "      <td>8.61 Lakh</td>\n",
              "      <td>4.50</td>\n",
              "    </tr>\n",
              "    <tr>\n",
              "      <th>3</th>\n",
              "      <td>Maruti Ertiga VDI</td>\n",
              "      <td>Chennai</td>\n",
              "      <td>2012</td>\n",
              "      <td>87000</td>\n",
              "      <td>Diesel</td>\n",
              "      <td>Manual</td>\n",
              "      <td>First</td>\n",
              "      <td>20.77 kmpl</td>\n",
              "      <td>1248 CC</td>\n",
              "      <td>88.76 bhp</td>\n",
              "      <td>7.00</td>\n",
              "      <td>NaN</td>\n",
              "      <td>6.00</td>\n",
              "    </tr>\n",
              "    <tr>\n",
              "      <th>4</th>\n",
              "      <td>Audi A4 New 2.0 TDI Multitronic</td>\n",
              "      <td>Coimbatore</td>\n",
              "      <td>2013</td>\n",
              "      <td>40670</td>\n",
              "      <td>Diesel</td>\n",
              "      <td>Automatic</td>\n",
              "      <td>Second</td>\n",
              "      <td>15.2 kmpl</td>\n",
              "      <td>1968 CC</td>\n",
              "      <td>140.8 bhp</td>\n",
              "      <td>5.00</td>\n",
              "      <td>NaN</td>\n",
              "      <td>17.74</td>\n",
              "    </tr>\n",
              "    <tr>\n",
              "      <th>...</th>\n",
              "      <td>...</td>\n",
              "      <td>...</td>\n",
              "      <td>...</td>\n",
              "      <td>...</td>\n",
              "      <td>...</td>\n",
              "      <td>...</td>\n",
              "      <td>...</td>\n",
              "      <td>...</td>\n",
              "      <td>...</td>\n",
              "      <td>...</td>\n",
              "      <td>...</td>\n",
              "      <td>...</td>\n",
              "      <td>...</td>\n",
              "    </tr>\n",
              "    <tr>\n",
              "      <th>6014</th>\n",
              "      <td>Maruti Swift VDI</td>\n",
              "      <td>Delhi</td>\n",
              "      <td>2014</td>\n",
              "      <td>27365</td>\n",
              "      <td>Diesel</td>\n",
              "      <td>Manual</td>\n",
              "      <td>First</td>\n",
              "      <td>28.4 kmpl</td>\n",
              "      <td>1248 CC</td>\n",
              "      <td>74 bhp</td>\n",
              "      <td>5.00</td>\n",
              "      <td>7.88 Lakh</td>\n",
              "      <td>4.75</td>\n",
              "    </tr>\n",
              "    <tr>\n",
              "      <th>6015</th>\n",
              "      <td>Hyundai Xcent 1.1 CRDi S</td>\n",
              "      <td>Jaipur</td>\n",
              "      <td>2015</td>\n",
              "      <td>100000</td>\n",
              "      <td>Diesel</td>\n",
              "      <td>Manual</td>\n",
              "      <td>First</td>\n",
              "      <td>24.4 kmpl</td>\n",
              "      <td>1120 CC</td>\n",
              "      <td>71 bhp</td>\n",
              "      <td>5.00</td>\n",
              "      <td>NaN</td>\n",
              "      <td>4.00</td>\n",
              "    </tr>\n",
              "    <tr>\n",
              "      <th>6016</th>\n",
              "      <td>Mahindra Xylo D4 BSIV</td>\n",
              "      <td>Jaipur</td>\n",
              "      <td>2012</td>\n",
              "      <td>55000</td>\n",
              "      <td>Diesel</td>\n",
              "      <td>Manual</td>\n",
              "      <td>Second</td>\n",
              "      <td>14.0 kmpl</td>\n",
              "      <td>2498 CC</td>\n",
              "      <td>112 bhp</td>\n",
              "      <td>8.00</td>\n",
              "      <td>NaN</td>\n",
              "      <td>2.90</td>\n",
              "    </tr>\n",
              "    <tr>\n",
              "      <th>6017</th>\n",
              "      <td>Maruti Wagon R VXI</td>\n",
              "      <td>Kolkata</td>\n",
              "      <td>2013</td>\n",
              "      <td>46000</td>\n",
              "      <td>Petrol</td>\n",
              "      <td>Manual</td>\n",
              "      <td>First</td>\n",
              "      <td>18.9 kmpl</td>\n",
              "      <td>998 CC</td>\n",
              "      <td>67.1 bhp</td>\n",
              "      <td>5.00</td>\n",
              "      <td>NaN</td>\n",
              "      <td>2.65</td>\n",
              "    </tr>\n",
              "    <tr>\n",
              "      <th>6018</th>\n",
              "      <td>Chevrolet Beat Diesel</td>\n",
              "      <td>Hyderabad</td>\n",
              "      <td>2011</td>\n",
              "      <td>47000</td>\n",
              "      <td>Diesel</td>\n",
              "      <td>Manual</td>\n",
              "      <td>First</td>\n",
              "      <td>25.44 kmpl</td>\n",
              "      <td>936 CC</td>\n",
              "      <td>57.6 bhp</td>\n",
              "      <td>5.00</td>\n",
              "      <td>NaN</td>\n",
              "      <td>2.50</td>\n",
              "    </tr>\n",
              "  </tbody>\n",
              "</table>\n",
              "<p>6019 rows × 13 columns</p>\n",
              "</div>"
            ],
            "text/plain": [
              "                                  Name    Location  ...  New_Price  Price\n",
              "0               Maruti Wagon R LXI CNG      Mumbai  ...        NaN   1.75\n",
              "1     Hyundai Creta 1.6 CRDi SX Option        Pune  ...        NaN  12.50\n",
              "2                         Honda Jazz V     Chennai  ...  8.61 Lakh   4.50\n",
              "3                    Maruti Ertiga VDI     Chennai  ...        NaN   6.00\n",
              "4      Audi A4 New 2.0 TDI Multitronic  Coimbatore  ...        NaN  17.74\n",
              "...                                ...         ...  ...        ...    ...\n",
              "6014                  Maruti Swift VDI       Delhi  ...  7.88 Lakh   4.75\n",
              "6015          Hyundai Xcent 1.1 CRDi S      Jaipur  ...        NaN   4.00\n",
              "6016             Mahindra Xylo D4 BSIV      Jaipur  ...        NaN   2.90\n",
              "6017                Maruti Wagon R VXI     Kolkata  ...        NaN   2.65\n",
              "6018             Chevrolet Beat Diesel   Hyderabad  ...        NaN   2.50\n",
              "\n",
              "[6019 rows x 13 columns]"
            ]
          },
          "metadata": {
            "tags": []
          },
          "execution_count": 54
        }
      ]
    },
    {
      "cell_type": "markdown",
      "metadata": {
        "id": "UwgBYQgiPLvN",
        "colab_type": "text"
      },
      "source": [
        "Wyświetl informacje na temat obiektu _df_."
      ]
    },
    {
      "cell_type": "code",
      "metadata": {
        "id": "avK7TJ3DPOor",
        "colab_type": "code",
        "colab": {
          "base_uri": "https://localhost:8080/",
          "height": 353
        },
        "outputId": "0c52f4a2-5a82-4015-a46b-31e2849bf7c4"
      },
      "source": [
        "df.info()"
      ],
      "execution_count": 55,
      "outputs": [
        {
          "output_type": "stream",
          "text": [
            "<class 'pandas.core.frame.DataFrame'>\n",
            "Int64Index: 6019 entries, 0 to 6018\n",
            "Data columns (total 13 columns):\n",
            " #   Column             Non-Null Count  Dtype  \n",
            "---  ------             --------------  -----  \n",
            " 0   Name               6019 non-null   object \n",
            " 1   Location           6019 non-null   object \n",
            " 2   Year               6019 non-null   int64  \n",
            " 3   Kilometers_Driven  6019 non-null   int64  \n",
            " 4   Fuel_Type          6019 non-null   object \n",
            " 5   Transmission       6019 non-null   object \n",
            " 6   Owner_Type         6019 non-null   object \n",
            " 7   Mileage            6017 non-null   object \n",
            " 8   Engine             5983 non-null   object \n",
            " 9   Power              5983 non-null   object \n",
            " 10  Seats              5977 non-null   float64\n",
            " 11  New_Price          824 non-null    object \n",
            " 12  Price              6019 non-null   float64\n",
            "dtypes: float64(2), int64(2), object(9)\n",
            "memory usage: 658.3+ KB\n"
          ],
          "name": "stdout"
        }
      ]
    },
    {
      "cell_type": "markdown",
      "metadata": {
        "id": "NkUbkVhMPUl1",
        "colab_type": "text"
      },
      "source": [
        "Wyświetl podstawowe statystyki obiektu _df_."
      ]
    },
    {
      "cell_type": "code",
      "metadata": {
        "id": "V1OYTgdGPZuA",
        "colab_type": "code",
        "colab": {
          "base_uri": "https://localhost:8080/",
          "height": 284
        },
        "outputId": "223a3842-f6e7-4d60-f1da-d79324e2771a"
      },
      "source": [
        "df.describe()"
      ],
      "execution_count": 56,
      "outputs": [
        {
          "output_type": "execute_result",
          "data": {
            "text/html": [
              "<div>\n",
              "<style scoped>\n",
              "    .dataframe tbody tr th:only-of-type {\n",
              "        vertical-align: middle;\n",
              "    }\n",
              "\n",
              "    .dataframe tbody tr th {\n",
              "        vertical-align: top;\n",
              "    }\n",
              "\n",
              "    .dataframe thead th {\n",
              "        text-align: right;\n",
              "    }\n",
              "</style>\n",
              "<table border=\"1\" class=\"dataframe\">\n",
              "  <thead>\n",
              "    <tr style=\"text-align: right;\">\n",
              "      <th></th>\n",
              "      <th>Year</th>\n",
              "      <th>Kilometers_Driven</th>\n",
              "      <th>Seats</th>\n",
              "      <th>Price</th>\n",
              "    </tr>\n",
              "  </thead>\n",
              "  <tbody>\n",
              "    <tr>\n",
              "      <th>count</th>\n",
              "      <td>6019.00</td>\n",
              "      <td>6019.00</td>\n",
              "      <td>5977.00</td>\n",
              "      <td>6019.00</td>\n",
              "    </tr>\n",
              "    <tr>\n",
              "      <th>mean</th>\n",
              "      <td>2013.36</td>\n",
              "      <td>58738.38</td>\n",
              "      <td>5.28</td>\n",
              "      <td>9.48</td>\n",
              "    </tr>\n",
              "    <tr>\n",
              "      <th>std</th>\n",
              "      <td>3.27</td>\n",
              "      <td>91268.84</td>\n",
              "      <td>0.81</td>\n",
              "      <td>11.19</td>\n",
              "    </tr>\n",
              "    <tr>\n",
              "      <th>min</th>\n",
              "      <td>1998.00</td>\n",
              "      <td>171.00</td>\n",
              "      <td>0.00</td>\n",
              "      <td>0.44</td>\n",
              "    </tr>\n",
              "    <tr>\n",
              "      <th>25%</th>\n",
              "      <td>2011.00</td>\n",
              "      <td>34000.00</td>\n",
              "      <td>5.00</td>\n",
              "      <td>3.50</td>\n",
              "    </tr>\n",
              "    <tr>\n",
              "      <th>50%</th>\n",
              "      <td>2014.00</td>\n",
              "      <td>53000.00</td>\n",
              "      <td>5.00</td>\n",
              "      <td>5.64</td>\n",
              "    </tr>\n",
              "    <tr>\n",
              "      <th>75%</th>\n",
              "      <td>2016.00</td>\n",
              "      <td>73000.00</td>\n",
              "      <td>5.00</td>\n",
              "      <td>9.95</td>\n",
              "    </tr>\n",
              "    <tr>\n",
              "      <th>max</th>\n",
              "      <td>2019.00</td>\n",
              "      <td>6500000.00</td>\n",
              "      <td>10.00</td>\n",
              "      <td>160.00</td>\n",
              "    </tr>\n",
              "  </tbody>\n",
              "</table>\n",
              "</div>"
            ],
            "text/plain": [
              "         Year  Kilometers_Driven   Seats   Price\n",
              "count 6019.00            6019.00 5977.00 6019.00\n",
              "mean  2013.36           58738.38    5.28    9.48\n",
              "std      3.27           91268.84    0.81   11.19\n",
              "min   1998.00             171.00    0.00    0.44\n",
              "25%   2011.00           34000.00    5.00    3.50\n",
              "50%   2014.00           53000.00    5.00    5.64\n",
              "75%   2016.00           73000.00    5.00    9.95\n",
              "max   2019.00         6500000.00   10.00  160.00"
            ]
          },
          "metadata": {
            "tags": []
          },
          "execution_count": 56
        }
      ]
    },
    {
      "cell_type": "markdown",
      "metadata": {
        "id": "J9pY1rtr1sC0",
        "colab_type": "text"
      },
      "source": [
        "### <a name='2'></a> Ćwiczenie 162\n",
        "Znajdź listę zawierającą nazwy wszystkich kolumn obiektu _df_."
      ]
    },
    {
      "cell_type": "code",
      "metadata": {
        "id": "uS9D1lGxQSlE",
        "colab_type": "code",
        "colab": {
          "base_uri": "https://localhost:8080/",
          "height": 235
        },
        "outputId": "8490a8cb-3252-4ab8-bc0a-cdb5e28680e0"
      },
      "source": [
        "list(df.columns)"
      ],
      "execution_count": 57,
      "outputs": [
        {
          "output_type": "execute_result",
          "data": {
            "text/plain": [
              "['Name',\n",
              " 'Location',\n",
              " 'Year',\n",
              " 'Kilometers_Driven',\n",
              " 'Fuel_Type',\n",
              " 'Transmission',\n",
              " 'Owner_Type',\n",
              " 'Mileage',\n",
              " 'Engine',\n",
              " 'Power',\n",
              " 'Seats',\n",
              " 'New_Price',\n",
              " 'Price']"
            ]
          },
          "metadata": {
            "tags": []
          },
          "execution_count": 57
        }
      ]
    },
    {
      "cell_type": "markdown",
      "metadata": {
        "id": "gkEz-EnLQgFs",
        "colab_type": "text"
      },
      "source": [
        "Z obiektu _df_ usuń kolumnę o nazwie _New_Price_ i wyświetl 5 pierwszych wierszy."
      ]
    },
    {
      "cell_type": "code",
      "metadata": {
        "id": "z51AtEYSQQrn",
        "colab_type": "code",
        "colab": {
          "base_uri": "https://localhost:8080/",
          "height": 402
        },
        "outputId": "986bda4e-13a8-4aea-c064-6c94f0aa95c6"
      },
      "source": [
        "df.drop('New_Price', axis = 1, inplace = True)\n",
        "df"
      ],
      "execution_count": 58,
      "outputs": [
        {
          "output_type": "execute_result",
          "data": {
            "text/html": [
              "<div>\n",
              "<style scoped>\n",
              "    .dataframe tbody tr th:only-of-type {\n",
              "        vertical-align: middle;\n",
              "    }\n",
              "\n",
              "    .dataframe tbody tr th {\n",
              "        vertical-align: top;\n",
              "    }\n",
              "\n",
              "    .dataframe thead th {\n",
              "        text-align: right;\n",
              "    }\n",
              "</style>\n",
              "<table border=\"1\" class=\"dataframe\">\n",
              "  <thead>\n",
              "    <tr style=\"text-align: right;\">\n",
              "      <th></th>\n",
              "      <th>Name</th>\n",
              "      <th>Location</th>\n",
              "      <th>Year</th>\n",
              "      <th>Kilometers_Driven</th>\n",
              "      <th>Fuel_Type</th>\n",
              "      <th>Transmission</th>\n",
              "      <th>Owner_Type</th>\n",
              "      <th>Mileage</th>\n",
              "      <th>Engine</th>\n",
              "      <th>Power</th>\n",
              "      <th>Seats</th>\n",
              "      <th>Price</th>\n",
              "    </tr>\n",
              "  </thead>\n",
              "  <tbody>\n",
              "    <tr>\n",
              "      <th>0</th>\n",
              "      <td>Maruti Wagon R LXI CNG</td>\n",
              "      <td>Mumbai</td>\n",
              "      <td>2010</td>\n",
              "      <td>72000</td>\n",
              "      <td>CNG</td>\n",
              "      <td>Manual</td>\n",
              "      <td>First</td>\n",
              "      <td>26.6 km/kg</td>\n",
              "      <td>998 CC</td>\n",
              "      <td>58.16 bhp</td>\n",
              "      <td>5.00</td>\n",
              "      <td>1.75</td>\n",
              "    </tr>\n",
              "    <tr>\n",
              "      <th>1</th>\n",
              "      <td>Hyundai Creta 1.6 CRDi SX Option</td>\n",
              "      <td>Pune</td>\n",
              "      <td>2015</td>\n",
              "      <td>41000</td>\n",
              "      <td>Diesel</td>\n",
              "      <td>Manual</td>\n",
              "      <td>First</td>\n",
              "      <td>19.67 kmpl</td>\n",
              "      <td>1582 CC</td>\n",
              "      <td>126.2 bhp</td>\n",
              "      <td>5.00</td>\n",
              "      <td>12.50</td>\n",
              "    </tr>\n",
              "    <tr>\n",
              "      <th>2</th>\n",
              "      <td>Honda Jazz V</td>\n",
              "      <td>Chennai</td>\n",
              "      <td>2011</td>\n",
              "      <td>46000</td>\n",
              "      <td>Petrol</td>\n",
              "      <td>Manual</td>\n",
              "      <td>First</td>\n",
              "      <td>18.2 kmpl</td>\n",
              "      <td>1199 CC</td>\n",
              "      <td>88.7 bhp</td>\n",
              "      <td>5.00</td>\n",
              "      <td>4.50</td>\n",
              "    </tr>\n",
              "    <tr>\n",
              "      <th>3</th>\n",
              "      <td>Maruti Ertiga VDI</td>\n",
              "      <td>Chennai</td>\n",
              "      <td>2012</td>\n",
              "      <td>87000</td>\n",
              "      <td>Diesel</td>\n",
              "      <td>Manual</td>\n",
              "      <td>First</td>\n",
              "      <td>20.77 kmpl</td>\n",
              "      <td>1248 CC</td>\n",
              "      <td>88.76 bhp</td>\n",
              "      <td>7.00</td>\n",
              "      <td>6.00</td>\n",
              "    </tr>\n",
              "    <tr>\n",
              "      <th>4</th>\n",
              "      <td>Audi A4 New 2.0 TDI Multitronic</td>\n",
              "      <td>Coimbatore</td>\n",
              "      <td>2013</td>\n",
              "      <td>40670</td>\n",
              "      <td>Diesel</td>\n",
              "      <td>Automatic</td>\n",
              "      <td>Second</td>\n",
              "      <td>15.2 kmpl</td>\n",
              "      <td>1968 CC</td>\n",
              "      <td>140.8 bhp</td>\n",
              "      <td>5.00</td>\n",
              "      <td>17.74</td>\n",
              "    </tr>\n",
              "    <tr>\n",
              "      <th>...</th>\n",
              "      <td>...</td>\n",
              "      <td>...</td>\n",
              "      <td>...</td>\n",
              "      <td>...</td>\n",
              "      <td>...</td>\n",
              "      <td>...</td>\n",
              "      <td>...</td>\n",
              "      <td>...</td>\n",
              "      <td>...</td>\n",
              "      <td>...</td>\n",
              "      <td>...</td>\n",
              "      <td>...</td>\n",
              "    </tr>\n",
              "    <tr>\n",
              "      <th>6014</th>\n",
              "      <td>Maruti Swift VDI</td>\n",
              "      <td>Delhi</td>\n",
              "      <td>2014</td>\n",
              "      <td>27365</td>\n",
              "      <td>Diesel</td>\n",
              "      <td>Manual</td>\n",
              "      <td>First</td>\n",
              "      <td>28.4 kmpl</td>\n",
              "      <td>1248 CC</td>\n",
              "      <td>74 bhp</td>\n",
              "      <td>5.00</td>\n",
              "      <td>4.75</td>\n",
              "    </tr>\n",
              "    <tr>\n",
              "      <th>6015</th>\n",
              "      <td>Hyundai Xcent 1.1 CRDi S</td>\n",
              "      <td>Jaipur</td>\n",
              "      <td>2015</td>\n",
              "      <td>100000</td>\n",
              "      <td>Diesel</td>\n",
              "      <td>Manual</td>\n",
              "      <td>First</td>\n",
              "      <td>24.4 kmpl</td>\n",
              "      <td>1120 CC</td>\n",
              "      <td>71 bhp</td>\n",
              "      <td>5.00</td>\n",
              "      <td>4.00</td>\n",
              "    </tr>\n",
              "    <tr>\n",
              "      <th>6016</th>\n",
              "      <td>Mahindra Xylo D4 BSIV</td>\n",
              "      <td>Jaipur</td>\n",
              "      <td>2012</td>\n",
              "      <td>55000</td>\n",
              "      <td>Diesel</td>\n",
              "      <td>Manual</td>\n",
              "      <td>Second</td>\n",
              "      <td>14.0 kmpl</td>\n",
              "      <td>2498 CC</td>\n",
              "      <td>112 bhp</td>\n",
              "      <td>8.00</td>\n",
              "      <td>2.90</td>\n",
              "    </tr>\n",
              "    <tr>\n",
              "      <th>6017</th>\n",
              "      <td>Maruti Wagon R VXI</td>\n",
              "      <td>Kolkata</td>\n",
              "      <td>2013</td>\n",
              "      <td>46000</td>\n",
              "      <td>Petrol</td>\n",
              "      <td>Manual</td>\n",
              "      <td>First</td>\n",
              "      <td>18.9 kmpl</td>\n",
              "      <td>998 CC</td>\n",
              "      <td>67.1 bhp</td>\n",
              "      <td>5.00</td>\n",
              "      <td>2.65</td>\n",
              "    </tr>\n",
              "    <tr>\n",
              "      <th>6018</th>\n",
              "      <td>Chevrolet Beat Diesel</td>\n",
              "      <td>Hyderabad</td>\n",
              "      <td>2011</td>\n",
              "      <td>47000</td>\n",
              "      <td>Diesel</td>\n",
              "      <td>Manual</td>\n",
              "      <td>First</td>\n",
              "      <td>25.44 kmpl</td>\n",
              "      <td>936 CC</td>\n",
              "      <td>57.6 bhp</td>\n",
              "      <td>5.00</td>\n",
              "      <td>2.50</td>\n",
              "    </tr>\n",
              "  </tbody>\n",
              "</table>\n",
              "<p>6019 rows × 12 columns</p>\n",
              "</div>"
            ],
            "text/plain": [
              "                                  Name    Location  ...  Seats  Price\n",
              "0               Maruti Wagon R LXI CNG      Mumbai  ...   5.00   1.75\n",
              "1     Hyundai Creta 1.6 CRDi SX Option        Pune  ...   5.00  12.50\n",
              "2                         Honda Jazz V     Chennai  ...   5.00   4.50\n",
              "3                    Maruti Ertiga VDI     Chennai  ...   7.00   6.00\n",
              "4      Audi A4 New 2.0 TDI Multitronic  Coimbatore  ...   5.00  17.74\n",
              "...                                ...         ...  ...    ...    ...\n",
              "6014                  Maruti Swift VDI       Delhi  ...   5.00   4.75\n",
              "6015          Hyundai Xcent 1.1 CRDi S      Jaipur  ...   5.00   4.00\n",
              "6016             Mahindra Xylo D4 BSIV      Jaipur  ...   8.00   2.90\n",
              "6017                Maruti Wagon R VXI     Kolkata  ...   5.00   2.65\n",
              "6018             Chevrolet Beat Diesel   Hyderabad  ...   5.00   2.50\n",
              "\n",
              "[6019 rows x 12 columns]"
            ]
          },
          "metadata": {
            "tags": []
          },
          "execution_count": 58
        }
      ]
    },
    {
      "cell_type": "markdown",
      "metadata": {
        "id": "XQLYT2m11wVG",
        "colab_type": "text"
      },
      "source": [
        "### <a name='3'></a> Ćwiczenie 163\n",
        "Znajdź liczbę brakujących wartości dla każdej zmiennej obiektu _df_."
      ]
    },
    {
      "cell_type": "code",
      "metadata": {
        "id": "2-vQBe17QI9y",
        "colab_type": "code",
        "colab": {
          "base_uri": "https://localhost:8080/",
          "height": 235
        },
        "outputId": "3417e739-be8f-43fb-d801-c19181e94009"
      },
      "source": [
        "df.isna().sum()"
      ],
      "execution_count": 59,
      "outputs": [
        {
          "output_type": "execute_result",
          "data": {
            "text/plain": [
              "Name                  0\n",
              "Location              0\n",
              "Year                  0\n",
              "Kilometers_Driven     0\n",
              "Fuel_Type             0\n",
              "Transmission          0\n",
              "Owner_Type            0\n",
              "Mileage               2\n",
              "Engine               36\n",
              "Power                36\n",
              "Seats                42\n",
              "Price                 0\n",
              "dtype: int64"
            ]
          },
          "metadata": {
            "tags": []
          },
          "execution_count": 59
        }
      ]
    },
    {
      "cell_type": "markdown",
      "metadata": {
        "id": "Pq8v0o1FRD_h",
        "colab_type": "text"
      },
      "source": [
        "Usuń wszystkie wiersze z obiektu _df_ zawierające braki danych. Użyj parametru _inplace=True_."
      ]
    },
    {
      "cell_type": "code",
      "metadata": {
        "id": "ddBCjD8sRIY7",
        "colab_type": "code",
        "colab": {}
      },
      "source": [
        "df = df.dropna()"
      ],
      "execution_count": 60,
      "outputs": []
    },
    {
      "cell_type": "markdown",
      "metadata": {
        "id": "0HUdgO1TRdyA",
        "colab_type": "text"
      },
      "source": [
        "Wyświetl raz jeszcze informacje na temat obiektu _df_. Zwróć uwagę na liczbę wierszy i typ danych."
      ]
    },
    {
      "cell_type": "code",
      "metadata": {
        "id": "ueVO6BDGRaVv",
        "colab_type": "code",
        "colab": {
          "base_uri": "https://localhost:8080/",
          "height": 336
        },
        "outputId": "8aaa5ffc-54df-44ea-f2f6-5eaeb0540524"
      },
      "source": [
        "df.info()\n"
      ],
      "execution_count": 61,
      "outputs": [
        {
          "output_type": "stream",
          "text": [
            "<class 'pandas.core.frame.DataFrame'>\n",
            "Int64Index: 5975 entries, 0 to 6018\n",
            "Data columns (total 12 columns):\n",
            " #   Column             Non-Null Count  Dtype  \n",
            "---  ------             --------------  -----  \n",
            " 0   Name               5975 non-null   object \n",
            " 1   Location           5975 non-null   object \n",
            " 2   Year               5975 non-null   int64  \n",
            " 3   Kilometers_Driven  5975 non-null   int64  \n",
            " 4   Fuel_Type          5975 non-null   object \n",
            " 5   Transmission       5975 non-null   object \n",
            " 6   Owner_Type         5975 non-null   object \n",
            " 7   Mileage            5975 non-null   object \n",
            " 8   Engine             5975 non-null   object \n",
            " 9   Power              5975 non-null   object \n",
            " 10  Seats              5975 non-null   float64\n",
            " 11  Price              5975 non-null   float64\n",
            "dtypes: float64(2), int64(2), object(8)\n",
            "memory usage: 606.8+ KB\n"
          ],
          "name": "stdout"
        }
      ]
    },
    {
      "cell_type": "markdown",
      "metadata": {
        "id": "4xTKSUzg10MK",
        "colab_type": "text"
      },
      "source": [
        "### <a name='4'></a> Ćwiczenie 164\n",
        "Zamień wszystkie litery w nazwach kolumn na małe, np.:\n",
        "* Name -> name\n",
        "* Fuel_Type -> fuel_type  \n",
        "\n",
        "Wyświetl metodą _head()_ pięć pierwszych wierszy."
      ]
    },
    {
      "cell_type": "code",
      "metadata": {
        "id": "XM7pZcgMR-Ia",
        "colab_type": "code",
        "colab": {}
      },
      "source": [
        "df.columns = [word.lower() for word in df.columns]"
      ],
      "execution_count": 62,
      "outputs": []
    },
    {
      "cell_type": "markdown",
      "metadata": {
        "id": "o3HKIKlP15Ro",
        "colab_type": "text"
      },
      "source": [
        "### <a name='5'></a> Ćwiczenie 165\n",
        "Znajdź rozkład wartości zmiennej _owner_type_."
      ]
    },
    {
      "cell_type": "code",
      "metadata": {
        "id": "GZtg1f8eSy_B",
        "colab_type": "code",
        "colab": {
          "base_uri": "https://localhost:8080/",
          "height": 101
        },
        "outputId": "a7b8288d-a992-457d-8c32-72c8b38b8362"
      },
      "source": [
        "df['owner_type'].value_counts()"
      ],
      "execution_count": 64,
      "outputs": [
        {
          "output_type": "execute_result",
          "data": {
            "text/plain": [
              "First             4903\n",
              "Second             953\n",
              "Third              111\n",
              "Fourth & Above       8\n",
              "Name: owner_type, dtype: int64"
            ]
          },
          "metadata": {
            "tags": []
          },
          "execution_count": 64
        }
      ]
    },
    {
      "cell_type": "markdown",
      "metadata": {
        "id": "j7Hw9ObPTxu0",
        "colab_type": "text"
      },
      "source": [
        "Znajdź rozkład wartości zmiennej _engine_."
      ]
    },
    {
      "cell_type": "code",
      "metadata": {
        "id": "0tDz7xrFTOoZ",
        "colab_type": "code",
        "colab": {
          "base_uri": "https://localhost:8080/",
          "height": 218
        },
        "outputId": "5df7fa58-5176-4ffb-ca89-9842380e44a6"
      },
      "source": [
        "df['engine'].value_counts()"
      ],
      "execution_count": 65,
      "outputs": [
        {
          "output_type": "execute_result",
          "data": {
            "text/plain": [
              "1197 CC    606\n",
              "1248 CC    512\n",
              "1498 CC    303\n",
              "998 CC     259\n",
              "2179 CC    240\n",
              "          ... \n",
              "1948 CC      1\n",
              "2706 CC      1\n",
              "1797 CC      1\n",
              "2999 CC      1\n",
              "2149 CC      1\n",
              "Name: engine, Length: 145, dtype: int64"
            ]
          },
          "metadata": {
            "tags": []
          },
          "execution_count": 65
        }
      ]
    },
    {
      "cell_type": "markdown",
      "metadata": {
        "id": "CKe3Ep2JT4kC",
        "colab_type": "text"
      },
      "source": [
        "Zauważ, że zmienna _engine_ jest typu _object_. Usuń 3 ostatnie znaki z każdego elementu i resztę skonwertuj na typ int. Wyświetl metodą _head()_ pięć pierwszych wierszy."
      ]
    },
    {
      "cell_type": "code",
      "metadata": {
        "id": "i4ZOG67TTgxU",
        "colab_type": "code",
        "colab": {
          "base_uri": "https://localhost:8080/",
          "height": 237
        },
        "outputId": "32032fac-67d5-42eb-bac7-78c87196f0d9"
      },
      "source": [
        "df['engine'] = [int(el[:-3]) for el in df['engine']]\n",
        "df.head(3)\n"
      ],
      "execution_count": 66,
      "outputs": [
        {
          "output_type": "stream",
          "text": [
            "/usr/local/lib/python3.6/dist-packages/ipykernel_launcher.py:1: SettingWithCopyWarning: \n",
            "A value is trying to be set on a copy of a slice from a DataFrame.\n",
            "Try using .loc[row_indexer,col_indexer] = value instead\n",
            "\n",
            "See the caveats in the documentation: https://pandas.pydata.org/pandas-docs/stable/user_guide/indexing.html#returning-a-view-versus-a-copy\n",
            "  \"\"\"Entry point for launching an IPython kernel.\n"
          ],
          "name": "stderr"
        },
        {
          "output_type": "execute_result",
          "data": {
            "text/html": [
              "<div>\n",
              "<style scoped>\n",
              "    .dataframe tbody tr th:only-of-type {\n",
              "        vertical-align: middle;\n",
              "    }\n",
              "\n",
              "    .dataframe tbody tr th {\n",
              "        vertical-align: top;\n",
              "    }\n",
              "\n",
              "    .dataframe thead th {\n",
              "        text-align: right;\n",
              "    }\n",
              "</style>\n",
              "<table border=\"1\" class=\"dataframe\">\n",
              "  <thead>\n",
              "    <tr style=\"text-align: right;\">\n",
              "      <th></th>\n",
              "      <th>name</th>\n",
              "      <th>location</th>\n",
              "      <th>year</th>\n",
              "      <th>kilometers_driven</th>\n",
              "      <th>fuel_type</th>\n",
              "      <th>transmission</th>\n",
              "      <th>owner_type</th>\n",
              "      <th>mileage</th>\n",
              "      <th>engine</th>\n",
              "      <th>power</th>\n",
              "      <th>seats</th>\n",
              "      <th>price</th>\n",
              "    </tr>\n",
              "  </thead>\n",
              "  <tbody>\n",
              "    <tr>\n",
              "      <th>0</th>\n",
              "      <td>Maruti Wagon R LXI CNG</td>\n",
              "      <td>Mumbai</td>\n",
              "      <td>2010</td>\n",
              "      <td>72000</td>\n",
              "      <td>CNG</td>\n",
              "      <td>Manual</td>\n",
              "      <td>First</td>\n",
              "      <td>26.6 km/kg</td>\n",
              "      <td>998</td>\n",
              "      <td>58.16 bhp</td>\n",
              "      <td>5.00</td>\n",
              "      <td>1.75</td>\n",
              "    </tr>\n",
              "    <tr>\n",
              "      <th>1</th>\n",
              "      <td>Hyundai Creta 1.6 CRDi SX Option</td>\n",
              "      <td>Pune</td>\n",
              "      <td>2015</td>\n",
              "      <td>41000</td>\n",
              "      <td>Diesel</td>\n",
              "      <td>Manual</td>\n",
              "      <td>First</td>\n",
              "      <td>19.67 kmpl</td>\n",
              "      <td>1582</td>\n",
              "      <td>126.2 bhp</td>\n",
              "      <td>5.00</td>\n",
              "      <td>12.50</td>\n",
              "    </tr>\n",
              "    <tr>\n",
              "      <th>2</th>\n",
              "      <td>Honda Jazz V</td>\n",
              "      <td>Chennai</td>\n",
              "      <td>2011</td>\n",
              "      <td>46000</td>\n",
              "      <td>Petrol</td>\n",
              "      <td>Manual</td>\n",
              "      <td>First</td>\n",
              "      <td>18.2 kmpl</td>\n",
              "      <td>1199</td>\n",
              "      <td>88.7 bhp</td>\n",
              "      <td>5.00</td>\n",
              "      <td>4.50</td>\n",
              "    </tr>\n",
              "  </tbody>\n",
              "</table>\n",
              "</div>"
            ],
            "text/plain": [
              "                               name location  year  ...      power seats price\n",
              "0            Maruti Wagon R LXI CNG   Mumbai  2010  ...  58.16 bhp  5.00  1.75\n",
              "1  Hyundai Creta 1.6 CRDi SX Option     Pune  2015  ...  126.2 bhp  5.00 12.50\n",
              "2                      Honda Jazz V  Chennai  2011  ...   88.7 bhp  5.00  4.50\n",
              "\n",
              "[3 rows x 12 columns]"
            ]
          },
          "metadata": {
            "tags": []
          },
          "execution_count": 66
        }
      ]
    },
    {
      "cell_type": "code",
      "metadata": {
        "id": "IyBKePxX5Krh",
        "colab_type": "code",
        "colab": {
          "base_uri": "https://localhost:8080/",
          "height": 336
        },
        "outputId": "3a718894-87a6-4034-f0db-96a924c8593a"
      },
      "source": [
        "df.info()"
      ],
      "execution_count": 67,
      "outputs": [
        {
          "output_type": "stream",
          "text": [
            "<class 'pandas.core.frame.DataFrame'>\n",
            "Int64Index: 5975 entries, 0 to 6018\n",
            "Data columns (total 12 columns):\n",
            " #   Column             Non-Null Count  Dtype  \n",
            "---  ------             --------------  -----  \n",
            " 0   name               5975 non-null   object \n",
            " 1   location           5975 non-null   object \n",
            " 2   year               5975 non-null   int64  \n",
            " 3   kilometers_driven  5975 non-null   int64  \n",
            " 4   fuel_type          5975 non-null   object \n",
            " 5   transmission       5975 non-null   object \n",
            " 6   owner_type         5975 non-null   object \n",
            " 7   mileage            5975 non-null   object \n",
            " 8   engine             5975 non-null   int64  \n",
            " 9   power              5975 non-null   object \n",
            " 10  seats              5975 non-null   float64\n",
            " 11  price              5975 non-null   float64\n",
            "dtypes: float64(2), int64(3), object(7)\n",
            "memory usage: 606.8+ KB\n"
          ],
          "name": "stdout"
        }
      ]
    },
    {
      "cell_type": "markdown",
      "metadata": {
        "id": "PunXd_Ey16so",
        "colab_type": "text"
      },
      "source": [
        "### <a name='6'></a> Ćwiczenie 166\n",
        "Spójrz na rozkład zmiennej _power_. Zauważ, że ta zmienna ma także braki danych w postaci wartości _'null bhp'_. Zamień te wartości dla zmiennej _power_ na wartość _np.nan_. Wykorzystaj przy tym funkcję _np.where()_."
      ]
    },
    {
      "cell_type": "code",
      "metadata": {
        "id": "APRQlkgpUxzu",
        "colab_type": "code",
        "colab": {
          "base_uri": "https://localhost:8080/",
          "height": 118
        },
        "outputId": "ae3e9e98-33b3-4639-997d-1b4f0abb0d90"
      },
      "source": [
        "df['power'] = np.where(df['power'] == 'null bhp', np.nan, df['power'])"
      ],
      "execution_count": 68,
      "outputs": [
        {
          "output_type": "stream",
          "text": [
            "/usr/local/lib/python3.6/dist-packages/ipykernel_launcher.py:1: SettingWithCopyWarning: \n",
            "A value is trying to be set on a copy of a slice from a DataFrame.\n",
            "Try using .loc[row_indexer,col_indexer] = value instead\n",
            "\n",
            "See the caveats in the documentation: https://pandas.pydata.org/pandas-docs/stable/user_guide/indexing.html#returning-a-view-versus-a-copy\n",
            "  \"\"\"Entry point for launching an IPython kernel.\n"
          ],
          "name": "stderr"
        }
      ]
    },
    {
      "cell_type": "markdown",
      "metadata": {
        "id": "lE-y_XpqXWGl",
        "colab_type": "text"
      },
      "source": [
        "Usuń jeszcze raz wszystkie rekordy z brakami danych."
      ]
    },
    {
      "cell_type": "code",
      "metadata": {
        "id": "m44bqFCc5tvg",
        "colab_type": "code",
        "colab": {
          "base_uri": "https://localhost:8080/",
          "height": 402
        },
        "outputId": "ed1136d4-ff9c-4fee-d4af-ca0edaf5509c"
      },
      "source": [
        "df"
      ],
      "execution_count": 69,
      "outputs": [
        {
          "output_type": "execute_result",
          "data": {
            "text/html": [
              "<div>\n",
              "<style scoped>\n",
              "    .dataframe tbody tr th:only-of-type {\n",
              "        vertical-align: middle;\n",
              "    }\n",
              "\n",
              "    .dataframe tbody tr th {\n",
              "        vertical-align: top;\n",
              "    }\n",
              "\n",
              "    .dataframe thead th {\n",
              "        text-align: right;\n",
              "    }\n",
              "</style>\n",
              "<table border=\"1\" class=\"dataframe\">\n",
              "  <thead>\n",
              "    <tr style=\"text-align: right;\">\n",
              "      <th></th>\n",
              "      <th>name</th>\n",
              "      <th>location</th>\n",
              "      <th>year</th>\n",
              "      <th>kilometers_driven</th>\n",
              "      <th>fuel_type</th>\n",
              "      <th>transmission</th>\n",
              "      <th>owner_type</th>\n",
              "      <th>mileage</th>\n",
              "      <th>engine</th>\n",
              "      <th>power</th>\n",
              "      <th>seats</th>\n",
              "      <th>price</th>\n",
              "    </tr>\n",
              "  </thead>\n",
              "  <tbody>\n",
              "    <tr>\n",
              "      <th>0</th>\n",
              "      <td>Maruti Wagon R LXI CNG</td>\n",
              "      <td>Mumbai</td>\n",
              "      <td>2010</td>\n",
              "      <td>72000</td>\n",
              "      <td>CNG</td>\n",
              "      <td>Manual</td>\n",
              "      <td>First</td>\n",
              "      <td>26.6 km/kg</td>\n",
              "      <td>998</td>\n",
              "      <td>58.16 bhp</td>\n",
              "      <td>5.00</td>\n",
              "      <td>1.75</td>\n",
              "    </tr>\n",
              "    <tr>\n",
              "      <th>1</th>\n",
              "      <td>Hyundai Creta 1.6 CRDi SX Option</td>\n",
              "      <td>Pune</td>\n",
              "      <td>2015</td>\n",
              "      <td>41000</td>\n",
              "      <td>Diesel</td>\n",
              "      <td>Manual</td>\n",
              "      <td>First</td>\n",
              "      <td>19.67 kmpl</td>\n",
              "      <td>1582</td>\n",
              "      <td>126.2 bhp</td>\n",
              "      <td>5.00</td>\n",
              "      <td>12.50</td>\n",
              "    </tr>\n",
              "    <tr>\n",
              "      <th>2</th>\n",
              "      <td>Honda Jazz V</td>\n",
              "      <td>Chennai</td>\n",
              "      <td>2011</td>\n",
              "      <td>46000</td>\n",
              "      <td>Petrol</td>\n",
              "      <td>Manual</td>\n",
              "      <td>First</td>\n",
              "      <td>18.2 kmpl</td>\n",
              "      <td>1199</td>\n",
              "      <td>88.7 bhp</td>\n",
              "      <td>5.00</td>\n",
              "      <td>4.50</td>\n",
              "    </tr>\n",
              "    <tr>\n",
              "      <th>3</th>\n",
              "      <td>Maruti Ertiga VDI</td>\n",
              "      <td>Chennai</td>\n",
              "      <td>2012</td>\n",
              "      <td>87000</td>\n",
              "      <td>Diesel</td>\n",
              "      <td>Manual</td>\n",
              "      <td>First</td>\n",
              "      <td>20.77 kmpl</td>\n",
              "      <td>1248</td>\n",
              "      <td>88.76 bhp</td>\n",
              "      <td>7.00</td>\n",
              "      <td>6.00</td>\n",
              "    </tr>\n",
              "    <tr>\n",
              "      <th>4</th>\n",
              "      <td>Audi A4 New 2.0 TDI Multitronic</td>\n",
              "      <td>Coimbatore</td>\n",
              "      <td>2013</td>\n",
              "      <td>40670</td>\n",
              "      <td>Diesel</td>\n",
              "      <td>Automatic</td>\n",
              "      <td>Second</td>\n",
              "      <td>15.2 kmpl</td>\n",
              "      <td>1968</td>\n",
              "      <td>140.8 bhp</td>\n",
              "      <td>5.00</td>\n",
              "      <td>17.74</td>\n",
              "    </tr>\n",
              "    <tr>\n",
              "      <th>...</th>\n",
              "      <td>...</td>\n",
              "      <td>...</td>\n",
              "      <td>...</td>\n",
              "      <td>...</td>\n",
              "      <td>...</td>\n",
              "      <td>...</td>\n",
              "      <td>...</td>\n",
              "      <td>...</td>\n",
              "      <td>...</td>\n",
              "      <td>...</td>\n",
              "      <td>...</td>\n",
              "      <td>...</td>\n",
              "    </tr>\n",
              "    <tr>\n",
              "      <th>6014</th>\n",
              "      <td>Maruti Swift VDI</td>\n",
              "      <td>Delhi</td>\n",
              "      <td>2014</td>\n",
              "      <td>27365</td>\n",
              "      <td>Diesel</td>\n",
              "      <td>Manual</td>\n",
              "      <td>First</td>\n",
              "      <td>28.4 kmpl</td>\n",
              "      <td>1248</td>\n",
              "      <td>74 bhp</td>\n",
              "      <td>5.00</td>\n",
              "      <td>4.75</td>\n",
              "    </tr>\n",
              "    <tr>\n",
              "      <th>6015</th>\n",
              "      <td>Hyundai Xcent 1.1 CRDi S</td>\n",
              "      <td>Jaipur</td>\n",
              "      <td>2015</td>\n",
              "      <td>100000</td>\n",
              "      <td>Diesel</td>\n",
              "      <td>Manual</td>\n",
              "      <td>First</td>\n",
              "      <td>24.4 kmpl</td>\n",
              "      <td>1120</td>\n",
              "      <td>71 bhp</td>\n",
              "      <td>5.00</td>\n",
              "      <td>4.00</td>\n",
              "    </tr>\n",
              "    <tr>\n",
              "      <th>6016</th>\n",
              "      <td>Mahindra Xylo D4 BSIV</td>\n",
              "      <td>Jaipur</td>\n",
              "      <td>2012</td>\n",
              "      <td>55000</td>\n",
              "      <td>Diesel</td>\n",
              "      <td>Manual</td>\n",
              "      <td>Second</td>\n",
              "      <td>14.0 kmpl</td>\n",
              "      <td>2498</td>\n",
              "      <td>112 bhp</td>\n",
              "      <td>8.00</td>\n",
              "      <td>2.90</td>\n",
              "    </tr>\n",
              "    <tr>\n",
              "      <th>6017</th>\n",
              "      <td>Maruti Wagon R VXI</td>\n",
              "      <td>Kolkata</td>\n",
              "      <td>2013</td>\n",
              "      <td>46000</td>\n",
              "      <td>Petrol</td>\n",
              "      <td>Manual</td>\n",
              "      <td>First</td>\n",
              "      <td>18.9 kmpl</td>\n",
              "      <td>998</td>\n",
              "      <td>67.1 bhp</td>\n",
              "      <td>5.00</td>\n",
              "      <td>2.65</td>\n",
              "    </tr>\n",
              "    <tr>\n",
              "      <th>6018</th>\n",
              "      <td>Chevrolet Beat Diesel</td>\n",
              "      <td>Hyderabad</td>\n",
              "      <td>2011</td>\n",
              "      <td>47000</td>\n",
              "      <td>Diesel</td>\n",
              "      <td>Manual</td>\n",
              "      <td>First</td>\n",
              "      <td>25.44 kmpl</td>\n",
              "      <td>936</td>\n",
              "      <td>57.6 bhp</td>\n",
              "      <td>5.00</td>\n",
              "      <td>2.50</td>\n",
              "    </tr>\n",
              "  </tbody>\n",
              "</table>\n",
              "<p>5975 rows × 12 columns</p>\n",
              "</div>"
            ],
            "text/plain": [
              "                                  name    location  ...  seats  price\n",
              "0               Maruti Wagon R LXI CNG      Mumbai  ...   5.00   1.75\n",
              "1     Hyundai Creta 1.6 CRDi SX Option        Pune  ...   5.00  12.50\n",
              "2                         Honda Jazz V     Chennai  ...   5.00   4.50\n",
              "3                    Maruti Ertiga VDI     Chennai  ...   7.00   6.00\n",
              "4      Audi A4 New 2.0 TDI Multitronic  Coimbatore  ...   5.00  17.74\n",
              "...                                ...         ...  ...    ...    ...\n",
              "6014                  Maruti Swift VDI       Delhi  ...   5.00   4.75\n",
              "6015          Hyundai Xcent 1.1 CRDi S      Jaipur  ...   5.00   4.00\n",
              "6016             Mahindra Xylo D4 BSIV      Jaipur  ...   8.00   2.90\n",
              "6017                Maruti Wagon R VXI     Kolkata  ...   5.00   2.65\n",
              "6018             Chevrolet Beat Diesel   Hyderabad  ...   5.00   2.50\n",
              "\n",
              "[5975 rows x 12 columns]"
            ]
          },
          "metadata": {
            "tags": []
          },
          "execution_count": 69
        }
      ]
    },
    {
      "cell_type": "code",
      "metadata": {
        "id": "xhJAVmDWUWAQ",
        "colab_type": "code",
        "colab": {
          "base_uri": "https://localhost:8080/",
          "height": 101
        },
        "outputId": "eae814a7-ac8f-4fab-940d-e911731d19d6"
      },
      "source": [
        "df.dropna(inplace = True)"
      ],
      "execution_count": 70,
      "outputs": [
        {
          "output_type": "stream",
          "text": [
            "/usr/local/lib/python3.6/dist-packages/ipykernel_launcher.py:1: SettingWithCopyWarning: \n",
            "A value is trying to be set on a copy of a slice from a DataFrame\n",
            "\n",
            "See the caveats in the documentation: https://pandas.pydata.org/pandas-docs/stable/user_guide/indexing.html#returning-a-view-versus-a-copy\n",
            "  \"\"\"Entry point for launching an IPython kernel.\n"
          ],
          "name": "stderr"
        }
      ]
    },
    {
      "cell_type": "markdown",
      "metadata": {
        "id": "hOhqDRz618Tx",
        "colab_type": "text"
      },
      "source": [
        "### <a name='7'></a> Ćwiczenie 167\n",
        "Zauważ, że zmienna _power_ jest typu _object_. Usuń 4 ostatnie znaki z każdego elementu i resztę skonwertuj na typ float. \n",
        "\n",
        "Wyświetl metodą _head()_ pięć pierwszych wierszy.\n"
      ]
    },
    {
      "cell_type": "code",
      "metadata": {
        "id": "eHQag5ocXeEK",
        "colab_type": "code",
        "colab": {
          "base_uri": "https://localhost:8080/",
          "height": 296
        },
        "outputId": "05622810-4427-4892-a614-14fb024b8430"
      },
      "source": [
        "df['power'] = df['power'].map(lambda x: float(x[:-4]))\n",
        "df.head(5)"
      ],
      "execution_count": 71,
      "outputs": [
        {
          "output_type": "stream",
          "text": [
            "/usr/local/lib/python3.6/dist-packages/ipykernel_launcher.py:1: SettingWithCopyWarning: \n",
            "A value is trying to be set on a copy of a slice from a DataFrame.\n",
            "Try using .loc[row_indexer,col_indexer] = value instead\n",
            "\n",
            "See the caveats in the documentation: https://pandas.pydata.org/pandas-docs/stable/user_guide/indexing.html#returning-a-view-versus-a-copy\n",
            "  \"\"\"Entry point for launching an IPython kernel.\n"
          ],
          "name": "stderr"
        },
        {
          "output_type": "execute_result",
          "data": {
            "text/html": [
              "<div>\n",
              "<style scoped>\n",
              "    .dataframe tbody tr th:only-of-type {\n",
              "        vertical-align: middle;\n",
              "    }\n",
              "\n",
              "    .dataframe tbody tr th {\n",
              "        vertical-align: top;\n",
              "    }\n",
              "\n",
              "    .dataframe thead th {\n",
              "        text-align: right;\n",
              "    }\n",
              "</style>\n",
              "<table border=\"1\" class=\"dataframe\">\n",
              "  <thead>\n",
              "    <tr style=\"text-align: right;\">\n",
              "      <th></th>\n",
              "      <th>name</th>\n",
              "      <th>location</th>\n",
              "      <th>year</th>\n",
              "      <th>kilometers_driven</th>\n",
              "      <th>fuel_type</th>\n",
              "      <th>transmission</th>\n",
              "      <th>owner_type</th>\n",
              "      <th>mileage</th>\n",
              "      <th>engine</th>\n",
              "      <th>power</th>\n",
              "      <th>seats</th>\n",
              "      <th>price</th>\n",
              "    </tr>\n",
              "  </thead>\n",
              "  <tbody>\n",
              "    <tr>\n",
              "      <th>0</th>\n",
              "      <td>Maruti Wagon R LXI CNG</td>\n",
              "      <td>Mumbai</td>\n",
              "      <td>2010</td>\n",
              "      <td>72000</td>\n",
              "      <td>CNG</td>\n",
              "      <td>Manual</td>\n",
              "      <td>First</td>\n",
              "      <td>26.6 km/kg</td>\n",
              "      <td>998</td>\n",
              "      <td>58.16</td>\n",
              "      <td>5.00</td>\n",
              "      <td>1.75</td>\n",
              "    </tr>\n",
              "    <tr>\n",
              "      <th>1</th>\n",
              "      <td>Hyundai Creta 1.6 CRDi SX Option</td>\n",
              "      <td>Pune</td>\n",
              "      <td>2015</td>\n",
              "      <td>41000</td>\n",
              "      <td>Diesel</td>\n",
              "      <td>Manual</td>\n",
              "      <td>First</td>\n",
              "      <td>19.67 kmpl</td>\n",
              "      <td>1582</td>\n",
              "      <td>126.20</td>\n",
              "      <td>5.00</td>\n",
              "      <td>12.50</td>\n",
              "    </tr>\n",
              "    <tr>\n",
              "      <th>2</th>\n",
              "      <td>Honda Jazz V</td>\n",
              "      <td>Chennai</td>\n",
              "      <td>2011</td>\n",
              "      <td>46000</td>\n",
              "      <td>Petrol</td>\n",
              "      <td>Manual</td>\n",
              "      <td>First</td>\n",
              "      <td>18.2 kmpl</td>\n",
              "      <td>1199</td>\n",
              "      <td>88.70</td>\n",
              "      <td>5.00</td>\n",
              "      <td>4.50</td>\n",
              "    </tr>\n",
              "    <tr>\n",
              "      <th>3</th>\n",
              "      <td>Maruti Ertiga VDI</td>\n",
              "      <td>Chennai</td>\n",
              "      <td>2012</td>\n",
              "      <td>87000</td>\n",
              "      <td>Diesel</td>\n",
              "      <td>Manual</td>\n",
              "      <td>First</td>\n",
              "      <td>20.77 kmpl</td>\n",
              "      <td>1248</td>\n",
              "      <td>88.76</td>\n",
              "      <td>7.00</td>\n",
              "      <td>6.00</td>\n",
              "    </tr>\n",
              "    <tr>\n",
              "      <th>4</th>\n",
              "      <td>Audi A4 New 2.0 TDI Multitronic</td>\n",
              "      <td>Coimbatore</td>\n",
              "      <td>2013</td>\n",
              "      <td>40670</td>\n",
              "      <td>Diesel</td>\n",
              "      <td>Automatic</td>\n",
              "      <td>Second</td>\n",
              "      <td>15.2 kmpl</td>\n",
              "      <td>1968</td>\n",
              "      <td>140.80</td>\n",
              "      <td>5.00</td>\n",
              "      <td>17.74</td>\n",
              "    </tr>\n",
              "  </tbody>\n",
              "</table>\n",
              "</div>"
            ],
            "text/plain": [
              "                               name    location  year  ...  power seats price\n",
              "0            Maruti Wagon R LXI CNG      Mumbai  2010  ...  58.16  5.00  1.75\n",
              "1  Hyundai Creta 1.6 CRDi SX Option        Pune  2015  ... 126.20  5.00 12.50\n",
              "2                      Honda Jazz V     Chennai  2011  ...  88.70  5.00  4.50\n",
              "3                 Maruti Ertiga VDI     Chennai  2012  ...  88.76  7.00  6.00\n",
              "4   Audi A4 New 2.0 TDI Multitronic  Coimbatore  2013  ... 140.80  5.00 17.74\n",
              "\n",
              "[5 rows x 12 columns]"
            ]
          },
          "metadata": {
            "tags": []
          },
          "execution_count": 71
        }
      ]
    },
    {
      "cell_type": "markdown",
      "metadata": {
        "id": "TXUd_4631-gw",
        "colab_type": "text"
      },
      "source": [
        "### <a name='8'></a> Ćwiczenie 168\n",
        "Pogrupuj dane na poziomie roku (_year_) i policz liczbę rekordów dla każdego roku w obiekcie _df_."
      ]
    },
    {
      "cell_type": "code",
      "metadata": {
        "id": "uqic4R3ubeIi",
        "colab_type": "code",
        "colab": {
          "base_uri": "https://localhost:8080/",
          "height": 420
        },
        "outputId": "29ed5074-1960-4a3a-8625-4e4680cfceaa"
      },
      "source": [
        "df.groupby('year').size() # size() zliczy nam liczbe rekordów"
      ],
      "execution_count": 75,
      "outputs": [
        {
          "output_type": "execute_result",
          "data": {
            "text/plain": [
              "year\n",
              "1998      3\n",
              "1999      2\n",
              "2000      4\n",
              "2001      4\n",
              "2002     11\n",
              "2003     14\n",
              "2004     25\n",
              "2005     42\n",
              "2006     66\n",
              "2007    105\n",
              "2008    162\n",
              "2009    191\n",
              "2010    333\n",
              "2011    452\n",
              "2012    562\n",
              "2013    639\n",
              "2014    794\n",
              "2015    740\n",
              "2016    737\n",
              "2017    586\n",
              "2018    298\n",
              "2019    102\n",
              "dtype: int64"
            ]
          },
          "metadata": {
            "tags": []
          },
          "execution_count": 75
        }
      ]
    },
    {
      "cell_type": "markdown",
      "metadata": {
        "id": "tgI6xEn-2AQo",
        "colab_type": "text"
      },
      "source": [
        "### <a name='9'></a> Ćwiczenie 169\n",
        "Sprawdź rozkład zmiennej _transmission_."
      ]
    },
    {
      "cell_type": "code",
      "metadata": {
        "id": "brEIWJljb897",
        "colab_type": "code",
        "colab": {
          "base_uri": "https://localhost:8080/",
          "height": 67
        },
        "outputId": "a07b961b-7890-4a0f-ba0a-fcda7251d923"
      },
      "source": [
        "df['transmission'].value_counts()"
      ],
      "execution_count": 76,
      "outputs": [
        {
          "output_type": "execute_result",
          "data": {
            "text/plain": [
              "Manual       4170\n",
              "Automatic    1702\n",
              "Name: transmission, dtype: int64"
            ]
          },
          "metadata": {
            "tags": []
          },
          "execution_count": 76
        }
      ]
    },
    {
      "cell_type": "markdown",
      "metadata": {
        "id": "PmhroeCscEVn",
        "colab_type": "text"
      },
      "source": [
        "Dokonaj następującego mapowania zmiennej _transmission_:\n",
        "* Manual -> 0\n",
        "* Automatic -> 1\n",
        "\n",
        "Wyświetl metodą _head()_ pięć pierwszych wierszy."
      ]
    },
    {
      "cell_type": "code",
      "metadata": {
        "id": "7czYbEZBb7nf",
        "colab_type": "code",
        "colab": {
          "base_uri": "https://localhost:8080/",
          "height": 118
        },
        "outputId": "14a917db-d2ad-4c05-937c-6af4f88f1245"
      },
      "source": [
        "df['transmission'] = df['transmission'].map({'Manual' : 0, 'Automatic' : 1})"
      ],
      "execution_count": 79,
      "outputs": [
        {
          "output_type": "stream",
          "text": [
            "/usr/local/lib/python3.6/dist-packages/ipykernel_launcher.py:1: SettingWithCopyWarning: \n",
            "A value is trying to be set on a copy of a slice from a DataFrame.\n",
            "Try using .loc[row_indexer,col_indexer] = value instead\n",
            "\n",
            "See the caveats in the documentation: https://pandas.pydata.org/pandas-docs/stable/user_guide/indexing.html#returning-a-view-versus-a-copy\n",
            "  \"\"\"Entry point for launching an IPython kernel.\n"
          ],
          "name": "stderr"
        }
      ]
    },
    {
      "cell_type": "code",
      "metadata": {
        "id": "OcMTSyZZ7gBB",
        "colab_type": "code",
        "colab": {
          "base_uri": "https://localhost:8080/",
          "height": 402
        },
        "outputId": "2a3b4e0e-9ecf-4c24-ddd1-3c5a649d2649"
      },
      "source": [
        "df"
      ],
      "execution_count": 80,
      "outputs": [
        {
          "output_type": "execute_result",
          "data": {
            "text/html": [
              "<div>\n",
              "<style scoped>\n",
              "    .dataframe tbody tr th:only-of-type {\n",
              "        vertical-align: middle;\n",
              "    }\n",
              "\n",
              "    .dataframe tbody tr th {\n",
              "        vertical-align: top;\n",
              "    }\n",
              "\n",
              "    .dataframe thead th {\n",
              "        text-align: right;\n",
              "    }\n",
              "</style>\n",
              "<table border=\"1\" class=\"dataframe\">\n",
              "  <thead>\n",
              "    <tr style=\"text-align: right;\">\n",
              "      <th></th>\n",
              "      <th>name</th>\n",
              "      <th>location</th>\n",
              "      <th>year</th>\n",
              "      <th>kilometers_driven</th>\n",
              "      <th>fuel_type</th>\n",
              "      <th>transmission</th>\n",
              "      <th>owner_type</th>\n",
              "      <th>mileage</th>\n",
              "      <th>engine</th>\n",
              "      <th>power</th>\n",
              "      <th>seats</th>\n",
              "      <th>price</th>\n",
              "    </tr>\n",
              "  </thead>\n",
              "  <tbody>\n",
              "    <tr>\n",
              "      <th>0</th>\n",
              "      <td>Maruti Wagon R LXI CNG</td>\n",
              "      <td>Mumbai</td>\n",
              "      <td>2010</td>\n",
              "      <td>72000</td>\n",
              "      <td>CNG</td>\n",
              "      <td>0</td>\n",
              "      <td>First</td>\n",
              "      <td>26.6 km/kg</td>\n",
              "      <td>998</td>\n",
              "      <td>58.16</td>\n",
              "      <td>5.00</td>\n",
              "      <td>1.75</td>\n",
              "    </tr>\n",
              "    <tr>\n",
              "      <th>1</th>\n",
              "      <td>Hyundai Creta 1.6 CRDi SX Option</td>\n",
              "      <td>Pune</td>\n",
              "      <td>2015</td>\n",
              "      <td>41000</td>\n",
              "      <td>Diesel</td>\n",
              "      <td>0</td>\n",
              "      <td>First</td>\n",
              "      <td>19.67 kmpl</td>\n",
              "      <td>1582</td>\n",
              "      <td>126.20</td>\n",
              "      <td>5.00</td>\n",
              "      <td>12.50</td>\n",
              "    </tr>\n",
              "    <tr>\n",
              "      <th>2</th>\n",
              "      <td>Honda Jazz V</td>\n",
              "      <td>Chennai</td>\n",
              "      <td>2011</td>\n",
              "      <td>46000</td>\n",
              "      <td>Petrol</td>\n",
              "      <td>0</td>\n",
              "      <td>First</td>\n",
              "      <td>18.2 kmpl</td>\n",
              "      <td>1199</td>\n",
              "      <td>88.70</td>\n",
              "      <td>5.00</td>\n",
              "      <td>4.50</td>\n",
              "    </tr>\n",
              "    <tr>\n",
              "      <th>3</th>\n",
              "      <td>Maruti Ertiga VDI</td>\n",
              "      <td>Chennai</td>\n",
              "      <td>2012</td>\n",
              "      <td>87000</td>\n",
              "      <td>Diesel</td>\n",
              "      <td>0</td>\n",
              "      <td>First</td>\n",
              "      <td>20.77 kmpl</td>\n",
              "      <td>1248</td>\n",
              "      <td>88.76</td>\n",
              "      <td>7.00</td>\n",
              "      <td>6.00</td>\n",
              "    </tr>\n",
              "    <tr>\n",
              "      <th>4</th>\n",
              "      <td>Audi A4 New 2.0 TDI Multitronic</td>\n",
              "      <td>Coimbatore</td>\n",
              "      <td>2013</td>\n",
              "      <td>40670</td>\n",
              "      <td>Diesel</td>\n",
              "      <td>1</td>\n",
              "      <td>Second</td>\n",
              "      <td>15.2 kmpl</td>\n",
              "      <td>1968</td>\n",
              "      <td>140.80</td>\n",
              "      <td>5.00</td>\n",
              "      <td>17.74</td>\n",
              "    </tr>\n",
              "    <tr>\n",
              "      <th>...</th>\n",
              "      <td>...</td>\n",
              "      <td>...</td>\n",
              "      <td>...</td>\n",
              "      <td>...</td>\n",
              "      <td>...</td>\n",
              "      <td>...</td>\n",
              "      <td>...</td>\n",
              "      <td>...</td>\n",
              "      <td>...</td>\n",
              "      <td>...</td>\n",
              "      <td>...</td>\n",
              "      <td>...</td>\n",
              "    </tr>\n",
              "    <tr>\n",
              "      <th>6014</th>\n",
              "      <td>Maruti Swift VDI</td>\n",
              "      <td>Delhi</td>\n",
              "      <td>2014</td>\n",
              "      <td>27365</td>\n",
              "      <td>Diesel</td>\n",
              "      <td>0</td>\n",
              "      <td>First</td>\n",
              "      <td>28.4 kmpl</td>\n",
              "      <td>1248</td>\n",
              "      <td>74.00</td>\n",
              "      <td>5.00</td>\n",
              "      <td>4.75</td>\n",
              "    </tr>\n",
              "    <tr>\n",
              "      <th>6015</th>\n",
              "      <td>Hyundai Xcent 1.1 CRDi S</td>\n",
              "      <td>Jaipur</td>\n",
              "      <td>2015</td>\n",
              "      <td>100000</td>\n",
              "      <td>Diesel</td>\n",
              "      <td>0</td>\n",
              "      <td>First</td>\n",
              "      <td>24.4 kmpl</td>\n",
              "      <td>1120</td>\n",
              "      <td>71.00</td>\n",
              "      <td>5.00</td>\n",
              "      <td>4.00</td>\n",
              "    </tr>\n",
              "    <tr>\n",
              "      <th>6016</th>\n",
              "      <td>Mahindra Xylo D4 BSIV</td>\n",
              "      <td>Jaipur</td>\n",
              "      <td>2012</td>\n",
              "      <td>55000</td>\n",
              "      <td>Diesel</td>\n",
              "      <td>0</td>\n",
              "      <td>Second</td>\n",
              "      <td>14.0 kmpl</td>\n",
              "      <td>2498</td>\n",
              "      <td>112.00</td>\n",
              "      <td>8.00</td>\n",
              "      <td>2.90</td>\n",
              "    </tr>\n",
              "    <tr>\n",
              "      <th>6017</th>\n",
              "      <td>Maruti Wagon R VXI</td>\n",
              "      <td>Kolkata</td>\n",
              "      <td>2013</td>\n",
              "      <td>46000</td>\n",
              "      <td>Petrol</td>\n",
              "      <td>0</td>\n",
              "      <td>First</td>\n",
              "      <td>18.9 kmpl</td>\n",
              "      <td>998</td>\n",
              "      <td>67.10</td>\n",
              "      <td>5.00</td>\n",
              "      <td>2.65</td>\n",
              "    </tr>\n",
              "    <tr>\n",
              "      <th>6018</th>\n",
              "      <td>Chevrolet Beat Diesel</td>\n",
              "      <td>Hyderabad</td>\n",
              "      <td>2011</td>\n",
              "      <td>47000</td>\n",
              "      <td>Diesel</td>\n",
              "      <td>0</td>\n",
              "      <td>First</td>\n",
              "      <td>25.44 kmpl</td>\n",
              "      <td>936</td>\n",
              "      <td>57.60</td>\n",
              "      <td>5.00</td>\n",
              "      <td>2.50</td>\n",
              "    </tr>\n",
              "  </tbody>\n",
              "</table>\n",
              "<p>5872 rows × 12 columns</p>\n",
              "</div>"
            ],
            "text/plain": [
              "                                  name    location  year  ...  power seats  price\n",
              "0               Maruti Wagon R LXI CNG      Mumbai  2010  ...  58.16  5.00   1.75\n",
              "1     Hyundai Creta 1.6 CRDi SX Option        Pune  2015  ... 126.20  5.00  12.50\n",
              "2                         Honda Jazz V     Chennai  2011  ...  88.70  5.00   4.50\n",
              "3                    Maruti Ertiga VDI     Chennai  2012  ...  88.76  7.00   6.00\n",
              "4      Audi A4 New 2.0 TDI Multitronic  Coimbatore  2013  ... 140.80  5.00  17.74\n",
              "...                                ...         ...   ...  ...    ...   ...    ...\n",
              "6014                  Maruti Swift VDI       Delhi  2014  ...  74.00  5.00   4.75\n",
              "6015          Hyundai Xcent 1.1 CRDi S      Jaipur  2015  ...  71.00  5.00   4.00\n",
              "6016             Mahindra Xylo D4 BSIV      Jaipur  2012  ... 112.00  8.00   2.90\n",
              "6017                Maruti Wagon R VXI     Kolkata  2013  ...  67.10  5.00   2.65\n",
              "6018             Chevrolet Beat Diesel   Hyderabad  2011  ...  57.60  5.00   2.50\n",
              "\n",
              "[5872 rows x 12 columns]"
            ]
          },
          "metadata": {
            "tags": []
          },
          "execution_count": 80
        }
      ]
    },
    {
      "cell_type": "markdown",
      "metadata": {
        "id": "wxhpf-uq2B1I",
        "colab_type": "text"
      },
      "source": [
        "### <a name='10'></a> Ćwiczenie 170\n",
        "Zapisz obiekt _df_ do pliku _car.csv_ (nie zapisuj indeksu)."
      ]
    },
    {
      "cell_type": "code",
      "metadata": {
        "id": "YFc0KW6URsuc",
        "colab_type": "code",
        "colab": {}
      },
      "source": [
        "df.to_csv('car.csv', index = False)"
      ],
      "execution_count": 81,
      "outputs": []
    },
    {
      "cell_type": "markdown",
      "metadata": {
        "id": "4tyThqDmDd_4",
        "colab_type": "text"
      },
      "source": [
        "Uruchom poniższą instrukcję w celu sprawdzenia."
      ]
    },
    {
      "cell_type": "code",
      "metadata": {
        "id": "9WL0K8MGcuaY",
        "colab_type": "code",
        "colab": {
          "base_uri": "https://localhost:8080/",
          "height": 185
        },
        "outputId": "d7bcca30-2911-426a-f984-7952d2a004ba"
      },
      "source": [
        "!head car.csv"
      ],
      "execution_count": 82,
      "outputs": [
        {
          "output_type": "stream",
          "text": [
            "name,location,year,kilometers_driven,fuel_type,transmission,owner_type,mileage,engine,power,seats,price\n",
            "Maruti Wagon R LXI CNG,Mumbai,2010,72000,CNG,0,First,26.6 km/kg,998,58.16,5.0,1.75\n",
            "Hyundai Creta 1.6 CRDi SX Option,Pune,2015,41000,Diesel,0,First,19.67 kmpl,1582,126.2,5.0,12.5\n",
            "Honda Jazz V,Chennai,2011,46000,Petrol,0,First,18.2 kmpl,1199,88.7,5.0,4.5\n",
            "Maruti Ertiga VDI,Chennai,2012,87000,Diesel,0,First,20.77 kmpl,1248,88.76,7.0,6.0\n",
            "Audi A4 New 2.0 TDI Multitronic,Coimbatore,2013,40670,Diesel,1,Second,15.2 kmpl,1968,140.8,5.0,17.74\n",
            "Hyundai EON LPG Era Plus Option,Hyderabad,2012,75000,LPG,0,First,21.1 km/kg,814,55.2,5.0,2.35\n",
            "Nissan Micra Diesel XV,Jaipur,2013,86999,Diesel,0,First,23.08 kmpl,1461,63.1,5.0,3.5\n",
            "Toyota Innova Crysta 2.8 GX AT 8S,Mumbai,2016,36000,Diesel,1,First,11.36 kmpl,2755,171.5,8.0,17.5\n",
            "Volkswagen Vento Diesel Comfortline,Pune,2013,64430,Diesel,0,First,20.54 kmpl,1598,103.6,5.0,5.2\n"
          ],
          "name": "stdout"
        }
      ]
    },
    {
      "cell_type": "code",
      "metadata": {
        "id": "ylPLEykz7teA",
        "colab_type": "code",
        "colab": {}
      },
      "source": [
        ""
      ],
      "execution_count": null,
      "outputs": []
    }
  ]
}