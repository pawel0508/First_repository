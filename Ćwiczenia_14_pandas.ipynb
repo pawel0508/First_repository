{
  "nbformat": 4,
  "nbformat_minor": 0,
  "metadata": {
    "colab": {
      "name": "151-160_exercises.ipynb",
      "provenance": [],
      "collapsed_sections": [],
      "include_colab_link": true
    },
    "kernelspec": {
      "name": "python3",
      "display_name": "Python 3"
    }
  },
  "cells": [
    {
      "cell_type": "markdown",
      "metadata": {
        "id": "view-in-github",
        "colab_type": "text"
      },
      "source": [
        "<a href=\"https://colab.research.google.com/github/pawel0508/First_repository/blob/master/%C4%86wiczenia_14_pandas.ipynb\" target=\"_parent\"><img src=\"https://colab.research.google.com/assets/colab-badge.svg\" alt=\"Open In Colab\"/></a>"
      ]
    },
    {
      "cell_type": "markdown",
      "metadata": {
        "id": "WLEgCW5F1hho",
        "colab_type": "text"
      },
      "source": [
        "## Pandas\n",
        "\n",
        "### Spis treści:\n",
        "* [Import biblioteki](#0)\n",
        "* [Ćwiczenie 151](#1)\n",
        "* [Ćwiczenie 152](#2)\n",
        "* [Ćwiczenie 153](#3)\n",
        "* [Ćwiczenie 154](#4)\n",
        "* [Ćwiczenie 155](#5)\n",
        "* [Ćwiczenie 156](#6)\n",
        "* [Ćwiczenie 157](#7)\n",
        "* [Ćwiczenie 158](#8)\n",
        "* [Ćwiczenie 159](#9)\n",
        "* [Ćwiczenie 160](#10)"
      ]
    },
    {
      "cell_type": "markdown",
      "metadata": {
        "id": "zeLOLmTj1kBM",
        "colab_type": "text"
      },
      "source": [
        "### <a name='0'></a>Import biblioteki"
      ]
    },
    {
      "cell_type": "code",
      "metadata": {
        "id": "HXMB7SMe1Wnz",
        "colab_type": "code",
        "colab": {
          "base_uri": "https://localhost:8080/",
          "height": 35
        },
        "outputId": "7a7b6489-eb8e-428b-9e60-5ce62cf7f726"
      },
      "source": [
        "import numpy as np\n",
        "import pandas as pd\n",
        "\n",
        "np.random.seed(42)\n",
        "np.__version__"
      ],
      "execution_count": 1,
      "outputs": [
        {
          "output_type": "execute_result",
          "data": {
            "application/vnd.google.colaboratory.intrinsic+json": {
              "type": "string"
            },
            "text/plain": [
              "'1.18.5'"
            ]
          },
          "metadata": {
            "tags": []
          },
          "execution_count": 1
        }
      ]
    },
    {
      "cell_type": "markdown",
      "metadata": {
        "id": "cyc70pMe1oCg",
        "colab_type": "text"
      },
      "source": [
        "### <a name='1'></a> Ćwiczenie 151\n",
        "Podany jest poniższy obiekt _DataFrame:_\n",
        "\n",
        "```\n",
        "df = pd.DataFrame(np.random.rand(10, 4), columns=list('ABCD'))\n",
        "```\n",
        "\n"
      ]
    },
    {
      "cell_type": "code",
      "metadata": {
        "id": "bWjQeELjwg2x",
        "colab_type": "code",
        "colab": {}
      },
      "source": [
        "df = pd.DataFrame(np.random.rand(10, 4), columns=list('ABCD'))"
      ],
      "execution_count": 39,
      "outputs": []
    },
    {
      "cell_type": "markdown",
      "metadata": {
        "id": "dHfnUR5jxzxe",
        "colab_type": "text"
      },
      "source": [
        "Wytnij wiersze obiektu _df_ dla których kolumna _C_ jest większa niż 0.8.  \n",
        "Pomocniczo: Analogicznie jak w jezyku SQL poniższe zapytanie:\n",
        "\n",
        "\n",
        "```\n",
        "SELECT * FROM df WHERE C > 0.8\n",
        "```\n",
        "\n"
      ]
    },
    {
      "cell_type": "code",
      "metadata": {
        "id": "hZkMl5_jxlG6",
        "colab_type": "code",
        "colab": {
          "base_uri": "https://localhost:8080/",
          "height": 235
        },
        "outputId": "8f27d9c5-f480-47b7-eca3-c9b71f820e81"
      },
      "source": [
        "print(df)\n",
        "print(df.query('C > 0.8'))"
      ],
      "execution_count": 7,
      "outputs": [
        {
          "output_type": "stream",
          "text": [
            "          A         B         C         D\n",
            "0  0.374540  0.950714  0.731994  0.598658\n",
            "1  0.156019  0.155995  0.058084  0.866176\n",
            "2  0.601115  0.708073  0.020584  0.969910\n",
            "3  0.832443  0.212339  0.181825  0.183405\n",
            "4  0.304242  0.524756  0.431945  0.291229\n",
            "5  0.611853  0.139494  0.292145  0.366362\n",
            "6  0.456070  0.785176  0.199674  0.514234\n",
            "7  0.592415  0.046450  0.607545  0.170524\n",
            "8  0.065052  0.948886  0.965632  0.808397\n",
            "9  0.304614  0.097672  0.684233  0.440152\n",
            "          A         B         C         D\n",
            "8  0.065052  0.948886  0.965632  0.808397\n"
          ],
          "name": "stdout"
        }
      ]
    },
    {
      "cell_type": "markdown",
      "metadata": {
        "id": "J9pY1rtr1sC0",
        "colab_type": "text"
      },
      "source": [
        "### <a name='2'></a> Ćwiczenie 152\n",
        "\n",
        "Wytnij wiersze obiektu _df_ dla których kolumna _C_ jest większa niż 0.3 oraz kolumna _D_ jest mniejsza niż 0.7. "
      ]
    },
    {
      "cell_type": "code",
      "metadata": {
        "id": "X-Pn6X-CyjC4",
        "colab_type": "code",
        "colab": {
          "base_uri": "https://localhost:8080/",
          "height": 166
        },
        "outputId": "812a450f-95eb-4a84-fe02-0af6d896b781"
      },
      "source": [
        "df.query('C > 0.3 and D < 0.7')"
      ],
      "execution_count": 8,
      "outputs": [
        {
          "output_type": "execute_result",
          "data": {
            "text/html": [
              "<div>\n",
              "<style scoped>\n",
              "    .dataframe tbody tr th:only-of-type {\n",
              "        vertical-align: middle;\n",
              "    }\n",
              "\n",
              "    .dataframe tbody tr th {\n",
              "        vertical-align: top;\n",
              "    }\n",
              "\n",
              "    .dataframe thead th {\n",
              "        text-align: right;\n",
              "    }\n",
              "</style>\n",
              "<table border=\"1\" class=\"dataframe\">\n",
              "  <thead>\n",
              "    <tr style=\"text-align: right;\">\n",
              "      <th></th>\n",
              "      <th>A</th>\n",
              "      <th>B</th>\n",
              "      <th>C</th>\n",
              "      <th>D</th>\n",
              "    </tr>\n",
              "  </thead>\n",
              "  <tbody>\n",
              "    <tr>\n",
              "      <th>0</th>\n",
              "      <td>0.374540</td>\n",
              "      <td>0.950714</td>\n",
              "      <td>0.731994</td>\n",
              "      <td>0.598658</td>\n",
              "    </tr>\n",
              "    <tr>\n",
              "      <th>4</th>\n",
              "      <td>0.304242</td>\n",
              "      <td>0.524756</td>\n",
              "      <td>0.431945</td>\n",
              "      <td>0.291229</td>\n",
              "    </tr>\n",
              "    <tr>\n",
              "      <th>7</th>\n",
              "      <td>0.592415</td>\n",
              "      <td>0.046450</td>\n",
              "      <td>0.607545</td>\n",
              "      <td>0.170524</td>\n",
              "    </tr>\n",
              "    <tr>\n",
              "      <th>9</th>\n",
              "      <td>0.304614</td>\n",
              "      <td>0.097672</td>\n",
              "      <td>0.684233</td>\n",
              "      <td>0.440152</td>\n",
              "    </tr>\n",
              "  </tbody>\n",
              "</table>\n",
              "</div>"
            ],
            "text/plain": [
              "          A         B         C         D\n",
              "0  0.374540  0.950714  0.731994  0.598658\n",
              "4  0.304242  0.524756  0.431945  0.291229\n",
              "7  0.592415  0.046450  0.607545  0.170524\n",
              "9  0.304614  0.097672  0.684233  0.440152"
            ]
          },
          "metadata": {
            "tags": []
          },
          "execution_count": 8
        }
      ]
    },
    {
      "cell_type": "markdown",
      "metadata": {
        "id": "XQLYT2m11wVG",
        "colab_type": "text"
      },
      "source": [
        "### <a name='3'></a> Ćwiczenie 153\n",
        "Dokonaj iteracji po pierwszych pięciu wierszach obiektu _df_. Każdy wiersz wydrukuj do konsoli.\n",
        "\n",
        "__Wskazówka:__ Wykorzystaj funkcję _pd.DataFrame.iterrows()_."
      ]
    },
    {
      "cell_type": "code",
      "metadata": {
        "id": "87L3OusazWgG",
        "colab_type": "code",
        "colab": {
          "base_uri": "https://localhost:8080/",
          "height": 437
        },
        "outputId": "8e56331e-df22-4fcc-c06e-74b766b0b357"
      },
      "source": [
        "for index, row in df.head().iterrows():\n",
        "  print(row)\n"
      ],
      "execution_count": 19,
      "outputs": [
        {
          "output_type": "stream",
          "text": [
            "A    0.374540\n",
            "B    0.950714\n",
            "C    0.731994\n",
            "D    0.598658\n",
            "Name: 0, dtype: float64\n",
            "A    0.156019\n",
            "B    0.155995\n",
            "C    0.058084\n",
            "D    0.866176\n",
            "Name: 1, dtype: float64\n",
            "A    0.601115\n",
            "B    0.708073\n",
            "C    0.020584\n",
            "D    0.969910\n",
            "Name: 2, dtype: float64\n",
            "A    0.832443\n",
            "B    0.212339\n",
            "C    0.181825\n",
            "D    0.183405\n",
            "Name: 3, dtype: float64\n",
            "A    0.304242\n",
            "B    0.524756\n",
            "C    0.431945\n",
            "D    0.291229\n",
            "Name: 4, dtype: float64\n"
          ],
          "name": "stdout"
        }
      ]
    },
    {
      "cell_type": "markdown",
      "metadata": {
        "id": "4xTKSUzg10MK",
        "colab_type": "text"
      },
      "source": [
        "### <a name='4'></a> Ćwiczenie 154\n",
        "Ustaw wartość w wierszu o indeksie 3 dla kolumny B jako _np.nan_.\n",
        "Wykorzystaj _df.iloc_."
      ]
    },
    {
      "cell_type": "code",
      "metadata": {
        "id": "Ji4FS2866kSE",
        "colab_type": "code",
        "colab": {}
      },
      "source": [
        "df.iloc[3, 1] = np.nan"
      ],
      "execution_count": 52,
      "outputs": []
    },
    {
      "cell_type": "markdown",
      "metadata": {
        "id": "6cViISQm6_xB",
        "colab_type": "text"
      },
      "source": [
        "Ustaw wartość w wierszu o indeksie 8 dla kolumny D jako _np.nan_. Wykorzystaj _df.loc_."
      ]
    },
    {
      "cell_type": "code",
      "metadata": {
        "id": "77L0q1HA64UJ",
        "colab_type": "code",
        "colab": {}
      },
      "source": [
        "df.loc[8, 'D'] = np.nan"
      ],
      "execution_count": 53,
      "outputs": []
    },
    {
      "cell_type": "markdown",
      "metadata": {
        "id": "dAu6FE2A7OoF",
        "colab_type": "text"
      },
      "source": [
        "Wyświetl obiekt _df_."
      ]
    },
    {
      "cell_type": "code",
      "metadata": {
        "id": "PF7W9djK7Nka",
        "colab_type": "code",
        "colab": {
          "base_uri": "https://localhost:8080/",
          "height": 343
        },
        "outputId": "101c5213-1051-435a-a708-a4acfc0f6834"
      },
      "source": [
        "df\n"
      ],
      "execution_count": 42,
      "outputs": [
        {
          "output_type": "execute_result",
          "data": {
            "text/html": [
              "<div>\n",
              "<style scoped>\n",
              "    .dataframe tbody tr th:only-of-type {\n",
              "        vertical-align: middle;\n",
              "    }\n",
              "\n",
              "    .dataframe tbody tr th {\n",
              "        vertical-align: top;\n",
              "    }\n",
              "\n",
              "    .dataframe thead th {\n",
              "        text-align: right;\n",
              "    }\n",
              "</style>\n",
              "<table border=\"1\" class=\"dataframe\">\n",
              "  <thead>\n",
              "    <tr style=\"text-align: right;\">\n",
              "      <th></th>\n",
              "      <th>A</th>\n",
              "      <th>B</th>\n",
              "      <th>C</th>\n",
              "      <th>D</th>\n",
              "    </tr>\n",
              "  </thead>\n",
              "  <tbody>\n",
              "    <tr>\n",
              "      <th>0</th>\n",
              "      <td>0.863103</td>\n",
              "      <td>0.623298</td>\n",
              "      <td>0.330898</td>\n",
              "      <td>0.063558</td>\n",
              "    </tr>\n",
              "    <tr>\n",
              "      <th>1</th>\n",
              "      <td>0.310982</td>\n",
              "      <td>0.325183</td>\n",
              "      <td>0.729606</td>\n",
              "      <td>0.637557</td>\n",
              "    </tr>\n",
              "    <tr>\n",
              "      <th>2</th>\n",
              "      <td>0.887213</td>\n",
              "      <td>0.472215</td>\n",
              "      <td>0.119594</td>\n",
              "      <td>0.713245</td>\n",
              "    </tr>\n",
              "    <tr>\n",
              "      <th>3</th>\n",
              "      <td>0.760785</td>\n",
              "      <td>NaN</td>\n",
              "      <td>0.770967</td>\n",
              "      <td>0.493796</td>\n",
              "    </tr>\n",
              "    <tr>\n",
              "      <th>4</th>\n",
              "      <td>0.522733</td>\n",
              "      <td>0.427541</td>\n",
              "      <td>0.025419</td>\n",
              "      <td>0.107891</td>\n",
              "    </tr>\n",
              "    <tr>\n",
              "      <th>5</th>\n",
              "      <td>0.031429</td>\n",
              "      <td>0.636410</td>\n",
              "      <td>0.314356</td>\n",
              "      <td>0.508571</td>\n",
              "    </tr>\n",
              "    <tr>\n",
              "      <th>6</th>\n",
              "      <td>0.907566</td>\n",
              "      <td>0.249292</td>\n",
              "      <td>0.410383</td>\n",
              "      <td>0.755551</td>\n",
              "    </tr>\n",
              "    <tr>\n",
              "      <th>7</th>\n",
              "      <td>0.228798</td>\n",
              "      <td>0.076980</td>\n",
              "      <td>0.289751</td>\n",
              "      <td>0.161221</td>\n",
              "    </tr>\n",
              "    <tr>\n",
              "      <th>8</th>\n",
              "      <td>0.929698</td>\n",
              "      <td>0.808120</td>\n",
              "      <td>0.633404</td>\n",
              "      <td>NaN</td>\n",
              "    </tr>\n",
              "    <tr>\n",
              "      <th>9</th>\n",
              "      <td>0.803672</td>\n",
              "      <td>0.186570</td>\n",
              "      <td>0.892559</td>\n",
              "      <td>0.539342</td>\n",
              "    </tr>\n",
              "  </tbody>\n",
              "</table>\n",
              "</div>"
            ],
            "text/plain": [
              "          A         B         C         D\n",
              "0  0.863103  0.623298  0.330898  0.063558\n",
              "1  0.310982  0.325183  0.729606  0.637557\n",
              "2  0.887213  0.472215  0.119594  0.713245\n",
              "3  0.760785       NaN  0.770967  0.493796\n",
              "4  0.522733  0.427541  0.025419  0.107891\n",
              "5  0.031429  0.636410  0.314356  0.508571\n",
              "6  0.907566  0.249292  0.410383  0.755551\n",
              "7  0.228798  0.076980  0.289751  0.161221\n",
              "8  0.929698  0.808120  0.633404       NaN\n",
              "9  0.803672  0.186570  0.892559  0.539342"
            ]
          },
          "metadata": {
            "tags": []
          },
          "execution_count": 42
        }
      ]
    },
    {
      "cell_type": "markdown",
      "metadata": {
        "id": "o3HKIKlP15Ro",
        "colab_type": "text"
      },
      "source": [
        "### <a name='5'></a> Ćwiczenie 155\n",
        "Usuń wszystkie wiersze z obiektu _df_ zawierające braki danych i przypisz do zmiennej _df1_. Wyświetl zmienną _df1_."
      ]
    },
    {
      "cell_type": "code",
      "metadata": {
        "id": "ykYD4qGj8JjL",
        "colab_type": "code",
        "colab": {
          "base_uri": "https://localhost:8080/",
          "height": 284
        },
        "outputId": "f0b530c2-618e-4baf-e17d-e83349b3c37c"
      },
      "source": [
        "df1 = df.dropna()\n",
        "df1"
      ],
      "execution_count": 43,
      "outputs": [
        {
          "output_type": "execute_result",
          "data": {
            "text/html": [
              "<div>\n",
              "<style scoped>\n",
              "    .dataframe tbody tr th:only-of-type {\n",
              "        vertical-align: middle;\n",
              "    }\n",
              "\n",
              "    .dataframe tbody tr th {\n",
              "        vertical-align: top;\n",
              "    }\n",
              "\n",
              "    .dataframe thead th {\n",
              "        text-align: right;\n",
              "    }\n",
              "</style>\n",
              "<table border=\"1\" class=\"dataframe\">\n",
              "  <thead>\n",
              "    <tr style=\"text-align: right;\">\n",
              "      <th></th>\n",
              "      <th>A</th>\n",
              "      <th>B</th>\n",
              "      <th>C</th>\n",
              "      <th>D</th>\n",
              "    </tr>\n",
              "  </thead>\n",
              "  <tbody>\n",
              "    <tr>\n",
              "      <th>0</th>\n",
              "      <td>0.863103</td>\n",
              "      <td>0.623298</td>\n",
              "      <td>0.330898</td>\n",
              "      <td>0.063558</td>\n",
              "    </tr>\n",
              "    <tr>\n",
              "      <th>1</th>\n",
              "      <td>0.310982</td>\n",
              "      <td>0.325183</td>\n",
              "      <td>0.729606</td>\n",
              "      <td>0.637557</td>\n",
              "    </tr>\n",
              "    <tr>\n",
              "      <th>2</th>\n",
              "      <td>0.887213</td>\n",
              "      <td>0.472215</td>\n",
              "      <td>0.119594</td>\n",
              "      <td>0.713245</td>\n",
              "    </tr>\n",
              "    <tr>\n",
              "      <th>4</th>\n",
              "      <td>0.522733</td>\n",
              "      <td>0.427541</td>\n",
              "      <td>0.025419</td>\n",
              "      <td>0.107891</td>\n",
              "    </tr>\n",
              "    <tr>\n",
              "      <th>5</th>\n",
              "      <td>0.031429</td>\n",
              "      <td>0.636410</td>\n",
              "      <td>0.314356</td>\n",
              "      <td>0.508571</td>\n",
              "    </tr>\n",
              "    <tr>\n",
              "      <th>6</th>\n",
              "      <td>0.907566</td>\n",
              "      <td>0.249292</td>\n",
              "      <td>0.410383</td>\n",
              "      <td>0.755551</td>\n",
              "    </tr>\n",
              "    <tr>\n",
              "      <th>7</th>\n",
              "      <td>0.228798</td>\n",
              "      <td>0.076980</td>\n",
              "      <td>0.289751</td>\n",
              "      <td>0.161221</td>\n",
              "    </tr>\n",
              "    <tr>\n",
              "      <th>9</th>\n",
              "      <td>0.803672</td>\n",
              "      <td>0.186570</td>\n",
              "      <td>0.892559</td>\n",
              "      <td>0.539342</td>\n",
              "    </tr>\n",
              "  </tbody>\n",
              "</table>\n",
              "</div>"
            ],
            "text/plain": [
              "          A         B         C         D\n",
              "0  0.863103  0.623298  0.330898  0.063558\n",
              "1  0.310982  0.325183  0.729606  0.637557\n",
              "2  0.887213  0.472215  0.119594  0.713245\n",
              "4  0.522733  0.427541  0.025419  0.107891\n",
              "5  0.031429  0.636410  0.314356  0.508571\n",
              "6  0.907566  0.249292  0.410383  0.755551\n",
              "7  0.228798  0.076980  0.289751  0.161221\n",
              "9  0.803672  0.186570  0.892559  0.539342"
            ]
          },
          "metadata": {
            "tags": []
          },
          "execution_count": 43
        }
      ]
    },
    {
      "cell_type": "markdown",
      "metadata": {
        "id": "PunXd_Ey16so",
        "colab_type": "text"
      },
      "source": [
        "### <a name='6'></a> Ćwiczenie 156\n",
        "Zauważ, że indeks po usunięciu dwóch wieszy w obiekcie _df1_ nie jest po kolei. Zresetuj indeks, aby wprowadzić kolejność (nie dodawaj nowej kolumny, tylko zreseuj indeks). Wyświetl zmienną _df1_."
      ]
    },
    {
      "cell_type": "code",
      "metadata": {
        "id": "qWKKJCnN8sSJ",
        "colab_type": "code",
        "colab": {
          "base_uri": "https://localhost:8080/",
          "height": 284
        },
        "outputId": "bc7587bc-e021-42fc-c63a-9951920b838d"
      },
      "source": [
        "df1 = df1.reset_index(drop = True)\n",
        "df1"
      ],
      "execution_count": 44,
      "outputs": [
        {
          "output_type": "execute_result",
          "data": {
            "text/html": [
              "<div>\n",
              "<style scoped>\n",
              "    .dataframe tbody tr th:only-of-type {\n",
              "        vertical-align: middle;\n",
              "    }\n",
              "\n",
              "    .dataframe tbody tr th {\n",
              "        vertical-align: top;\n",
              "    }\n",
              "\n",
              "    .dataframe thead th {\n",
              "        text-align: right;\n",
              "    }\n",
              "</style>\n",
              "<table border=\"1\" class=\"dataframe\">\n",
              "  <thead>\n",
              "    <tr style=\"text-align: right;\">\n",
              "      <th></th>\n",
              "      <th>A</th>\n",
              "      <th>B</th>\n",
              "      <th>C</th>\n",
              "      <th>D</th>\n",
              "    </tr>\n",
              "  </thead>\n",
              "  <tbody>\n",
              "    <tr>\n",
              "      <th>0</th>\n",
              "      <td>0.863103</td>\n",
              "      <td>0.623298</td>\n",
              "      <td>0.330898</td>\n",
              "      <td>0.063558</td>\n",
              "    </tr>\n",
              "    <tr>\n",
              "      <th>1</th>\n",
              "      <td>0.310982</td>\n",
              "      <td>0.325183</td>\n",
              "      <td>0.729606</td>\n",
              "      <td>0.637557</td>\n",
              "    </tr>\n",
              "    <tr>\n",
              "      <th>2</th>\n",
              "      <td>0.887213</td>\n",
              "      <td>0.472215</td>\n",
              "      <td>0.119594</td>\n",
              "      <td>0.713245</td>\n",
              "    </tr>\n",
              "    <tr>\n",
              "      <th>3</th>\n",
              "      <td>0.522733</td>\n",
              "      <td>0.427541</td>\n",
              "      <td>0.025419</td>\n",
              "      <td>0.107891</td>\n",
              "    </tr>\n",
              "    <tr>\n",
              "      <th>4</th>\n",
              "      <td>0.031429</td>\n",
              "      <td>0.636410</td>\n",
              "      <td>0.314356</td>\n",
              "      <td>0.508571</td>\n",
              "    </tr>\n",
              "    <tr>\n",
              "      <th>5</th>\n",
              "      <td>0.907566</td>\n",
              "      <td>0.249292</td>\n",
              "      <td>0.410383</td>\n",
              "      <td>0.755551</td>\n",
              "    </tr>\n",
              "    <tr>\n",
              "      <th>6</th>\n",
              "      <td>0.228798</td>\n",
              "      <td>0.076980</td>\n",
              "      <td>0.289751</td>\n",
              "      <td>0.161221</td>\n",
              "    </tr>\n",
              "    <tr>\n",
              "      <th>7</th>\n",
              "      <td>0.803672</td>\n",
              "      <td>0.186570</td>\n",
              "      <td>0.892559</td>\n",
              "      <td>0.539342</td>\n",
              "    </tr>\n",
              "  </tbody>\n",
              "</table>\n",
              "</div>"
            ],
            "text/plain": [
              "          A         B         C         D\n",
              "0  0.863103  0.623298  0.330898  0.063558\n",
              "1  0.310982  0.325183  0.729606  0.637557\n",
              "2  0.887213  0.472215  0.119594  0.713245\n",
              "3  0.522733  0.427541  0.025419  0.107891\n",
              "4  0.031429  0.636410  0.314356  0.508571\n",
              "5  0.907566  0.249292  0.410383  0.755551\n",
              "6  0.228798  0.076980  0.289751  0.161221\n",
              "7  0.803672  0.186570  0.892559  0.539342"
            ]
          },
          "metadata": {
            "tags": []
          },
          "execution_count": 44
        }
      ]
    },
    {
      "cell_type": "markdown",
      "metadata": {
        "id": "hOhqDRz618Tx",
        "colab_type": "text"
      },
      "source": [
        "### <a name='7'></a> Ćwiczenie 157\n",
        "Wracamy do obiektu _df_. Wyznacz liczbę brakujących elementów w obiekcie _df_ dla każdej kolumny."
      ]
    },
    {
      "cell_type": "code",
      "metadata": {
        "id": "Q2R4qted9F2W",
        "colab_type": "code",
        "colab": {
          "base_uri": "https://localhost:8080/",
          "height": 101
        },
        "outputId": "7e3fcd0c-cef9-431f-e45c-f7799f366945"
      },
      "source": [
        "df.isnull().sum()"
      ],
      "execution_count": 45,
      "outputs": [
        {
          "output_type": "execute_result",
          "data": {
            "text/plain": [
              "A    0\n",
              "B    1\n",
              "C    0\n",
              "D    1\n",
              "dtype: int64"
            ]
          },
          "metadata": {
            "tags": []
          },
          "execution_count": 45
        }
      ]
    },
    {
      "cell_type": "markdown",
      "metadata": {
        "id": "TXUd_4631-gw",
        "colab_type": "text"
      },
      "source": [
        "### <a name='8'></a> Ćwiczenie 158\n",
        "Uzupełnij brakujące wartości wartością 0 i przypisz do zmiennej _df_."
      ]
    },
    {
      "cell_type": "code",
      "metadata": {
        "id": "xEtz0Vgx9Y3h",
        "colab_type": "code",
        "colab": {}
      },
      "source": [
        "df = df.fillna(0)"
      ],
      "execution_count": 59,
      "outputs": []
    },
    {
      "cell_type": "markdown",
      "metadata": {
        "id": "tgI6xEn-2AQo",
        "colab_type": "text"
      },
      "source": [
        "### <a name='9'></a> Ćwiczenie 159\n",
        "Zamień kolejność kolumn w obiekcie _df_ na podaną poniżej:\n",
        "* D, A, B, C  \n",
        "\n",
        "i przypisz do zmiennej _df_."
      ]
    },
    {
      "cell_type": "code",
      "metadata": {
        "id": "xE4dg1bg9l2e",
        "colab_type": "code",
        "colab": {}
      },
      "source": [
        "df = df[['D', 'A', 'B', 'C']]"
      ],
      "execution_count": 56,
      "outputs": []
    },
    {
      "cell_type": "markdown",
      "metadata": {
        "id": "wxhpf-uq2B1I",
        "colab_type": "text"
      },
      "source": [
        "### <a name='10'></a> Ćwiczenie 160\n",
        "Usuń kolumnę $D$ z obiektu _df_."
      ]
    },
    {
      "cell_type": "code",
      "metadata": {
        "id": "f42DsNYyCPW6",
        "colab_type": "code",
        "colab": {}
      },
      "source": [
        "del df['D']"
      ],
      "execution_count": 57,
      "outputs": []
    },
    {
      "cell_type": "code",
      "metadata": {
        "id": "FuOBntVI0xgL",
        "colab_type": "code",
        "colab": {
          "base_uri": "https://localhost:8080/",
          "height": 343
        },
        "outputId": "314175b2-ed96-4c31-d14a-7325a26db006"
      },
      "source": [
        "df"
      ],
      "execution_count": 58,
      "outputs": [
        {
          "output_type": "execute_result",
          "data": {
            "text/html": [
              "<div>\n",
              "<style scoped>\n",
              "    .dataframe tbody tr th:only-of-type {\n",
              "        vertical-align: middle;\n",
              "    }\n",
              "\n",
              "    .dataframe tbody tr th {\n",
              "        vertical-align: top;\n",
              "    }\n",
              "\n",
              "    .dataframe thead th {\n",
              "        text-align: right;\n",
              "    }\n",
              "</style>\n",
              "<table border=\"1\" class=\"dataframe\">\n",
              "  <thead>\n",
              "    <tr style=\"text-align: right;\">\n",
              "      <th></th>\n",
              "      <th>A</th>\n",
              "      <th>B</th>\n",
              "      <th>C</th>\n",
              "    </tr>\n",
              "  </thead>\n",
              "  <tbody>\n",
              "    <tr>\n",
              "      <th>0</th>\n",
              "      <td>0.863103</td>\n",
              "      <td>0.623298</td>\n",
              "      <td>0.330898</td>\n",
              "    </tr>\n",
              "    <tr>\n",
              "      <th>1</th>\n",
              "      <td>0.310982</td>\n",
              "      <td>0.325183</td>\n",
              "      <td>0.729606</td>\n",
              "    </tr>\n",
              "    <tr>\n",
              "      <th>2</th>\n",
              "      <td>0.887213</td>\n",
              "      <td>0.472215</td>\n",
              "      <td>0.119594</td>\n",
              "    </tr>\n",
              "    <tr>\n",
              "      <th>3</th>\n",
              "      <td>0.760785</td>\n",
              "      <td>NaN</td>\n",
              "      <td>0.770967</td>\n",
              "    </tr>\n",
              "    <tr>\n",
              "      <th>4</th>\n",
              "      <td>0.522733</td>\n",
              "      <td>0.427541</td>\n",
              "      <td>0.025419</td>\n",
              "    </tr>\n",
              "    <tr>\n",
              "      <th>5</th>\n",
              "      <td>0.031429</td>\n",
              "      <td>0.636410</td>\n",
              "      <td>0.314356</td>\n",
              "    </tr>\n",
              "    <tr>\n",
              "      <th>6</th>\n",
              "      <td>0.907566</td>\n",
              "      <td>0.249292</td>\n",
              "      <td>0.410383</td>\n",
              "    </tr>\n",
              "    <tr>\n",
              "      <th>7</th>\n",
              "      <td>0.228798</td>\n",
              "      <td>0.076980</td>\n",
              "      <td>0.289751</td>\n",
              "    </tr>\n",
              "    <tr>\n",
              "      <th>8</th>\n",
              "      <td>0.929698</td>\n",
              "      <td>0.808120</td>\n",
              "      <td>0.633404</td>\n",
              "    </tr>\n",
              "    <tr>\n",
              "      <th>9</th>\n",
              "      <td>0.803672</td>\n",
              "      <td>0.186570</td>\n",
              "      <td>0.892559</td>\n",
              "    </tr>\n",
              "  </tbody>\n",
              "</table>\n",
              "</div>"
            ],
            "text/plain": [
              "          A         B         C\n",
              "0  0.863103  0.623298  0.330898\n",
              "1  0.310982  0.325183  0.729606\n",
              "2  0.887213  0.472215  0.119594\n",
              "3  0.760785       NaN  0.770967\n",
              "4  0.522733  0.427541  0.025419\n",
              "5  0.031429  0.636410  0.314356\n",
              "6  0.907566  0.249292  0.410383\n",
              "7  0.228798  0.076980  0.289751\n",
              "8  0.929698  0.808120  0.633404\n",
              "9  0.803672  0.186570  0.892559"
            ]
          },
          "metadata": {
            "tags": []
          },
          "execution_count": 58
        }
      ]
    },
    {
      "cell_type": "code",
      "metadata": {
        "id": "cCVfD9Pb0yPh",
        "colab_type": "code",
        "colab": {}
      },
      "source": [
        "df.drop('D', axis=1) # inny sposób"
      ],
      "execution_count": null,
      "outputs": []
    }
  ]
}