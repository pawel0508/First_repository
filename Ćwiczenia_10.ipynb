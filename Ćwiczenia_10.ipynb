{
  "nbformat": 4,
  "nbformat_minor": 0,
  "metadata": {
    "colab": {
      "name": "111-120_exercises.ipynb",
      "provenance": [],
      "collapsed_sections": [],
      "include_colab_link": true
    },
    "kernelspec": {
      "name": "python3",
      "display_name": "Python 3"
    }
  },
  "cells": [
    {
      "cell_type": "markdown",
      "metadata": {
        "id": "view-in-github",
        "colab_type": "text"
      },
      "source": [
        "<a href=\"https://colab.research.google.com/github/pawel0508/First_repository/blob/master/%C4%86wiczenia_10.ipynb\" target=\"_parent\"><img src=\"https://colab.research.google.com/assets/colab-badge.svg\" alt=\"Open In Colab\"/></a>"
      ]
    },
    {
      "cell_type": "markdown",
      "metadata": {
        "id": "WLEgCW5F1hho",
        "colab_type": "text"
      },
      "source": [
        "## Pandas\n",
        "\n",
        "### Spis treści:\n",
        "* [Import biblioteki](#0)\n",
        "* [Ćwiczenie 111](#1)\n",
        "* [Ćwiczenie 112](#2)\n",
        "* [Ćwiczenie 113](#3)\n",
        "* [Ćwiczenie 114](#4)\n",
        "* [Ćwiczenie 115](#5)\n",
        "* [Ćwiczenie 116](#6)\n",
        "* [Ćwiczenie 117](#7)\n",
        "* [Ćwiczenie 118](#8)\n",
        "* [Ćwiczenie 119](#9)\n",
        "* [Ćwiczenie 120](#10)"
      ]
    },
    {
      "cell_type": "markdown",
      "metadata": {
        "id": "zeLOLmTj1kBM",
        "colab_type": "text"
      },
      "source": [
        "### <a name='0'></a>Import biblioteki"
      ]
    },
    {
      "cell_type": "code",
      "metadata": {
        "id": "HXMB7SMe1Wnz",
        "colab_type": "code",
        "colab": {
          "base_uri": "https://localhost:8080/",
          "height": 35
        },
        "outputId": "8eced35a-4515-4b48-8b27-173e33f6f1e6"
      },
      "source": [
        "import numpy as np\n",
        "import pandas as pd\n",
        "\n",
        "np.random.seed(42)\n",
        "pd.__version__"
      ],
      "execution_count": 1,
      "outputs": [
        {
          "output_type": "execute_result",
          "data": {
            "application/vnd.google.colaboratory.intrinsic+json": {
              "type": "string"
            },
            "text/plain": [
              "'1.0.5'"
            ]
          },
          "metadata": {
            "tags": []
          },
          "execution_count": 1
        }
      ]
    },
    {
      "cell_type": "markdown",
      "metadata": {
        "id": "cyc70pMe1oCg",
        "colab_type": "text"
      },
      "source": [
        "### <a name='1'></a> Ćwiczenie 111\n",
        "Zbuduj obiekt _DatetimeIndex_ zawierający daty w formacie 'yyyy-mm-dd' dla wszystkich dni ze stycznia 2020 roku i przypisz do zmiennej _date_range_.\n",
        "\n",
        "__Oczekiwany wynik:__\n",
        "\n",
        "\n",
        "```\n",
        "DatetimeIndex(['2020-01-01', '2020-01-02', '2020-01-03', '2020-01-04',\n",
        "               '2020-01-05', '2020-01-06', '2020-01-07', '2020-01-08',\n",
        "               '2020-01-09', '2020-01-10', '2020-01-11', '2020-01-12',\n",
        "               '2020-01-13', '2020-01-14', '2020-01-15', '2020-01-16',\n",
        "               '2020-01-17', '2020-01-18', '2020-01-19', '2020-01-20',\n",
        "               '2020-01-21', '2020-01-22', '2020-01-23', '2020-01-24',\n",
        "               '2020-01-25', '2020-01-26', '2020-01-27', '2020-01-28',\n",
        "               '2020-01-29', '2020-01-30', '2020-01-31'],\n",
        "              dtype='datetime64[ns]', freq='D')\n",
        "```\n",
        "\n"
      ]
    },
    {
      "cell_type": "code",
      "metadata": {
        "id": "-Fktzi-m6jA8",
        "colab_type": "code",
        "colab": {
          "base_uri": "https://localhost:8080/",
          "height": 168
        },
        "outputId": "6f15d163-9754-4630-ede1-d96d112b5be2"
      },
      "source": [
        "date_range = pd.date_range(start = '2020-01-01', end = '2020-01-31', freq = 'D')\n",
        "date_range"
      ],
      "execution_count": 9,
      "outputs": [
        {
          "output_type": "execute_result",
          "data": {
            "text/plain": [
              "DatetimeIndex(['2020-01-01', '2020-01-02', '2020-01-03', '2020-01-04',\n",
              "               '2020-01-05', '2020-01-06', '2020-01-07', '2020-01-08',\n",
              "               '2020-01-09', '2020-01-10', '2020-01-11', '2020-01-12',\n",
              "               '2020-01-13', '2020-01-14', '2020-01-15', '2020-01-16',\n",
              "               '2020-01-17', '2020-01-18', '2020-01-19', '2020-01-20',\n",
              "               '2020-01-21', '2020-01-22', '2020-01-23', '2020-01-24',\n",
              "               '2020-01-25', '2020-01-26', '2020-01-27', '2020-01-28',\n",
              "               '2020-01-29', '2020-01-30', '2020-01-31'],\n",
              "              dtype='datetime64[ns]', freq='D')"
            ]
          },
          "metadata": {
            "tags": []
          },
          "execution_count": 9
        }
      ]
    },
    {
      "cell_type": "markdown",
      "metadata": {
        "id": "-b7YtggN7yNA",
        "colab_type": "text"
      },
      "source": [
        "Ze zmiennej _date_range_ zbuduj obiekt typu _Series_."
      ]
    },
    {
      "cell_type": "code",
      "metadata": {
        "id": "o8Gx9s5m7imi",
        "colab_type": "code",
        "colab": {
          "base_uri": "https://localhost:8080/",
          "height": 554
        },
        "outputId": "80289f33-d1cb-46ea-8cce-10f8cff32dcd"
      },
      "source": [
        "pd.Series(date_range)"
      ],
      "execution_count": 10,
      "outputs": [
        {
          "output_type": "execute_result",
          "data": {
            "text/plain": [
              "0    2020-01-01\n",
              "1    2020-01-02\n",
              "2    2020-01-03\n",
              "3    2020-01-04\n",
              "4    2020-01-05\n",
              "5    2020-01-06\n",
              "6    2020-01-07\n",
              "7    2020-01-08\n",
              "8    2020-01-09\n",
              "9    2020-01-10\n",
              "10   2020-01-11\n",
              "11   2020-01-12\n",
              "12   2020-01-13\n",
              "13   2020-01-14\n",
              "14   2020-01-15\n",
              "15   2020-01-16\n",
              "16   2020-01-17\n",
              "17   2020-01-18\n",
              "18   2020-01-19\n",
              "19   2020-01-20\n",
              "20   2020-01-21\n",
              "21   2020-01-22\n",
              "22   2020-01-23\n",
              "23   2020-01-24\n",
              "24   2020-01-25\n",
              "25   2020-01-26\n",
              "26   2020-01-27\n",
              "27   2020-01-28\n",
              "28   2020-01-29\n",
              "29   2020-01-30\n",
              "30   2020-01-31\n",
              "dtype: datetime64[ns]"
            ]
          },
          "metadata": {
            "tags": []
          },
          "execution_count": 10
        }
      ]
    },
    {
      "cell_type": "markdown",
      "metadata": {
        "id": "J9pY1rtr1sC0",
        "colab_type": "text"
      },
      "source": [
        "### <a name='2'></a> Ćwiczenie 112\n",
        "Zbuduj obiekt _DatetimeIndex_ zawierający daty w formacie 'yyyy-mm-dd' dla wszystkich poniedziałków z 2020 roku i przypisz do zmiennej _date_range_."
      ]
    },
    {
      "cell_type": "code",
      "metadata": {
        "id": "9pgIpf0M5L9S",
        "colab_type": "code",
        "colab": {
          "base_uri": "https://localhost:8080/",
          "height": 252
        },
        "outputId": "6b2e4a83-d5b5-43d5-a344-f8dd05d2da25"
      },
      "source": [
        "pd.date_range(start = '2020-01-01', end = '2020-12-31', freq='W-MON')"
      ],
      "execution_count": 12,
      "outputs": [
        {
          "output_type": "execute_result",
          "data": {
            "text/plain": [
              "DatetimeIndex(['2020-01-06', '2020-01-13', '2020-01-20', '2020-01-27',\n",
              "               '2020-02-03', '2020-02-10', '2020-02-17', '2020-02-24',\n",
              "               '2020-03-02', '2020-03-09', '2020-03-16', '2020-03-23',\n",
              "               '2020-03-30', '2020-04-06', '2020-04-13', '2020-04-20',\n",
              "               '2020-04-27', '2020-05-04', '2020-05-11', '2020-05-18',\n",
              "               '2020-05-25', '2020-06-01', '2020-06-08', '2020-06-15',\n",
              "               '2020-06-22', '2020-06-29', '2020-07-06', '2020-07-13',\n",
              "               '2020-07-20', '2020-07-27', '2020-08-03', '2020-08-10',\n",
              "               '2020-08-17', '2020-08-24', '2020-08-31', '2020-09-07',\n",
              "               '2020-09-14', '2020-09-21', '2020-09-28', '2020-10-05',\n",
              "               '2020-10-12', '2020-10-19', '2020-10-26', '2020-11-02',\n",
              "               '2020-11-09', '2020-11-16', '2020-11-23', '2020-11-30',\n",
              "               '2020-12-07', '2020-12-14', '2020-12-21', '2020-12-28'],\n",
              "              dtype='datetime64[ns]', freq='W-MON')"
            ]
          },
          "metadata": {
            "tags": []
          },
          "execution_count": 12
        }
      ]
    },
    {
      "cell_type": "markdown",
      "metadata": {
        "id": "XQLYT2m11wVG",
        "colab_type": "text"
      },
      "source": [
        "### <a name='3'></a> Ćwiczenie 113\n",
        "Zbuduj obiekt _DatetimeIndex_ zawierający daty w formacie 'yyyy-mm-dd hh:mm:ss' dla 1 stycznia 2021 roku z odstępem czasowym 1h i przypisz do zmiennej _date_range_.\n",
        "\n",
        "__Oczekiwany wynik:__\n",
        "\n",
        "\n",
        "```\n",
        "DatetimeIndex(['2021-01-01 00:00:00', '2021-01-01 01:00:00',\n",
        "               '2021-01-01 02:00:00', '2021-01-01 03:00:00',\n",
        "               '2021-01-01 04:00:00', '2021-01-01 05:00:00',\n",
        "               '2021-01-01 06:00:00', '2021-01-01 07:00:00',\n",
        "               '2021-01-01 08:00:00', '2021-01-01 09:00:00',\n",
        "               '2021-01-01 10:00:00', '2021-01-01 11:00:00',\n",
        "               '2021-01-01 12:00:00', '2021-01-01 13:00:00',\n",
        "               '2021-01-01 14:00:00', '2021-01-01 15:00:00',\n",
        "               '2021-01-01 16:00:00', '2021-01-01 17:00:00',\n",
        "               '2021-01-01 18:00:00', '2021-01-01 19:00:00',\n",
        "               '2021-01-01 20:00:00', '2021-01-01 21:00:00',\n",
        "               '2021-01-01 22:00:00', '2021-01-01 23:00:00'],\n",
        "              dtype='datetime64[ns]', freq='H')\n",
        "```\n",
        "\n"
      ]
    },
    {
      "cell_type": "code",
      "metadata": {
        "id": "yZyozL_o84dD",
        "colab_type": "code",
        "colab": {
          "base_uri": "https://localhost:8080/",
          "height": 218
        },
        "outputId": "bcedb92d-6eee-4b31-90a3-2cc13582482b"
      },
      "source": [
        "pd.date_range(start = '2020-01-01 00:00:00', end = '2020-12-31 23:00:00', freq='H')"
      ],
      "execution_count": 13,
      "outputs": [
        {
          "output_type": "execute_result",
          "data": {
            "text/plain": [
              "DatetimeIndex(['2020-01-01 00:00:00', '2020-01-01 01:00:00',\n",
              "               '2020-01-01 02:00:00', '2020-01-01 03:00:00',\n",
              "               '2020-01-01 04:00:00', '2020-01-01 05:00:00',\n",
              "               '2020-01-01 06:00:00', '2020-01-01 07:00:00',\n",
              "               '2020-01-01 08:00:00', '2020-01-01 09:00:00',\n",
              "               ...\n",
              "               '2020-12-31 14:00:00', '2020-12-31 15:00:00',\n",
              "               '2020-12-31 16:00:00', '2020-12-31 17:00:00',\n",
              "               '2020-12-31 18:00:00', '2020-12-31 19:00:00',\n",
              "               '2020-12-31 20:00:00', '2020-12-31 21:00:00',\n",
              "               '2020-12-31 22:00:00', '2020-12-31 23:00:00'],\n",
              "              dtype='datetime64[ns]', length=8784, freq='H')"
            ]
          },
          "metadata": {
            "tags": []
          },
          "execution_count": 13
        }
      ]
    },
    {
      "cell_type": "markdown",
      "metadata": {
        "id": "4xTKSUzg10MK",
        "colab_type": "text"
      },
      "source": [
        "### <a name='4'></a> Ćwiczenie 114\n",
        "Zbuduj poniższy obiekt _DataFrame_.\n",
        "\n",
        "__Wskazówki:__ Kolumna _day_ zawiera daty od 01 marca 2021 do 31 marca 2021. Kolumna _day_of_year_ to numer dnia w całym roku.\n",
        "\n",
        "\n",
        "```\n",
        "      day\t       day_of_year\n",
        " 0\t2021-03-01\t60\n",
        " 1\t2021-03-02\t61\n",
        " 2\t2021-03-03\t62\n",
        " 3\t2021-03-04\t63\n",
        " 4\t2021-03-05\t64\n",
        " 5\t2021-03-06\t65\n",
        " 6\t2021-03-07\t66\n",
        " 7\t2021-03-08\t67\n",
        " 8\t2021-03-09\t68\n",
        " 9\t2021-03-10\t69\n",
        "10\t2021-03-11\t70\n",
        "11\t2021-03-12\t71\n",
        "12\t2021-03-13\t72\n",
        "13\t2021-03-14\t73\n",
        "14\t2021-03-15\t74\n",
        "15\t2021-03-16\t75\n",
        "16\t2021-03-17\t76\n",
        "17\t2021-03-18\t77\n",
        "18\t2021-03-19\t78\n",
        "19\t2021-03-20\t79\n",
        "20\t2021-03-21\t80\n",
        "21\t2021-03-22\t81\n",
        "22\t2021-03-23\t82\n",
        "23\t2021-03-24\t83\n",
        "24\t2021-03-25\t84\n",
        "25\t2021-03-26\t85\n",
        "26\t2021-03-27\t86\n",
        "27\t2021-03-28\t87\n",
        "28\t2021-03-29\t88\n",
        "29\t2021-03-30\t89\n",
        "30\t2021-03-31\t90\n",
        "```\n",
        "\n"
      ]
    },
    {
      "cell_type": "code",
      "metadata": {
        "id": "YIWI3YTN_J5E",
        "colab_type": "code",
        "colab": {
          "base_uri": "https://localhost:8080/",
          "height": 965
        },
        "outputId": "975eacd3-ef56-4fab-8334-f5698a8c4003"
      },
      "source": [
        "pd.DataFrame({'day' : pd.date_range(start = '2021-03-1', end = '2021-03-31', freq = 'D'), 'day_of_year' : np.arange(60,91)})"
      ],
      "execution_count": 25,
      "outputs": [
        {
          "output_type": "execute_result",
          "data": {
            "text/html": [
              "<div>\n",
              "<style scoped>\n",
              "    .dataframe tbody tr th:only-of-type {\n",
              "        vertical-align: middle;\n",
              "    }\n",
              "\n",
              "    .dataframe tbody tr th {\n",
              "        vertical-align: top;\n",
              "    }\n",
              "\n",
              "    .dataframe thead th {\n",
              "        text-align: right;\n",
              "    }\n",
              "</style>\n",
              "<table border=\"1\" class=\"dataframe\">\n",
              "  <thead>\n",
              "    <tr style=\"text-align: right;\">\n",
              "      <th></th>\n",
              "      <th>day</th>\n",
              "      <th>day_of_year</th>\n",
              "    </tr>\n",
              "  </thead>\n",
              "  <tbody>\n",
              "    <tr>\n",
              "      <th>0</th>\n",
              "      <td>2021-03-01</td>\n",
              "      <td>60</td>\n",
              "    </tr>\n",
              "    <tr>\n",
              "      <th>1</th>\n",
              "      <td>2021-03-02</td>\n",
              "      <td>61</td>\n",
              "    </tr>\n",
              "    <tr>\n",
              "      <th>2</th>\n",
              "      <td>2021-03-03</td>\n",
              "      <td>62</td>\n",
              "    </tr>\n",
              "    <tr>\n",
              "      <th>3</th>\n",
              "      <td>2021-03-04</td>\n",
              "      <td>63</td>\n",
              "    </tr>\n",
              "    <tr>\n",
              "      <th>4</th>\n",
              "      <td>2021-03-05</td>\n",
              "      <td>64</td>\n",
              "    </tr>\n",
              "    <tr>\n",
              "      <th>5</th>\n",
              "      <td>2021-03-06</td>\n",
              "      <td>65</td>\n",
              "    </tr>\n",
              "    <tr>\n",
              "      <th>6</th>\n",
              "      <td>2021-03-07</td>\n",
              "      <td>66</td>\n",
              "    </tr>\n",
              "    <tr>\n",
              "      <th>7</th>\n",
              "      <td>2021-03-08</td>\n",
              "      <td>67</td>\n",
              "    </tr>\n",
              "    <tr>\n",
              "      <th>8</th>\n",
              "      <td>2021-03-09</td>\n",
              "      <td>68</td>\n",
              "    </tr>\n",
              "    <tr>\n",
              "      <th>9</th>\n",
              "      <td>2021-03-10</td>\n",
              "      <td>69</td>\n",
              "    </tr>\n",
              "    <tr>\n",
              "      <th>10</th>\n",
              "      <td>2021-03-11</td>\n",
              "      <td>70</td>\n",
              "    </tr>\n",
              "    <tr>\n",
              "      <th>11</th>\n",
              "      <td>2021-03-12</td>\n",
              "      <td>71</td>\n",
              "    </tr>\n",
              "    <tr>\n",
              "      <th>12</th>\n",
              "      <td>2021-03-13</td>\n",
              "      <td>72</td>\n",
              "    </tr>\n",
              "    <tr>\n",
              "      <th>13</th>\n",
              "      <td>2021-03-14</td>\n",
              "      <td>73</td>\n",
              "    </tr>\n",
              "    <tr>\n",
              "      <th>14</th>\n",
              "      <td>2021-03-15</td>\n",
              "      <td>74</td>\n",
              "    </tr>\n",
              "    <tr>\n",
              "      <th>15</th>\n",
              "      <td>2021-03-16</td>\n",
              "      <td>75</td>\n",
              "    </tr>\n",
              "    <tr>\n",
              "      <th>16</th>\n",
              "      <td>2021-03-17</td>\n",
              "      <td>76</td>\n",
              "    </tr>\n",
              "    <tr>\n",
              "      <th>17</th>\n",
              "      <td>2021-03-18</td>\n",
              "      <td>77</td>\n",
              "    </tr>\n",
              "    <tr>\n",
              "      <th>18</th>\n",
              "      <td>2021-03-19</td>\n",
              "      <td>78</td>\n",
              "    </tr>\n",
              "    <tr>\n",
              "      <th>19</th>\n",
              "      <td>2021-03-20</td>\n",
              "      <td>79</td>\n",
              "    </tr>\n",
              "    <tr>\n",
              "      <th>20</th>\n",
              "      <td>2021-03-21</td>\n",
              "      <td>80</td>\n",
              "    </tr>\n",
              "    <tr>\n",
              "      <th>21</th>\n",
              "      <td>2021-03-22</td>\n",
              "      <td>81</td>\n",
              "    </tr>\n",
              "    <tr>\n",
              "      <th>22</th>\n",
              "      <td>2021-03-23</td>\n",
              "      <td>82</td>\n",
              "    </tr>\n",
              "    <tr>\n",
              "      <th>23</th>\n",
              "      <td>2021-03-24</td>\n",
              "      <td>83</td>\n",
              "    </tr>\n",
              "    <tr>\n",
              "      <th>24</th>\n",
              "      <td>2021-03-25</td>\n",
              "      <td>84</td>\n",
              "    </tr>\n",
              "    <tr>\n",
              "      <th>25</th>\n",
              "      <td>2021-03-26</td>\n",
              "      <td>85</td>\n",
              "    </tr>\n",
              "    <tr>\n",
              "      <th>26</th>\n",
              "      <td>2021-03-27</td>\n",
              "      <td>86</td>\n",
              "    </tr>\n",
              "    <tr>\n",
              "      <th>27</th>\n",
              "      <td>2021-03-28</td>\n",
              "      <td>87</td>\n",
              "    </tr>\n",
              "    <tr>\n",
              "      <th>28</th>\n",
              "      <td>2021-03-29</td>\n",
              "      <td>88</td>\n",
              "    </tr>\n",
              "    <tr>\n",
              "      <th>29</th>\n",
              "      <td>2021-03-30</td>\n",
              "      <td>89</td>\n",
              "    </tr>\n",
              "    <tr>\n",
              "      <th>30</th>\n",
              "      <td>2021-03-31</td>\n",
              "      <td>90</td>\n",
              "    </tr>\n",
              "  </tbody>\n",
              "</table>\n",
              "</div>"
            ],
            "text/plain": [
              "          day  day_of_year\n",
              "0  2021-03-01           60\n",
              "1  2021-03-02           61\n",
              "2  2021-03-03           62\n",
              "3  2021-03-04           63\n",
              "4  2021-03-05           64\n",
              "5  2021-03-06           65\n",
              "6  2021-03-07           66\n",
              "7  2021-03-08           67\n",
              "8  2021-03-09           68\n",
              "9  2021-03-10           69\n",
              "10 2021-03-11           70\n",
              "11 2021-03-12           71\n",
              "12 2021-03-13           72\n",
              "13 2021-03-14           73\n",
              "14 2021-03-15           74\n",
              "15 2021-03-16           75\n",
              "16 2021-03-17           76\n",
              "17 2021-03-18           77\n",
              "18 2021-03-19           78\n",
              "19 2021-03-20           79\n",
              "20 2021-03-21           80\n",
              "21 2021-03-22           81\n",
              "22 2021-03-23           82\n",
              "23 2021-03-24           83\n",
              "24 2021-03-25           84\n",
              "25 2021-03-26           85\n",
              "26 2021-03-27           86\n",
              "27 2021-03-28           87\n",
              "28 2021-03-29           88\n",
              "29 2021-03-30           89\n",
              "30 2021-03-31           90"
            ]
          },
          "metadata": {
            "tags": []
          },
          "execution_count": 25
        }
      ]
    },
    {
      "cell_type": "code",
      "metadata": {
        "id": "VfQ3f6OFO-6C",
        "colab_type": "code",
        "colab": {
          "base_uri": "https://localhost:8080/",
          "height": 50
        },
        "outputId": "138e2e36-0cde-4126-8979-76db168ff282"
      },
      "source": [
        ""
      ],
      "execution_count": 20,
      "outputs": [
        {
          "output_type": "execute_result",
          "data": {
            "text/plain": [
              "array([60, 61, 62, 63, 64, 65, 66, 67, 68, 69, 70, 71, 72, 73, 74, 75, 76,\n",
              "       77, 78, 79, 80, 81, 82, 83, 84, 85, 86, 87, 88, 89, 90])"
            ]
          },
          "metadata": {
            "tags": []
          },
          "execution_count": 20
        }
      ]
    },
    {
      "cell_type": "markdown",
      "metadata": {
        "id": "o3HKIKlP15Ro",
        "colab_type": "text"
      },
      "source": [
        "### <a name='5'></a> Ćwiczenie 115\n",
        "\n",
        "Podany jest poniższy słownik _data_dict_. \n",
        "\n",
        "```\n",
        "data_dict = {\n",
        "    'normal': np.random.normal(loc=0, scale=1, size=1000),\n",
        "    'uniform': np.random.uniform(low=0, high=1, size=1000),\n",
        "    'binomial': np.random.binomial(n=1, p=0.2, size=1000)\n",
        "}\n",
        "```\n",
        "\n",
        "Zbuduj z tego słownika obiekt _DateFrame_. Dodatkowo jako indeks dodaj datę od 2020-01-01 i przypisz do zmiennej _df_. "
      ]
    },
    {
      "cell_type": "code",
      "metadata": {
        "id": "Wht-9DRbCzGR",
        "colab_type": "code",
        "colab": {
          "base_uri": "https://localhost:8080/",
          "height": 402
        },
        "outputId": "3dae03e6-8e85-4e2b-e1cc-e9737c1c108c"
      },
      "source": [
        "data_dict = {\n",
        "    'normal': np.random.normal(loc=0, scale=1, size=1000),\n",
        "    'uniform': np.random.uniform(low=0, high=1, size=1000),\n",
        "    'binomial': np.random.binomial(n=1, p=0.2, size=1000)\n",
        "}\n",
        "df = pd.DataFrame(data=data_dict, index = pd.date_range(start = '2020-01-01',  periods = 1000, freq = 'D'))\n",
        "df"
      ],
      "execution_count": 31,
      "outputs": [
        {
          "output_type": "execute_result",
          "data": {
            "text/html": [
              "<div>\n",
              "<style scoped>\n",
              "    .dataframe tbody tr th:only-of-type {\n",
              "        vertical-align: middle;\n",
              "    }\n",
              "\n",
              "    .dataframe tbody tr th {\n",
              "        vertical-align: top;\n",
              "    }\n",
              "\n",
              "    .dataframe thead th {\n",
              "        text-align: right;\n",
              "    }\n",
              "</style>\n",
              "<table border=\"1\" class=\"dataframe\">\n",
              "  <thead>\n",
              "    <tr style=\"text-align: right;\">\n",
              "      <th></th>\n",
              "      <th>normal</th>\n",
              "      <th>uniform</th>\n",
              "      <th>binomial</th>\n",
              "    </tr>\n",
              "  </thead>\n",
              "  <tbody>\n",
              "    <tr>\n",
              "      <th>2020-01-01</th>\n",
              "      <td>0.093458</td>\n",
              "      <td>0.192519</td>\n",
              "      <td>0</td>\n",
              "    </tr>\n",
              "    <tr>\n",
              "      <th>2020-01-02</th>\n",
              "      <td>0.392045</td>\n",
              "      <td>0.709403</td>\n",
              "      <td>0</td>\n",
              "    </tr>\n",
              "    <tr>\n",
              "      <th>2020-01-03</th>\n",
              "      <td>-0.864896</td>\n",
              "      <td>0.061407</td>\n",
              "      <td>1</td>\n",
              "    </tr>\n",
              "    <tr>\n",
              "      <th>2020-01-04</th>\n",
              "      <td>1.275247</td>\n",
              "      <td>0.918935</td>\n",
              "      <td>0</td>\n",
              "    </tr>\n",
              "    <tr>\n",
              "      <th>2020-01-05</th>\n",
              "      <td>-1.185852</td>\n",
              "      <td>0.081075</td>\n",
              "      <td>0</td>\n",
              "    </tr>\n",
              "    <tr>\n",
              "      <th>...</th>\n",
              "      <td>...</td>\n",
              "      <td>...</td>\n",
              "      <td>...</td>\n",
              "    </tr>\n",
              "    <tr>\n",
              "      <th>2022-09-22</th>\n",
              "      <td>-0.398592</td>\n",
              "      <td>0.691629</td>\n",
              "      <td>0</td>\n",
              "    </tr>\n",
              "    <tr>\n",
              "      <th>2022-09-23</th>\n",
              "      <td>-1.037326</td>\n",
              "      <td>0.335921</td>\n",
              "      <td>0</td>\n",
              "    </tr>\n",
              "    <tr>\n",
              "      <th>2022-09-24</th>\n",
              "      <td>-0.784567</td>\n",
              "      <td>0.260659</td>\n",
              "      <td>0</td>\n",
              "    </tr>\n",
              "    <tr>\n",
              "      <th>2022-09-25</th>\n",
              "      <td>1.208323</td>\n",
              "      <td>0.956509</td>\n",
              "      <td>0</td>\n",
              "    </tr>\n",
              "    <tr>\n",
              "      <th>2022-09-26</th>\n",
              "      <td>0.244785</td>\n",
              "      <td>0.776881</td>\n",
              "      <td>0</td>\n",
              "    </tr>\n",
              "  </tbody>\n",
              "</table>\n",
              "<p>1000 rows × 3 columns</p>\n",
              "</div>"
            ],
            "text/plain": [
              "              normal   uniform  binomial\n",
              "2020-01-01  0.093458  0.192519         0\n",
              "2020-01-02  0.392045  0.709403         0\n",
              "2020-01-03 -0.864896  0.061407         1\n",
              "2020-01-04  1.275247  0.918935         0\n",
              "2020-01-05 -1.185852  0.081075         0\n",
              "...              ...       ...       ...\n",
              "2022-09-22 -0.398592  0.691629         0\n",
              "2022-09-23 -1.037326  0.335921         0\n",
              "2022-09-24 -0.784567  0.260659         0\n",
              "2022-09-25  1.208323  0.956509         0\n",
              "2022-09-26  0.244785  0.776881         0\n",
              "\n",
              "[1000 rows x 3 columns]"
            ]
          },
          "metadata": {
            "tags": []
          },
          "execution_count": 31
        }
      ]
    },
    {
      "cell_type": "markdown",
      "metadata": {
        "id": "PunXd_Ey16so",
        "colab_type": "text"
      },
      "source": [
        "### <a name='6'></a> Ćwiczenie 116\n",
        "Wyświetl 10 pierwszych wierszy obiektu _df_ z poprzedniego ćwiczenia."
      ]
    },
    {
      "cell_type": "code",
      "metadata": {
        "id": "PzsTK_wpFmD-",
        "colab_type": "code",
        "colab": {
          "base_uri": "https://localhost:8080/",
          "height": 343
        },
        "outputId": "003b9923-5eef-41f9-e3d1-e19f9cb595de"
      },
      "source": [
        "df[:10]"
      ],
      "execution_count": 33,
      "outputs": [
        {
          "output_type": "execute_result",
          "data": {
            "text/html": [
              "<div>\n",
              "<style scoped>\n",
              "    .dataframe tbody tr th:only-of-type {\n",
              "        vertical-align: middle;\n",
              "    }\n",
              "\n",
              "    .dataframe tbody tr th {\n",
              "        vertical-align: top;\n",
              "    }\n",
              "\n",
              "    .dataframe thead th {\n",
              "        text-align: right;\n",
              "    }\n",
              "</style>\n",
              "<table border=\"1\" class=\"dataframe\">\n",
              "  <thead>\n",
              "    <tr style=\"text-align: right;\">\n",
              "      <th></th>\n",
              "      <th>normal</th>\n",
              "      <th>uniform</th>\n",
              "      <th>binomial</th>\n",
              "    </tr>\n",
              "  </thead>\n",
              "  <tbody>\n",
              "    <tr>\n",
              "      <th>2020-01-01</th>\n",
              "      <td>0.093458</td>\n",
              "      <td>0.192519</td>\n",
              "      <td>0</td>\n",
              "    </tr>\n",
              "    <tr>\n",
              "      <th>2020-01-02</th>\n",
              "      <td>0.392045</td>\n",
              "      <td>0.709403</td>\n",
              "      <td>0</td>\n",
              "    </tr>\n",
              "    <tr>\n",
              "      <th>2020-01-03</th>\n",
              "      <td>-0.864896</td>\n",
              "      <td>0.061407</td>\n",
              "      <td>1</td>\n",
              "    </tr>\n",
              "    <tr>\n",
              "      <th>2020-01-04</th>\n",
              "      <td>1.275247</td>\n",
              "      <td>0.918935</td>\n",
              "      <td>0</td>\n",
              "    </tr>\n",
              "    <tr>\n",
              "      <th>2020-01-05</th>\n",
              "      <td>-1.185852</td>\n",
              "      <td>0.081075</td>\n",
              "      <td>0</td>\n",
              "    </tr>\n",
              "    <tr>\n",
              "      <th>2020-01-06</th>\n",
              "      <td>0.832092</td>\n",
              "      <td>0.914231</td>\n",
              "      <td>1</td>\n",
              "    </tr>\n",
              "    <tr>\n",
              "      <th>2020-01-07</th>\n",
              "      <td>0.820607</td>\n",
              "      <td>0.490807</td>\n",
              "      <td>0</td>\n",
              "    </tr>\n",
              "    <tr>\n",
              "      <th>2020-01-08</th>\n",
              "      <td>-0.974167</td>\n",
              "      <td>0.448091</td>\n",
              "      <td>1</td>\n",
              "    </tr>\n",
              "    <tr>\n",
              "      <th>2020-01-09</th>\n",
              "      <td>1.983374</td>\n",
              "      <td>0.973307</td>\n",
              "      <td>0</td>\n",
              "    </tr>\n",
              "    <tr>\n",
              "      <th>2020-01-10</th>\n",
              "      <td>0.231528</td>\n",
              "      <td>0.990384</td>\n",
              "      <td>0</td>\n",
              "    </tr>\n",
              "  </tbody>\n",
              "</table>\n",
              "</div>"
            ],
            "text/plain": [
              "              normal   uniform  binomial\n",
              "2020-01-01  0.093458  0.192519         0\n",
              "2020-01-02  0.392045  0.709403         0\n",
              "2020-01-03 -0.864896  0.061407         1\n",
              "2020-01-04  1.275247  0.918935         0\n",
              "2020-01-05 -1.185852  0.081075         0\n",
              "2020-01-06  0.832092  0.914231         1\n",
              "2020-01-07  0.820607  0.490807         0\n",
              "2020-01-08 -0.974167  0.448091         1\n",
              "2020-01-09  1.983374  0.973307         0\n",
              "2020-01-10  0.231528  0.990384         0"
            ]
          },
          "metadata": {
            "tags": []
          },
          "execution_count": 33
        }
      ]
    },
    {
      "cell_type": "markdown",
      "metadata": {
        "id": "o3v76FW0FvkQ",
        "colab_type": "text"
      },
      "source": [
        "Wyświetl 8 ostatnich wierszy obiektu df z poprzedniego ćwiczenia."
      ]
    },
    {
      "cell_type": "code",
      "metadata": {
        "id": "l3gwfUBWFxyR",
        "colab_type": "code",
        "colab": {
          "base_uri": "https://localhost:8080/",
          "height": 284
        },
        "outputId": "aada9e91-20fb-43ce-b3aa-519885ad2621"
      },
      "source": [
        "df[-8:]"
      ],
      "execution_count": 34,
      "outputs": [
        {
          "output_type": "execute_result",
          "data": {
            "text/html": [
              "<div>\n",
              "<style scoped>\n",
              "    .dataframe tbody tr th:only-of-type {\n",
              "        vertical-align: middle;\n",
              "    }\n",
              "\n",
              "    .dataframe tbody tr th {\n",
              "        vertical-align: top;\n",
              "    }\n",
              "\n",
              "    .dataframe thead th {\n",
              "        text-align: right;\n",
              "    }\n",
              "</style>\n",
              "<table border=\"1\" class=\"dataframe\">\n",
              "  <thead>\n",
              "    <tr style=\"text-align: right;\">\n",
              "      <th></th>\n",
              "      <th>normal</th>\n",
              "      <th>uniform</th>\n",
              "      <th>binomial</th>\n",
              "    </tr>\n",
              "  </thead>\n",
              "  <tbody>\n",
              "    <tr>\n",
              "      <th>2022-09-19</th>\n",
              "      <td>-0.753189</td>\n",
              "      <td>0.246371</td>\n",
              "      <td>0</td>\n",
              "    </tr>\n",
              "    <tr>\n",
              "      <th>2022-09-20</th>\n",
              "      <td>-0.295481</td>\n",
              "      <td>0.507344</td>\n",
              "      <td>1</td>\n",
              "    </tr>\n",
              "    <tr>\n",
              "      <th>2022-09-21</th>\n",
              "      <td>0.207838</td>\n",
              "      <td>0.141850</td>\n",
              "      <td>0</td>\n",
              "    </tr>\n",
              "    <tr>\n",
              "      <th>2022-09-22</th>\n",
              "      <td>-0.398592</td>\n",
              "      <td>0.691629</td>\n",
              "      <td>0</td>\n",
              "    </tr>\n",
              "    <tr>\n",
              "      <th>2022-09-23</th>\n",
              "      <td>-1.037326</td>\n",
              "      <td>0.335921</td>\n",
              "      <td>0</td>\n",
              "    </tr>\n",
              "    <tr>\n",
              "      <th>2022-09-24</th>\n",
              "      <td>-0.784567</td>\n",
              "      <td>0.260659</td>\n",
              "      <td>0</td>\n",
              "    </tr>\n",
              "    <tr>\n",
              "      <th>2022-09-25</th>\n",
              "      <td>1.208323</td>\n",
              "      <td>0.956509</td>\n",
              "      <td>0</td>\n",
              "    </tr>\n",
              "    <tr>\n",
              "      <th>2022-09-26</th>\n",
              "      <td>0.244785</td>\n",
              "      <td>0.776881</td>\n",
              "      <td>0</td>\n",
              "    </tr>\n",
              "  </tbody>\n",
              "</table>\n",
              "</div>"
            ],
            "text/plain": [
              "              normal   uniform  binomial\n",
              "2022-09-19 -0.753189  0.246371         0\n",
              "2022-09-20 -0.295481  0.507344         1\n",
              "2022-09-21  0.207838  0.141850         0\n",
              "2022-09-22 -0.398592  0.691629         0\n",
              "2022-09-23 -1.037326  0.335921         0\n",
              "2022-09-24 -0.784567  0.260659         0\n",
              "2022-09-25  1.208323  0.956509         0\n",
              "2022-09-26  0.244785  0.776881         0"
            ]
          },
          "metadata": {
            "tags": []
          },
          "execution_count": 34
        }
      ]
    },
    {
      "cell_type": "markdown",
      "metadata": {
        "id": "hOhqDRz618Tx",
        "colab_type": "text"
      },
      "source": [
        "### <a name='7'></a> Ćwiczenie 117\n",
        "Wyświetl podstawowe informacje o obiekcie _df_ (liczba wierszy, liczba kolumn, typ zmiennych)."
      ]
    },
    {
      "cell_type": "code",
      "metadata": {
        "id": "e18yLk_VF2EJ",
        "colab_type": "code",
        "colab": {
          "base_uri": "https://localhost:8080/",
          "height": 252
        },
        "outputId": "2774582f-54a6-4dd4-df1d-39889ad932e7"
      },
      "source": [
        "df.info"
      ],
      "execution_count": 35,
      "outputs": [
        {
          "output_type": "execute_result",
          "data": {
            "text/plain": [
              "<bound method DataFrame.info of               normal   uniform  binomial\n",
              "2020-01-01  0.093458  0.192519         0\n",
              "2020-01-02  0.392045  0.709403         0\n",
              "2020-01-03 -0.864896  0.061407         1\n",
              "2020-01-04  1.275247  0.918935         0\n",
              "2020-01-05 -1.185852  0.081075         0\n",
              "...              ...       ...       ...\n",
              "2022-09-22 -0.398592  0.691629         0\n",
              "2022-09-23 -1.037326  0.335921         0\n",
              "2022-09-24 -0.784567  0.260659         0\n",
              "2022-09-25  1.208323  0.956509         0\n",
              "2022-09-26  0.244785  0.776881         0\n",
              "\n",
              "[1000 rows x 3 columns]>"
            ]
          },
          "metadata": {
            "tags": []
          },
          "execution_count": 35
        }
      ]
    },
    {
      "cell_type": "markdown",
      "metadata": {
        "id": "6tvw_gIWG9zf",
        "colab_type": "text"
      },
      "source": [
        "Wyświetl podstawowe statystyki obiektu _df_ (wartość średnia, odchylenie, min, max, mediana)."
      ]
    },
    {
      "cell_type": "code",
      "metadata": {
        "id": "tJIGXaAzF30k",
        "colab_type": "code",
        "colab": {
          "base_uri": "https://localhost:8080/",
          "height": 284
        },
        "outputId": "5ce09d1d-3042-4961-ffd4-45e747b89f08"
      },
      "source": [
        "df.describe()"
      ],
      "execution_count": 37,
      "outputs": [
        {
          "output_type": "execute_result",
          "data": {
            "text/html": [
              "<div>\n",
              "<style scoped>\n",
              "    .dataframe tbody tr th:only-of-type {\n",
              "        vertical-align: middle;\n",
              "    }\n",
              "\n",
              "    .dataframe tbody tr th {\n",
              "        vertical-align: top;\n",
              "    }\n",
              "\n",
              "    .dataframe thead th {\n",
              "        text-align: right;\n",
              "    }\n",
              "</style>\n",
              "<table border=\"1\" class=\"dataframe\">\n",
              "  <thead>\n",
              "    <tr style=\"text-align: right;\">\n",
              "      <th></th>\n",
              "      <th>normal</th>\n",
              "      <th>uniform</th>\n",
              "      <th>binomial</th>\n",
              "    </tr>\n",
              "  </thead>\n",
              "  <tbody>\n",
              "    <tr>\n",
              "      <th>count</th>\n",
              "      <td>1000.000000</td>\n",
              "      <td>1000.000000</td>\n",
              "      <td>1000.000000</td>\n",
              "    </tr>\n",
              "    <tr>\n",
              "      <th>mean</th>\n",
              "      <td>0.057813</td>\n",
              "      <td>0.506970</td>\n",
              "      <td>0.218000</td>\n",
              "    </tr>\n",
              "    <tr>\n",
              "      <th>std</th>\n",
              "      <td>1.026700</td>\n",
              "      <td>0.282643</td>\n",
              "      <td>0.413094</td>\n",
              "    </tr>\n",
              "    <tr>\n",
              "      <th>min</th>\n",
              "      <td>-3.082562</td>\n",
              "      <td>0.001243</td>\n",
              "      <td>0.000000</td>\n",
              "    </tr>\n",
              "    <tr>\n",
              "      <th>25%</th>\n",
              "      <td>-0.638516</td>\n",
              "      <td>0.267548</td>\n",
              "      <td>0.000000</td>\n",
              "    </tr>\n",
              "    <tr>\n",
              "      <th>50%</th>\n",
              "      <td>0.071705</td>\n",
              "      <td>0.507560</td>\n",
              "      <td>0.000000</td>\n",
              "    </tr>\n",
              "    <tr>\n",
              "      <th>75%</th>\n",
              "      <td>0.759880</td>\n",
              "      <td>0.742104</td>\n",
              "      <td>0.000000</td>\n",
              "    </tr>\n",
              "    <tr>\n",
              "      <th>max</th>\n",
              "      <td>3.428910</td>\n",
              "      <td>0.998943</td>\n",
              "      <td>1.000000</td>\n",
              "    </tr>\n",
              "  </tbody>\n",
              "</table>\n",
              "</div>"
            ],
            "text/plain": [
              "            normal      uniform     binomial\n",
              "count  1000.000000  1000.000000  1000.000000\n",
              "mean      0.057813     0.506970     0.218000\n",
              "std       1.026700     0.282643     0.413094\n",
              "min      -3.082562     0.001243     0.000000\n",
              "25%      -0.638516     0.267548     0.000000\n",
              "50%       0.071705     0.507560     0.000000\n",
              "75%       0.759880     0.742104     0.000000\n",
              "max       3.428910     0.998943     1.000000"
            ]
          },
          "metadata": {
            "tags": []
          },
          "execution_count": 37
        }
      ]
    },
    {
      "cell_type": "markdown",
      "metadata": {
        "id": "TXUd_4631-gw",
        "colab_type": "text"
      },
      "source": [
        "### <a name='8'></a> Ćwiczenie 118\n",
        "Zaimportuj bibliotekę _seaborn_ do wizualizacji danych."
      ]
    },
    {
      "cell_type": "code",
      "metadata": {
        "id": "TPmoKddoI0mG",
        "colab_type": "code",
        "colab": {
          "base_uri": "https://localhost:8080/",
          "height": 70
        },
        "outputId": "b965795f-ff10-4dff-e716-8a7cca811e3e"
      },
      "source": [
        "import seaborn as sns\n",
        "\n",
        "sns.set()"
      ],
      "execution_count": 38,
      "outputs": [
        {
          "output_type": "stream",
          "text": [
            "/usr/local/lib/python3.6/dist-packages/statsmodels/tools/_testing.py:19: FutureWarning: pandas.util.testing is deprecated. Use the functions in the public API at pandas.testing instead.\n",
            "  import pandas.util.testing as tm\n"
          ],
          "name": "stderr"
        }
      ]
    },
    {
      "cell_type": "markdown",
      "metadata": {
        "id": "HvUH5nvAI9BT",
        "colab_type": "text"
      },
      "source": [
        "Używając meteody _pd.DataFrame.plot_ zbuduj histogramy dla kolejnych trzech zmiennych.\n",
        "* normal (20 słupków)"
      ]
    },
    {
      "cell_type": "code",
      "metadata": {
        "id": "c2DBtW_hHLu5",
        "colab_type": "code",
        "colab": {
          "base_uri": "https://localhost:8080/",
          "height": 285
        },
        "outputId": "35004b94-2bca-4fc0-fd17-26f76275043c"
      },
      "source": [
        "df['normal'].plot(kind = 'hist', bins = 20)"
      ],
      "execution_count": 41,
      "outputs": [
        {
          "output_type": "execute_result",
          "data": {
            "text/plain": [
              "<matplotlib.axes._subplots.AxesSubplot at 0x7f044430ed30>"
            ]
          },
          "metadata": {
            "tags": []
          },
          "execution_count": 41
        },
        {
          "output_type": "display_data",
          "data": {
            "image/png": "[encoded data removed]",
            "text/plain": [
              "<Figure size 432x288 with 1 Axes>"
            ]
          },
          "metadata": {
            "tags": []
          }
        }
      ]
    },
    {
      "cell_type": "markdown",
      "metadata": {
        "id": "gac76vK9IkMn",
        "colab_type": "text"
      },
      "source": [
        "* uniform (30 słupków)"
      ]
    },
    {
      "cell_type": "code",
      "metadata": {
        "id": "qDcrUndYHb23",
        "colab_type": "code",
        "colab": {
          "base_uri": "https://localhost:8080/",
          "height": 285
        },
        "outputId": "0dd3f5e0-c1f2-43d8-99d0-9689415ea30c"
      },
      "source": [
        "df['uniform'].plot(kind = 'hist', bins = 30)"
      ],
      "execution_count": 42,
      "outputs": [
        {
          "output_type": "execute_result",
          "data": {
            "text/plain": [
              "<matplotlib.axes._subplots.AxesSubplot at 0x7f0443b66f28>"
            ]
          },
          "metadata": {
            "tags": []
          },
          "execution_count": 42
        },
        {
          "output_type": "display_data",
          "data": {
            "image/png": "[encoded data removed]",
            "text/plain": [
              "<Figure size 432x288 with 1 Axes>"
            ]
          },
          "metadata": {
            "tags": []
          }
        }
      ]
    },
    {
      "cell_type": "markdown",
      "metadata": {
        "id": "HPugPFLQIlft",
        "colab_type": "text"
      },
      "source": [
        "* binomial"
      ]
    },
    {
      "cell_type": "code",
      "metadata": {
        "id": "xJ4t0FRcHfgn",
        "colab_type": "code",
        "colab": {
          "base_uri": "https://localhost:8080/",
          "height": 285
        },
        "outputId": "3787545e-75a6-4c9c-fa32-0a532d2f9cb3"
      },
      "source": [
        "df['binomial'].plot(kind = 'hist')"
      ],
      "execution_count": 43,
      "outputs": [
        {
          "output_type": "execute_result",
          "data": {
            "text/plain": [
              "<matplotlib.axes._subplots.AxesSubplot at 0x7f0443aaaa20>"
            ]
          },
          "metadata": {
            "tags": []
          },
          "execution_count": 43
        },
        {
          "output_type": "display_data",
          "data": {
            "image/png": "[encoded data removed]",
            "text/plain": [
              "<Figure size 432x288 with 1 Axes>"
            ]
          },
          "metadata": {
            "tags": []
          }
        }
      ]
    },
    {
      "cell_type": "markdown",
      "metadata": {
        "id": "tgI6xEn-2AQo",
        "colab_type": "text"
      },
      "source": [
        "### <a name='9'></a> Ćwiczenie 119\n",
        "Zapisz obiekt _df_ do pliku _'dataframe.csv'_."
      ]
    },
    {
      "cell_type": "code",
      "metadata": {
        "id": "qt3ZR1H-JHyg",
        "colab_type": "code",
        "colab": {}
      },
      "source": [
        "df.to_csv('dataframe.csv', sep = ',')"
      ],
      "execution_count": 46,
      "outputs": []
    },
    {
      "cell_type": "markdown",
      "metadata": {
        "id": "n_sqLBSCMESQ",
        "colab_type": "text"
      },
      "source": [
        "__Sprawdzenie:__\n",
        "Wyświetlenie 5 pierwszych linijek pliku _dataframe.csv_"
      ]
    },
    {
      "cell_type": "code",
      "metadata": {
        "id": "gZrRVcqULzVq",
        "colab_type": "code",
        "colab": {
          "base_uri": "https://localhost:8080/",
          "height": 101
        },
        "outputId": "54acac13-0c98-49c6-d4d7-e2ba6a7c7e86"
      },
      "source": [
        "!head -5 dataframe.csv"
      ],
      "execution_count": 47,
      "outputs": [
        {
          "output_type": "stream",
          "text": [
            ",normal,uniform,binomial\n",
            "2020-01-01,0.09345849176635274,0.192518871819798,0\n",
            "2020-01-02,0.3920445038685057,0.7094027697193312,0\n",
            "2020-01-03,-0.8648961124284227,0.061406583141121684,1\n",
            "2020-01-04,1.2752470129219724,0.9189347431104973,0\n"
          ],
          "name": "stdout"
        }
      ]
    },
    {
      "cell_type": "markdown",
      "metadata": {
        "id": "wxhpf-uq2B1I",
        "colab_type": "text"
      },
      "source": [
        "### <a name='10'></a> Ćwiczenie 110\n",
        "Wczytaj do zmiennej _df_new_ plik _dataframe.csv_ (pamiętaj o poprawnym wczytaniu indeksu)."
      ]
    },
    {
      "cell_type": "code",
      "metadata": {
        "id": "YFc0KW6URsuc",
        "colab_type": "code",
        "colab": {}
      },
      "source": [
        "df_new = pd.read_csv('dataframe.csv', sep = ',')"
      ],
      "execution_count": 48,
      "outputs": []
    },
    {
      "cell_type": "code",
      "metadata": {
        "id": "CgUB8fKSSOzr",
        "colab_type": "code",
        "colab": {
          "base_uri": "https://localhost:8080/",
          "height": 402
        },
        "outputId": "9aa7c48f-a366-4535-d574-d8b00f58457c"
      },
      "source": [
        "df_new"
      ],
      "execution_count": 50,
      "outputs": [
        {
          "output_type": "execute_result",
          "data": {
            "text/html": [
              "<div>\n",
              "<style scoped>\n",
              "    .dataframe tbody tr th:only-of-type {\n",
              "        vertical-align: middle;\n",
              "    }\n",
              "\n",
              "    .dataframe tbody tr th {\n",
              "        vertical-align: top;\n",
              "    }\n",
              "\n",
              "    .dataframe thead th {\n",
              "        text-align: right;\n",
              "    }\n",
              "</style>\n",
              "<table border=\"1\" class=\"dataframe\">\n",
              "  <thead>\n",
              "    <tr style=\"text-align: right;\">\n",
              "      <th></th>\n",
              "      <th>Unnamed: 0</th>\n",
              "      <th>normal</th>\n",
              "      <th>uniform</th>\n",
              "      <th>binomial</th>\n",
              "    </tr>\n",
              "  </thead>\n",
              "  <tbody>\n",
              "    <tr>\n",
              "      <th>0</th>\n",
              "      <td>2020-01-01</td>\n",
              "      <td>0.093458</td>\n",
              "      <td>0.192519</td>\n",
              "      <td>0</td>\n",
              "    </tr>\n",
              "    <tr>\n",
              "      <th>1</th>\n",
              "      <td>2020-01-02</td>\n",
              "      <td>0.392045</td>\n",
              "      <td>0.709403</td>\n",
              "      <td>0</td>\n",
              "    </tr>\n",
              "    <tr>\n",
              "      <th>2</th>\n",
              "      <td>2020-01-03</td>\n",
              "      <td>-0.864896</td>\n",
              "      <td>0.061407</td>\n",
              "      <td>1</td>\n",
              "    </tr>\n",
              "    <tr>\n",
              "      <th>3</th>\n",
              "      <td>2020-01-04</td>\n",
              "      <td>1.275247</td>\n",
              "      <td>0.918935</td>\n",
              "      <td>0</td>\n",
              "    </tr>\n",
              "    <tr>\n",
              "      <th>4</th>\n",
              "      <td>2020-01-05</td>\n",
              "      <td>-1.185852</td>\n",
              "      <td>0.081075</td>\n",
              "      <td>0</td>\n",
              "    </tr>\n",
              "    <tr>\n",
              "      <th>...</th>\n",
              "      <td>...</td>\n",
              "      <td>...</td>\n",
              "      <td>...</td>\n",
              "      <td>...</td>\n",
              "    </tr>\n",
              "    <tr>\n",
              "      <th>995</th>\n",
              "      <td>2022-09-22</td>\n",
              "      <td>-0.398592</td>\n",
              "      <td>0.691629</td>\n",
              "      <td>0</td>\n",
              "    </tr>\n",
              "    <tr>\n",
              "      <th>996</th>\n",
              "      <td>2022-09-23</td>\n",
              "      <td>-1.037326</td>\n",
              "      <td>0.335921</td>\n",
              "      <td>0</td>\n",
              "    </tr>\n",
              "    <tr>\n",
              "      <th>997</th>\n",
              "      <td>2022-09-24</td>\n",
              "      <td>-0.784567</td>\n",
              "      <td>0.260659</td>\n",
              "      <td>0</td>\n",
              "    </tr>\n",
              "    <tr>\n",
              "      <th>998</th>\n",
              "      <td>2022-09-25</td>\n",
              "      <td>1.208323</td>\n",
              "      <td>0.956509</td>\n",
              "      <td>0</td>\n",
              "    </tr>\n",
              "    <tr>\n",
              "      <th>999</th>\n",
              "      <td>2022-09-26</td>\n",
              "      <td>0.244785</td>\n",
              "      <td>0.776881</td>\n",
              "      <td>0</td>\n",
              "    </tr>\n",
              "  </tbody>\n",
              "</table>\n",
              "<p>1000 rows × 4 columns</p>\n",
              "</div>"
            ],
            "text/plain": [
              "     Unnamed: 0    normal   uniform  binomial\n",
              "0    2020-01-01  0.093458  0.192519         0\n",
              "1    2020-01-02  0.392045  0.709403         0\n",
              "2    2020-01-03 -0.864896  0.061407         1\n",
              "3    2020-01-04  1.275247  0.918935         0\n",
              "4    2020-01-05 -1.185852  0.081075         0\n",
              "..          ...       ...       ...       ...\n",
              "995  2022-09-22 -0.398592  0.691629         0\n",
              "996  2022-09-23 -1.037326  0.335921         0\n",
              "997  2022-09-24 -0.784567  0.260659         0\n",
              "998  2022-09-25  1.208323  0.956509         0\n",
              "999  2022-09-26  0.244785  0.776881         0\n",
              "\n",
              "[1000 rows x 4 columns]"
            ]
          },
          "metadata": {
            "tags": []
          },
          "execution_count": 50
        }
      ]
    },
    {
      "cell_type": "code",
      "metadata": {
        "id": "twXKnaY6SP-h",
        "colab_type": "code",
        "colab": {}
      },
      "source": [
        ""
      ],
      "execution_count": null,
      "outputs": []
    }
  ]
}